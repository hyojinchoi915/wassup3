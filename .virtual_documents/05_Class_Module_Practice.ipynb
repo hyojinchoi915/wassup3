


class Calculator:
    def __init__(self):
        self.value = 0    

    def add(self, val):
        self.value += val

class UpgradeCalculator(Calculator) :  
    def minus(self, val) :
        self.value -= val
        
cal = UpgradeCalculator()
cal.add(10)
cal.minus(7)
print(cal.value)





class Calculator:
    def __init__(self):
        self.value = 0
    def add(self, val):
        self.value += val

class MaxLimitCalculator(Calculator) :
    def add(self, val) :
        self.value += val
        if self.value > 100 :
            self.value = 100

cal = MaxLimitCalculator()
cal.add(50) # 50 더하기
cal.add(60) # 60 더하기

print(cal.value) # 100 출력





1. False / 2. True





list(filter(lambda a : a >0, [1, -2, 3, -5, 8, -3]))











list(map(lambda x : x*3, [1, 2, 3, 4]))





list = [-8, 2, 7, 5, -3, 5, 0, 1]
result = max(list) + min(list)
print(result)





x = 17 / 3
round(x, 4)





























import random
data = range(1,46)
로또 = random.sample(data, 6)
print(로또)



