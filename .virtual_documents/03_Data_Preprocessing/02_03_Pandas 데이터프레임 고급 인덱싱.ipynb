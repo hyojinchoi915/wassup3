














import pandas as pd
import numpy as np


df = pd.DataFrame(np.arange(10, 22).reshape(3, 4),
                  index=["a", "b", "c"],
                  columns=["A", "B", "C", "D"])
df








df['A']


df.loc["a"]





df.loc["b":"c"]





df["b":"c"] # -> 슬라이싱은 원래 행기반이라 되는거





df.loc[ ["a", "c"] ]





df[["b", "c"]] # KeyError -> 





df.A


df.A > 15


df.loc[df.A > 15]





def select_rows(df):
    return df.A > 12


select_rows(df)


df.loc[select_rows(df)]





df['A']


df.loc["A"]  # KeyError -> 행 인덱스가 없기 때문에 안나옴 (loc은 행기반)


df[["A", "B"]] 





df2 = pd.DataFrame(np.arange(10, 26).reshape(4, 4), columns=["A", "B", "C", "D"])
df2


df2.loc[1:2]














df


df.loc["a", "A"]





df.loc["b": , "A"] #행은 슬라이싱, 열은 인덱싱한거..


df.loc["a", :] #행은 인덱싱, 열은 전부 슬라이싱 -> 중요한 점은 반드시 시리얼로 반환한다는 점.


df.loc[["a", "c"], ["A", "D"]] #행은 a,c따로따로 리스트로 뽑고 열도 A,D 따로 하고 싶다.





df.A > 10


df.loc[df.A > 10, ["C", "D"]]








df


df.iloc[0, 1]


df.iloc[:2, 2]


df.iloc[0, -2:]


df.iloc[2:3, 1:3]





df


df.iloc[-1]


df.iloc[-1] = df.iloc[-1] * 2
df


df.iloc[2:3, 1:3]
