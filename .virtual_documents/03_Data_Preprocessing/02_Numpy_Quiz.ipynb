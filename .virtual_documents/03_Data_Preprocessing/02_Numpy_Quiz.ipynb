





import numpy as np


a = np.array(['강아지', '원숭이', '꽃', '45', '100'])
a, a.ndim, a.size, type(a), a.dtype, a.shape





a = np.ones((2, 3))
a





a = np.arange(51, 81)
a.reshape(6, 5)





a = a.astype(float)
a.dtype





b = np.array([[ 1,  4,  5,  6], [56, 23, 45, 67],  [ 8,  4,  6, 10]])
b = b.flatten()
b[5:11]





a = np.arange(1, 11)
a[0] = 10
a[-1] = 0
a[-2] = 0
a[-3] = 0
a





a = np.random.randint(10, 99, (5, 5))
a





a = np.random.randint(1, 100, 7)
a, a.max(), a.min()





a = np.array([[1, 2, 3], [4, 5, 6], [7, 8, 9]])
b = np.array([[11, 12, 13], [14, 15, 16], [17, 18, 19]])
c = np.array([[21, 22, 23], [24, 25, 26], [27, 28, 29]])


# Result 1
r1 = np.hstack((a, b, c))
r1


# Result 2
r2 = np.vstack((a, b, c))
r2





arr = np.random.choice(100, 40, replace=False)
arr, arr[arr > 50]






