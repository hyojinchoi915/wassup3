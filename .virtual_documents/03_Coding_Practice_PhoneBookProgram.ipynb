





contact = {} #비어있는 딕셔너리를 미리 선언.. 연락처추가할 딕셔너리가 ㅇㅆ어야하니깐

while True :
    print('-----전화번호부 프로그램-----')
    print('1.추가   2. 보기   3. 검색   4.수정   5.삭제   6.종료')
    menu = int(input('메뉴를 선택해주세요.(숫자only): '))
    
    if menu == 1:
        print('연락처를 추가합니다.')
        new_name = input('이름: ')
        new_tel = input('전화번호: ')
        print(new_name, new_tel)
        contact[new_name] = new_tel
    
    elif menu == 2:
        print('연락처를 조회합니다.')
        print(contact)
        
    elif menu == 3:
        print('연락처를 검색합니다.')
        search_name = input('검색 이름: ')
        # print(contact[search_name])
        print(contact.get(search_name, '없는 이름입니다.'))
   
    elif menu == 4:
        print('연락처를 수정합니다.')
        mod_name = input('수정 이름: ')
        mod_tel = input('새 전화번호: ')
        contact[mod_name] = mod_tel
        
        if mod_name in contact :
            mod_tel = input("새 전화번호 : ')
        else : 
            print('등록되지 않은 이릅이니다.')
    
    elif menu == 5:
        print('연락처를 삭제합니다.')
        del_name = input('삭제 이름: ')
        del contact[del_name]
        
    elif menu == 6:
        print('연락처를 종료합니다.')
        break
        
    else :    #else를 따로 넣어주는 이유는 .. 예외처리를 위해서 
        print('잘못된 입력입니다.')




# 전화번호 리스트 
phoneBook = {"홍길동":"010-123-4567"}
print(phoneBook)


#기능 1 연락처 추가
phoneBook = {'홍길동':"010-123-4567"}
addN = input("이름")
addP = input("전화번호")
if addN and addP == True : 
    phoneBook = phoneBook['addN'] = 'addP'
print(phoneBook)


# 기능 2 연락처 전체보기
print(phoneBook)


# 기능 3 검색, 이름을 입력받아서 전화번호 조회
phoneBook = {'홍길동':"010-123-4567", '나나': "010-000-0000"}
NfindP = str(input("이름으로 검색"))
PN = phoneBook[NfindP]
for NfindP in phoneBook :
    print(PN)


# 기능4 : 수정, 이름을 입력받아서 전화번호 입력수정
phoneBook = {'홍길동':"010-123-4567"}
NmodP = str(input("이름으로 전화번호 수정"))
for NmodP in phoneBook :
    NmodP2 = input("수정할 전화번호 입력")
    phoneBook[NmodP] = NmodP2
print("수정이 완료되었습니다", phoneBook)


# 기능5 : 삭제, 이름 입력받아서 삭제
phoneBook = {'홍길동':"010-123-4567"}
ND = str(input("이름으로 삭제"))
for ND in phoneBook :
    
    phoneBook[NmodP] = NmodP2
print("수정이 완료되었습니다", phoneBook)
