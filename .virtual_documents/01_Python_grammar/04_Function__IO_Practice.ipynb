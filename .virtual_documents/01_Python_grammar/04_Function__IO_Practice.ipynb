


def is_odd(number) :
    if number % 2 == 0 :
        return True
    else : 
        return False





def avg_numbers(*args) :
    result = 0
    for i in args :
        result += i
    return result/i

avg_numbers(1,2)





input1 = int(input("첫번째 숫자를 입력하세요:"))
input2 = int(input("두번째 숫자를 입력하세요:"))

total = input1 + input2
print("두 수의 합은 %s 입니다" % total)





3번





f1 = open("test.txt", 'w')
f1.write("Life is too short")

f2 = open("test.txt", 'r')
print(f2.read())
f.close()





user_input = input("저장할 내용을 입력하세요: ")
f = open('test.txt', 'a') # 내용을 추가하기 위해 'a'를 사용
f.write(user_input)
f.write('\n') # 입력한 내용을 줄단위로 구분하기 위해 줄 바꿈 문자 삽입
f.close()





Life is too short
you need java
f = open('test.txt', 'r')
body = f.read() # test.txt 파일의 내용을 body 변수에 저장
f.close()

body = body.replace('java', 'python')   # body 문자열에서 "java"를 "python"으로 변경

f = open('test.txt', 'w')  # 파일을 쓰기 모드로 다시 실행
f.write(body)
f.close()



