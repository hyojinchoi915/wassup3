





abs(3)


abs(-3)





all([1,2,3,])


all([1,2,3,0])


all([])





any([1,2,3,0])


any([0,''])


any([])





chr(97)





dir([1, 2, 3])





divmod(7, 3) # 7//3, 7%3 과 같음





for i, name in enumerate(['body', 'foo', 'bar']):
    print(i, name)





eval('1+2')





def positive(l): 
    result = [] 
    for i in l: 
        if i > 0: 
            result.append(i) 
    return result

print(positive([1,-3,2,0,-5,6]))


def positive(x) :
    return x > 0


filter(positive, [1,-3,2,0,-5,6])


list(filter(positive, [1,-3,2,0,-5,6]))


list(filter(lambda x: x > 0, [1, -3, 2, 0, -5, 6]))





int('3')


int('11', 2) #10진수를 2진수로 표현해줘


int('11', 16) #10진수를 16진수로 표현해줘





class Person: pass


a = Person()
a


isinstance(a, Person)





list('python')


list((1,2,3))





def two_times(numberList):
    result = []
    for number in numberList:
        result.append(number*2)
    return result

result = two_times([1, 2, 3, 4])
print(result)


def two_times(x): 
...     return x*2


list(map(two_times, [1, 2, 3, 4]))


list(map(lambda x : x*2, [1, 2, 3, 4]))





max([1, 2, 3])





min([1, 2, 3])





ord('a')





 pow(2, 4)





range(5)


range?


list(range(5))





round(5.678,2)





sorted([3, 1, 2])


sorted(['a', 'c', 'b'])


sorted('zero')





zip([1,2,3],[4,5,6])


list(zip([1,2,3],[4,5,6]))








import datetime
day1 = datetime.date(2024, 5, 2)
day2 = datetime.date(2024, 6, 18)


day1, day2


diff = day2 - day1
diff.days


day = datetime.date(2024, 6, 18)
day.weekday()


day.isoweekday()





import time
time.time()


time.localtime(time.time())


time.asctime(time.localtime(time.time()))


time.ctime()


time.strftime('%x', time.localtime(time.time()))


time.strftime('%c', time.localtime(time.time()))


for i in range(10) :
    print(i)
    time.sleep(1)





import random
random.random()


import random
로또번호 = []
while len(로또번호) < 6:
    번호 = random.randint(1, 45)
    if 번호 not in 로또번호:
        로또번호.append(번호)
로또번호


random.choice?


def random_pop(data):
    number = random.choice(data)
    data.remove(number)
    return number





pwd # 현재 경로


import glob
glob.glob('C:\\workspace\\wassup3\\01_Python_grammar/*.ipynb')





import os
filepath = glob.glob(os.getcwd()+'/*.ipynb')
for file in filepath :
    print(file.split('\\')[-1][:-6])





myinfo = {
    "name": "홍길동",
    "birth": "0525",
    "age": 30
}


import json
data = {'name': '홍길동', 'birth': '0525', 'age': 30}
with open('output/myinfo.json', 'w') as f:
    json.dump(data, f)


with open('output/myinfo.json', 'w') as f:
    json.dump(data, f, ensure_ascii=False)





import urllib.request


def get_wikidocs(page):
    resource = 'https://wikidocs.net/{}'.format(page)
    with urllib.request.urlopen(resource) as s:
        with open('wikidocs_%s.html' % page, 'wb') as f:
            f.write(s.read())


get_wikidocs(33)





import webbrowser

webbrowser.open_new('http://python.org')





pip list





pip install Faker


from faker import Faker
fake = Faker()
type(fake), fake


test_data = [(fake.name(), fake.address()) for i in range(30)]
test_data


fake = Faker('ko-KR')
fake.catch_phrase()
