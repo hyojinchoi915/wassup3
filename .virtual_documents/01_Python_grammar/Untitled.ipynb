


a = 123


a


a = -178
a


a = 0
a


a = 1.2
a


a= 4.24E10
a


a = 0o177
a





a = 3
b = 4
a + b


a-b


a*b


a/b








a ** b








7 % 3


3 % 7








7 // 4


7 / 4








"Hello World"


""" Hello World """


'''
Hello World
'''





Python's favorite food is perl


'Python's favorite food is perl'


"Python's favorite food is perl"


"Python is very easy." he said.


'"Python is very easy." he said.'


'Python\'s favorite food is perl'


"Life is too short You need python"


"Life is too short \n You need python"


multiline = "Life is too short \n You need python"
multiline


print(multiline)


multiline = '''
Life is too short
you need python
'''


multiline


print(multiline)





head = "Python"
tail = " is fun!"
head + tail


a = 'Python'
a * 5


print('='*50)


a = "Life is too short"
len(a)





a = "Life is too short, You need Python"


len(a)


a[3]


a[13]


a[-1]


a[-7]


a[-0]








a = "Life is too short, You need Python"
a[0] + a[1] + a[2] + a[3]


a[0:4]


a[-15:34]


a[:]


a[19:-7]





a = "20240610Sunny"


date = a[:8]


date


len(a)


weather = a[8:]


weather





a = "pithon"
a[1] = "y"
a


b = a[0]+'y'+a[2:]
b





# 숫자 바로 대입
"I eat %d apples"%3


# 문자열 바로 대입
"I eat %s apples"%"five"


"I eat %d apples%"삼"


# 숫자 값을 나타내는 변수로 대입
num = 3
"I eat %d apples"%num


# 2개 이상 값 넣기
num = 10
day = 'three'
"i ate %d apples. so i was sick for %s days."%(num, day)


"i ate %d apples. so i was sick for %s days."%(day, num)


"I have %s apples"%3


"rate is %s"%3.1459


"오늘의 습도는 %d%% 입니다."%70





3.14159268


"%0.2f"%3.14159268


"%0.4f"%3.14159268





"I eat {} apples".format(3)


"I eat {} apples".format('five')


num = 10
"I eat {} apples".format(num)


# 2개 이상 값 넣기
num = 10
day = 'three'
"I ate {} apples. so i was sick for {} days.".format(num, day)


"I ate {0} apples. so i was sick for {1} days.".format(day, num)


"I ate {num} apples. so i was sick for {day} days.".format(num=10, day=3)


"I ate {num} apples. so i was sick for {day} days.".format(day=3, num=10)





y = 3.4213426
"{0:0.4f}".format(y)





name = '홍길동'
age = 30
f'나의 이름은 {name}입니다. 나이는 {age}입니다'


f'나는 내년이면 {age+1}살이 됩니다.'


d = {'name' : '홍길동', 'age' : 30}
f'나의 이름은 {d["name"]}입니다. 나이는 {d["age"]}입니다.'
