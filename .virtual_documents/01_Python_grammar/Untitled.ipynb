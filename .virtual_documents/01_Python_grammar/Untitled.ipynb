


print("Hello World")





print("Mary's cosmetics")





print('신씨가 소리질렀다. "도둑이야".')





print("C:\Windows")





print("안녕하세요.\n만나서\t\t반갑습니다.")








print("오늘은","일요일")





print("naver;","kakao;","samsung")








print("naver","kakao","sk", "samsung", sep = "/")





print("first");print("second")





print("first", end=""); print("second")


print?








삼성전자 = 500000
총평가금액 = 삼성전자 * 10
총평가금액





시가총액 = 298000000000000
현재가 = 50000
PER = 15.79
print(시가총액, type(시가총액))
print(현재가, type(현재가))
print(PER, type(PER))








print(s ! t)



