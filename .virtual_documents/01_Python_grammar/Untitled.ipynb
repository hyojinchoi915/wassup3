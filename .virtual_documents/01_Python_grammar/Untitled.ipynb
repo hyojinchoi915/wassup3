


money = True
if money :
    print("택시를 타고 가라")
else:
    print("걸어 가라")





# 비교연산자
x = 3
y = 2
x > y


x < y


x != y


# 만약 3000원 이상의 돈을 가지고 있으면 택시를 타고 가고, 그렇지 않으면 걸어가라.
money = 2000
if money >= 3000 :
    print("택시를 타고 가라")
else:
    print("걸어 가라")





money = 2000
card = True
if money >= 3000 or card :
    print("택시를 타고 가라")
else:
    print("걸어 가라")





1 in [1, 2, 3]


1 not in [1, 2, 3]


# 만약 주머니에 돈이 있으면 택시를 타고 가고, 없으면 걸어가라.

주머니 = ['money', 'key']
if money in 주머니 :
    print("택시를 타고 가라")
else:
    print("걸어 가라")





주머니 = ['money', 'key', 'card']
if money in 주머니 :
    pass
else:
    print("카드를 꺼내라")


주머니 = ['key', 'card']
if money in 주머니 :
    pass
else:
    print("카드를 꺼내라")





주머니 = ['key', 'card', 'money']
card = True
if money in 주머니 :
    print("택시를 타고 가라")
else :
    if card :
        print("택시를 타고 가라")
    else:
        print("걸어가라")


주머니 = ['key', 'card', 'money']
card = True
if money in 주머니 :
    print("택시를 타고 가라")
elif card :
    print("택시를 타고 가라")
else:
    print("걸어가라")





score = 88
if score >= 60:
    message = "success"
    print(message)
else:
    message = "failure"
    print(message)





treeHit = 0
while treeHit < 10:
    treeHit = treeHit +1
    print("나무를 %d번 찍었습니다." % treeHit)
    if treeHit == 10:
        print("나무 넘어갑니다.")





prompt = """
1. Add
2. Del
3. List
4. Quit

Enter number :"""


print(prompt)


number = 0
while number != 4:
    print(prompt)
    number = int(input())





money = 300
coffee = 300

while money :
    print('돈을 받았으니 커피를 줍니다.')
    coffee = coffee -1
    print(f'남은 커피의 양은 {coffee}입니다.')
    if coffee == 0:
        print('커피가 다 떨어져서 판매를 중지합니다.')
        break








coffee = 10

while True :
    money = int(input('돈을 넣어주세요: '))
    if money == 300 :
        print('300원을 받았으니 커피를 줍니다.')
        coffee = coffee - 1
        print(f'남은 커피 수량은 {coffee}입니다.')
    elif money > 300 :
        print(f'{money-300} 거스름돈과 커피를 줍니다.')
        coffee = coffee - 1
        print(f'남은 커피 수량은 {coffee}입니다.')
    else :
        print('돈이 부족합니다.')
    if coffee == 0:
        print('재고 소진 판매를 중단합니다.')   
        break






