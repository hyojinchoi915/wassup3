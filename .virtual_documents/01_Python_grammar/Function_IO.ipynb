


def add(a, b): 
    return a + b


a = 3
b = 4
add(3, 4)


c = add(3, 4)
c





# 일반적인 함수 형태
def add(a, b) :
    result = a + b
    return result


# 입력값이 없는 함수
def say():
    return 'Hi'


say()


# 리턴값이 없는 함수
def add(a, b):
    print("%d, %d의 합은 %d입니다." % (a, b, a+b))


add(3, 4)


c = add(3, 4)


c


# 매개변수를 지정하여 호출하기
def sub(a, b):
    return a - b


a = sub(7, 3)
a


sub(a=7, b=3)


sub(b=3, a=7)





print('dasdsa', 'sads')


 def add_many(*args): 
     result = 0 
     for i in args: 
         result = result + i
     return result 


add_many(1, 3, 5, 7, 9)


 def add_mul(choice, *args): 
...     if choice == "add":   # 매개변수 choice에 "add"를 입력받았을 때
...         result = 0 
...         for i in args: 
...             result = result + i 
...     elif choice == "mul":   # 매개변수 choice에 "mul"을 입력받았을 때
...         result = 1 
...         for i in args: 
...             result = result * i 
...     return result 


## 키워드 매개변수


def print_kwargs(**kwargs):
    print(kwargs)



print_kwargs(a=1)





def add_and_mul(a,b): 
...     return a+b, a*b


a = add_and_mul(3, 4)


len(a), type(a)





def say_myself(name, age, man=True): 
    print("나의 이름은 %s 입니다." % name) 
    print("나이는 %d살입니다." % age) 
    if man: 
        print("남자입니다.")
    else: 
        print("여자입니다.")


say_myself('이스트', 20, man=False)





a = 1
def vartest(a) :
    a = a + 1
    print(a)


vartest(a)


print(a)





# return 
a = 1 
def vartest(a): 
    a = a +1 
    return a

a = vartest(a) 
print(a)


# global 명령

a = 1
def vartest() :
    global a
    a = a + 1
vartest()
print(a)





add = lambda a, b : a + b
result = add(3, 4)
print(result)





# input 사용하기
a = input()
a


# 프롬프트로 사용자 입력받기
a = input('입력해주세요')
a





f = open('새파일.txt', 'w')
f.close()


f = open('C:\\workspace\\wassup3\\01_Python_grammar\\output\\새파일.txt', 'w')
f.close()


f = open('output\\새파일2.txt', 'w')
f.close()


pwd


f = open('output\\새파일.txt', 'w')

for i in range(1, 11) :
    data = f'{i}번째 줄입니다.\n'
    f.write(data)
f.close()





#readline 함수
# readline_test.py
f = open("output\\새파일.txt", 'r')
line = f.readline()
print(line)
f.close()


#readline 함수
# readline_test.py
f = open("output\\새파일.txt", 'r')
while True :
    line = f.readline()
    if not line : break
    print(line)
f.close()


f = open("output\\새파일.txt", 'r')
lines = f.readlines()
print(lines)
f.close()


f = open("output\\새파일.txt", 'r')
lines = f.readlines()
for line in lines :
    print(line)
f.close()


f = open("output\\새파일.txt", 'r')
lines = f.readlines()
for line in lines :
    print(line, end = "")
f.close()


f = open("output\\새파일.txt", 'r')
lines = f.readlines()
for line in lines :
    print(line.strip())
f.close()


# read 함수 사용하기

f = open("output\\새파일.txt", 'r')
data = f.read()
print(len(data), type(data))
print(data)
f.close()


## 파일 객체를 for문과 함께 사용하기
f = open("output\\새파일.txt", 'r')
for line in f:
    print(line)
f.close()





f = open("output\\새파일.txt",'a')
for i in range(11, 20):
    data = "%d번째 줄입니다.\n" % i
    f.write(data)
f.close()





f = open("output\\foo.txt", 'w')
f.write("Life is too short, you need python")
f.close()


with open("output\\foo.txt", "w") as f:
    f.write("Life is too short, you need python")



