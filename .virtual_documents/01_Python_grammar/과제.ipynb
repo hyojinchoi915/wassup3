


print("Hello World")





print("Mary's cosmetics")





print('신씨가 소리질렀다. "도둑이야".')





print("C:\Windows")





print("안녕하세요.\n만나서\t\t반갑습니다.")








print("오늘은","일요일")





print("naver;","kakao;","samsung")








print("naver","kakao","sk", "samsung", sep = "/")





print("first");print("second")





print("first", end=""); print("second")


print?








삼성전자 = 500000
총평가금액 = 삼성전자 * 10
총평가금액





시가총액 = 298000000000000
현재가 = 50000
PER = 15.79
print(시가총액, type(시가총액))
print(현재가, type(현재가))
print(PER, type(PER))








s = "hello"
t = "python"
print(s+"! "+t)





2 + 2 * 3


a = 128print(type(a))


a = "132"
print(type(a))


# 17. 정수 100을 문자열 '100'으로 변환해보세요.

str(100)


# 18. 문자열 "15.79"를 실수(float) 타입으로 변환해보세요.

float("15.79")


# 19. year라는 변수가 문자열 타입의 연도를 바인딩하고 있습니다. 이를 정수로 변환한 후 최근 3년의 연도를 화면에 출력해보세요.

year = "2020"
int(year)


print(int(year))
print(int(year)+1)
print(int(year)+2)


# 20. 에이컨이 월 48,584원에 무이자 36개월의 조건으로 홈쇼핑에서 판매되고 있습니다. 총 금액은 계산한 후 이를 화면에 출력해보세요. (변수사용하기)
월할부금액 = 48584
총금액 = 월할부금액 * 36
print(총금액)


# 21. letters가 바인딩하는 문자열에서 첫번째와 세번째 문자를 출력하세요. letters = 'python'
Letters = 'python'
print(Letters[0], Letters[3])


# 22. 자동차 번호가 다음과 같을 때 뒤에 4자리만 출력하세요. license_plate = "24가 2210"

license_plate = "24가 2210"
print(license_plate[-4:])


# 23. 아래의 문자열에서 '홀' 만 출력하세요.  string = "홀짝홀짝홀짝"

string = "홀짝홀짝홀짝"
print(string[::2])


#24. 문자열을 거꾸로 뒤집어 출력하세요.  string = "PYTHON"

string = "PYTHON"
string[::-1]


# 25. 아래의 전화번호에서 하이푼 ('-')을 제거하고 출력하세요. phone_number = "010-1111-2222"

phone_number = "010-1111-2222"
a = phone_number.replace("-"," ")
a


#26. 25번 문제의 전화번호를 아래와 같이 모두 붙여 출력하세요. 실행 예 01011112222

phone_number = "010-1111-2222"
a = phone_number.replace("-","")
a


#  27. url 에 저장된 웹 페이지 주소에서 도메인을 출력하세요. url = "http://sharebook.kr"

url = "http://sharebook.kr"
a = url.split('.')
print(a[-1])


#28. 아래 코드의 실행 결과를 예상해보세요. 

lang = 'python'
lang[0] = 'P'
print(lang)


#29. 아래 문자열에서 소문자 'a'를 대문자 'A'로 변경하세요.

string = 'abcdfe2a354a32a'
a = string.replace('a', 'A')
a


# 30. 아래 코드의 실행 결과를 예상해보세요.

string = 'abcd'
string.replace('b', 'B')
print(string)


#31. 아래 코드의 실행 결과를 예상해보세요.

a = "3"
b = "4"
print(a + b)


#32. 아래 코드의 실행 결과를 예상해보세요.

print("Hi" * 3)


# 33. 문자열 곱하기 : 화면에 '-'를 80개 출력하세요.

print('-' * 80)


#34. 변수에 다음과 같은 문자열이 바인딩되어 있습니다. 변수에 문자열 더하기와 문자열 곱하기를 사용해서 아래와 같이 출력해보세요.
# 실행 예: python java python java python java python java

t1 = 'python'
t2 = 'java'

a = t1 + " " + t2 + " "
a
print(a * 4)


#35. 변수에 다음과 같이 문자열과 정수가 바인딩되어 있을 때 % formatting을 사용해서 다음과 같이 출력해보세요.

name1 = "김민수" 
age1 = 10
name2 = "이철희"
age2 = 13
이름: 김민수 나이: 10
이름: 이철희 나이: 13
