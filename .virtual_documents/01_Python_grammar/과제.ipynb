


print("Hello World")





print("Mary's cosmetics")





print('신씨가 소리질렀다. "도둑이야".')





print("C:\Windows")





print("안녕하세요.\n만나서\t\t반갑습니다.")








print("오늘은","일요일")





print("naver;","kakao;","samsung")








print("naver","kakao","sk", "samsung", sep = "/")





print("first");print("second")





print("first", end=""); print("second")


print?








삼성전자 = 500000
총평가금액 = 삼성전자 * 10
총평가금액





시가총액 = 298000000000000
현재가 = 50000
PER = 15.79
print(시가총액, type(시가총액))
print(현재가, type(현재가))
print(PER, type(PER))








s = "hello"
t = "python"
print(s+"! "+t)





2 + 2 * 3


a = 128print(type(a))


a = "132"
print(type(a))


# 17. 정수 100을 문자열 '100'으로 변환해보세요.

str(100)


# 18. 문자열 "15.79"를 실수(float) 타입으로 변환해보세요.

float("15.79")


# 19. year라는 변수가 문자열 타입의 연도를 바인딩하고 있습니다. 이를 정수로 변환한 후 최근 3년의 연도를 화면에 출력해보세요.

year = "2020"
int(year)


print(int(year))
print(int(year)+1)
print(int(year)+2)


# 20. 에이컨이 월 48,584원에 무이자 36개월의 조건으로 홈쇼핑에서 판매되고 있습니다. 총 금액은 계산한 후 이를 화면에 출력해보세요. (변수사용하기)
월할부금액 = 48584
총금액 = 월할부금액 * 36
print(총금액)


# 21. letters가 바인딩하는 문자열에서 첫번째와 세번째 문자를 출력하세요. letters = 'python'
Letters = 'python'
print(Letters[0], Letters[3])


# 22. 자동차 번호가 다음과 같을 때 뒤에 4자리만 출력하세요. license_plate = "24가 2210"

license_plate = "24가 2210"
print(license_plate[-4:])


# 23. 아래의 문자열에서 '홀' 만 출력하세요.  string = "홀짝홀짝홀짝"

string = "홀짝홀짝홀짝"
print(string[::2])


#24. 문자열을 거꾸로 뒤집어 출력하세요.  string = "PYTHON"

string = "PYTHON"
string[::-1]


# 25. 아래의 전화번호에서 하이푼 ('-')을 제거하고 출력하세요. phone_number = "010-1111-2222"

phone_number = "010-1111-2222"
a = phone_number.replace("-"," ")
a


#26. 25번 문제의 전화번호를 아래와 같이 모두 붙여 출력하세요. 실행 예 01011112222

phone_number = "010-1111-2222"
a = phone_number.replace("-","")
a


#  27. url 에 저장된 웹 페이지 주소에서 도메인을 출력하세요. url = "http://sharebook.kr"

url = "http://sharebook.kr"
a = url.split('.')
print(a[-1])


#28. 아래 코드의 실행 결과를 예상해보세요. 

lang = 'python'
lang[0] = 'P'
print(lang)


#29. 아래 문자열에서 소문자 'a'를 대문자 'A'로 변경하세요.

string = 'abcdfe2a354a32a'
a = string.replace('a', 'A')
a


# 30. 아래 코드의 실행 결과를 예상해보세요.

string = 'abcd'
string.replace('b', 'B')
print(string)


#31. 아래 코드의 실행 결과를 예상해보세요.

a = "3"
b = "4"
print(a + b)


#32. 아래 코드의 실행 결과를 예상해보세요.

print("Hi" * 3)


# 33. 문자열 곱하기 : 화면에 '-'를 80개 출력하세요.

print('-' * 80)


#34. 변수에 다음과 같은 문자열이 바인딩되어 있습니다. 변수에 문자열 더하기와 문자열 곱하기를 사용해서 아래와 같이 출력해보세요.
# 실행 예: python java python java python java python java

t1 = 'python'
t2 = 'java'

a = t1 + " " + t2 + " "
a
print(a * 4)


#35. 변수에 다음과 같이 문자열과 정수가 바인딩되어 있을 때 % formatting을 사용해서 다음과 같이 출력해보세요.

name1 = "김민수" 
age1 = 10
name2 = "이철희"
age2 = 13
이름: 김민수 나이: 10
이름: 이철희 나이: 13


# 81. my_variable 이름의 비어있는 튜플을 만들라.


082
다음과 같이 10개의 값이 저장된 scores 리스트가 있을 때, start expression을 사용하여 우측 8개의 값을 valid_score 변수에 바인딩하여라.

scores = [8.8, 8.9, 8.7, 9.2, 9.3, 9.7, 9.9, 9.5, 7.8, 9.4]


083
다음과 같이 10개의 값이 저장된 scores 리스트가 있을 때, start expression을 사용하여 가운데 있는 8개의 값을 valid_score 변수에 바인딩하여라.

scores = [8.8, 8.9, 8.7, 9.2, 9.3, 9.7, 9.9, 9.5, 7.8, 9.4]


# 084 비어있는 딕셔너리 temp 이름의 비어있는 딕셔너리를 만들라.

temp ={}


# 085 다음 아이스크림 이름과 희망 가격을 딕셔너리로 구성하라.
a = {"메로나": 1000, "폴라포": 1200, "빵빠레": 1800}
a


# 086 085 번의 딕셔너리에 아래 아이스크림 가격정보를 추가하라.

a["죠스바"] = 1200
a["월드콘"] = 1500


a


087 다음 딕셔너리를 사용하여 메로나 가격을 출력하라.

ice = {'메로나': 1000,
       '폴로포': 1200,
       '빵빠레': 1800,
       '죠스바': 1200,
       '월드콘': 1500}


ice = {'메로나': 1000,
       '폴로포': 1200,
       '빵빠레': 1800,
       '죠스바': 1200,
       '월드콘': 1500}
ice['메로나'] 


88. 다음 딕셔너리에서 메로나의 가격을 1300으로 수정하라.

ice = {'메로나': 1000,
       '폴로포': 1200,
       '빵빠레': 1800,
       '죠스바': 1200,
       '월드콘': 1500}


ice = {'메로나': 1000,
       '폴로포': 1200,
       '빵빠레': 1800,
       '죠스바': 1200,
       '월드콘': 1500}
ice["메로나"] = 1300
ice


89. 다음 딕셔너리에서 메로나를 삭제하라.

ice = {'메로나': 1000,
       '폴로포': 1200,
       '빵빠레': 1800,
       '죠스바': 1200,
       '월드콘': 1500}


ice = {'메로나': 1000,
       '폴로포': 1200,
       '빵빠레': 1800,
       '죠스바': 1200,
       '월드콘': 1500}
del ice["메로나"]
ice


090
다음 코드에서 에러가 발생한 원인을 설명하라.

>> icecream = {'폴라포': 1200, '빵빠레': 1800, '월드콘': 1500, '메로나': 1000}
>> icecream['누가바']
Traceback (most recent call last):
  File "<pyshell#69>", line 1, in <module>
    icecream['누가바']
KeyError: '누가바'





091 딕셔너리 생성
아래의 표에서, 아이스크림 이름을 키값으로, (가격, 재고) 리스트를 딕셔너리의 값으로 저장하라. 딕셔너리의 이름은 inventory로 한다.

이름	가격	재고
메로나	300	20
비비빅	400	3
죠스바	250	100


inventory = {'메로나':[300, 20], '비비빅':[400, 3], '죠스바':[250, 100]}
inventory


92 inventory 딕셔너리에서 메로나의 가격을 화면에 출력하라.

inventory = {"메로나": [300, 20],
              "비비빅": [400, 3],
              "죠스바": [250, 100]}


inventory['메로나'][0]
print(inventory['메로나'][0], "원")


93 inventory 딕셔너리에서 메로나의 재고를 화면에 출력하라.

inventory = {"메로나": [300, 20],
              "비비빅": [400, 3],
              "죠스바": [250, 100]}


inventory['메로나'][1]
print(inventory['메로나'][1], "개")


94 inventory 딕셔너리에 아래 데이터를 추가하라.

inventory = {"메로나": [300, 20],
              "비비빅": [400, 3],
              "죠스바": [250, 100]}
이름	가격	재고
월드콘	500	7


inventory["월드콘"] = [500, 7]
inventory


95 다음의 딕셔너리로부터 key 값으로만 구성된 리스트를 생성하라.

icecream = {'탱크보이': 1200, '폴라포': 1200, '빵빠레': 1800, '월드콘': 1500, '메로나': 1000}


icecream = {'탱크보이': 1200, '폴라포': 1200, '빵빠레': 1800, '월드콘': 1500, '메로나': 1000}
ice = list(icecream.keys())
print(ice)


96 다음의 딕셔너리에서 values 값으로만 구성된 리스트를 생성하라.

icecream = {'탱크보이': 1200, '폴라포': 1200, '빵빠레': 1800, '월드콘': 1500, '메로나': 1000}
정답확인


icecream = {'탱크보이': 1200, '폴라포': 1200, '빵빠레': 1800, '월드콘': 1500, '메로나': 1000}
ice = list(icecream.values())
print(ice)


97 icecream 딕셔너리에서 아이스크림 판매 금액의 총합을 출력하라.

icecream = {'탱크보이': 1200, '폴라포': 1200, '빵빠레': 1800, '월드콘': 1500, '메로나': 1000}


icecream = {'탱크보이': 1200, '폴라포': 1200, '빵빠레': 1800, '월드콘': 1500, '메로나': 1000}
ice = list(icecream.values())
sum(ice)


98 아래의 new_product 딕셔너리를 다음 icecream 딕셔너리에 추가하라.

icecream = {'탱크보이': 1200, '폴라포': 1200, '빵빠레': 1800, '월드콘': 1500, '메로나': 1000}
new_product = {'팥빙수':2700, '아맛나':1000}

실행 예시:
>> print(icecream)
{'탱크보이': 1200,  '폴라포': 1200,  '빵빠레': 1800,  '월드콘': 1500,  '메로나': 1000,  '팥빙수':2700, '아맛나':1000}


icecream = {'탱크보이': 1200, '폴라포': 1200, '빵빠레': 1800, '월드콘': 1500, '메로나': 1000}
new_product = {'팥빙수':2700, '아맛나':1000}
icecream.update(new_product)
print(icecream)


99 아래 두 개의 튜플을 하나의 딕셔너리로 변환하라. keys를 키로, vals를 값으로 result 이름의 딕셔너리로 저장한다.

keys = ("apple", "pear", "peach")
vals = (300, 250, 400)

실행 예시:
>> print(result)
{'apple': 300, 'pear': 250, 'peach': 400}


keys = ("apple", "pear", "peach")
vals = (300, 250, 400)

result = dict(zip(keys, vals))
print(result)


100 date와 close_price 두 개의 리스트를 close_table 이름의 딕셔너리로 생성하라.

date = ['09/05', '09/06', '09/07', '09/08', '09/09']
close_price = [10500, 10300, 10100, 10800, 11000]
실행 예시:
>> print(close_table)
{'09/05': 10500, '09/06': 10300, '09/07': 10100, '09/08': 10800, '09/09': 11000}


date = ['09/05', '09/06', '09/07', '09/08', '09/09']
close_price = [10500, 10300, 10100, 10800, 11000]
close_table = dict(zip(date,close_price))
print(close_table)


101 파이썬에서 True 혹은 False를 갖는 데이터 타입은 무엇인가?


bool


102 아래 코드의 출력 결과를 예상하라

print(3 == 5)


False


103 아래 코드의 출력 결과를 예상하라

print(3 < 5)


True


104 아래 코드의 결과를 예상하라.

x = 4
print(1 < x < 5)


True


105 아래 코드의 결과를 예상하라.

print ((3 == 3) and (4 != 3))


print ((3 == 3) and (4 != 3))


106 아래 코드에서 에러가 발생하는 원인에 대해 설명하라.

print(3 => 4)


부등호 순서 바뀜 >= 이렇게 써야


107 아래 코드의 출력 결과를 예상하라

if 4 < 3:
    print("Hello World")


X


108 아래 코드의 출력 결과를 예상하라

if 4 < 3:
    print("Hello World.")
else:
    print("Hi, there.")


Hi, there


109 아래 코드의 출력 결과를 예상하라

if True :
    print ("1")
    print ("2")
else :
    print("3")
print("4")


if True :
    print ("1")
    print ("2")
else :
    print("3")
print("4")


110 아래 코드의 출력 결과를 예상하라

if True :
    if False:
        print("1")
        print("2")
    else:
        print("3")
else :
    print("4")
print("5")


if True :
    if False:
        print("1")
        print("2")
    else:
        print("3")
else :
    print("4")
print("5")


111 사용자로부터 입력받은 문자열을 두 번 출력하라. 아래는 사용자가 "안녕하세요"를 입력한 경우의 출력 결과이다.

>> 안녕하세요
안녕하세요안녕하세요


user = input()
if user == "안녕하세요" :
    print(user*2)


112 사용자로부터 하나의 숫자를 입력받고, 입력 받은 숫자에 10을 더해 출력하라.

>> 숫자를 입력하세요: 30
40


user = int(input("숫자를 입력하세요"))
print(user + 10)


113 사용자로부터 하나의 숫자를 입력 받고 짝수/홀수를 판별하라.

>> 30
짝수


user = input("")
if int(user) % 2 == 0:
    print("짝수")
else:
    print("홀수")


114 사용자로부터 값을 입력받은 후 해당 값에 20을 더한 값을 출력하라. 단 사용자가 입력한 값과 20을 더한 계산 값이 255를 초과하는 경우 255를 출력해야 한다.

>> 입력값: 200
출력값: 220
>> 입력값: 240
출력값: 255


user = input("")
a = int(user) + 20
if a > 255 :
    print(255)
else:
    print(a)


115 사용자로부터 하나의 값을 입력받은 후 해당 값에 20을 뺀 값을 출력하라. 
단 출력 값의 범위는 0~255이다. 
예를 들어 결괏값이 0보다 작은 값이되는 경우 0을 출력하고 255보다 큰 값이 되는 경우 255를 출력해야 한다.

>> 입력값: 200
출력값: 180
>> 입력값: 15
출력값: 0


user = input("")
a = int(user) - 20
if a > 255 :
    print(255)
elif 0 <= a <= 255 :
    print(a)
else : print(0)


116 사용자로부터 입력 받은 시간이 정각인지 판별하라.

>> 현재시간:02:00
정각 입니다.
>> 현재시간:03:10
정각이 아닙니다


time = input("현재시간: ")
if time[-2:] == "00":
    print("정각 입니다.")
else:
    print("정각이 아닙니다.")


117 사용자로 입력받은 단어가 아래 fruit 리스트에 포함되어 있는지를 확인하라. 포함되었다면 "정답입니다"를 아닐 경우 "오답입니다" 출력하라.

fruit = ["사과", "포도", "홍시"]
>> 좋아하는 과일은? 사과
정답입니다.


fruit = ["사과", "포도", "홍시"]
user = input("좋아하는 과일은?")
if user in fruit :
    print("정답입니다")
else : 
    print("오답입니다")


118 
투자 경고 종목 리스트가 있을 때 사용자로부터 종목명을 입력 받은 후 
해당 종목이 투자 경고 종목이라면 '투자 경고 종목입니다'를 아니면 "투자 경고 종목이 아닙니다."를 출력하는 프로그램을 작성하라.

warn_investment_list = ["Microsoft", "Google", "Naver", "Kakao", "SAMSUNG", "LG"]


warn_investment_list = ["Microsoft", "Google", "Naver", "Kakao", "SAMSUNG", "LG"]
user = input("")
if user in warn_investment_list :
    print("투자 경고 종목입니다")
else : 
    print("투자 경고 종목이 아닙니다.")


119 아래와 같이 fruit 딕셔너리가 정의되어 있다. 
사용자가 입력한 값이 딕셔너리 키 (key) 값에 포함되었다면 "정답입니다"를 아닐 경우 "오답입니다" 출력하라.

fruit = {"봄" : "딸기", "여름" : "토마토", "가을" : "사과"}
>> 제가좋아하는계절은: 봄
정답입니다.


fruit = {"봄" : "딸기", "여름" : "토마토", "가을" : "사과"}
user = input("제가좋아하는계절은")

if user in fruit :
    print("정답입니다")
else :
    print("오답입니다")


120 아래와 같이 fruit 딕셔너리가 정의되어 있다. 사용자가 입력한 값이 딕셔너리 값 (value)에 포함되었다면 "정답입니다"를 아닐 경우 "오답입니다" 출력하라.

fruit = {"봄" : "딸기", "여름" : "토마토", "가을" : "사과"}
>> 좋아하는과일은? 한라봉
오답입니다.


fruit = {"봄" : "딸기", "여름" : "토마토", "가을" : "사과"}
user = input("좋아하는과일은?")

if user in fruit.values() :
    print("정답입니다")
else :
    print("오답입니다")


121 사용자로부터 문자 한 개를 입력 받고, 소문자일 경우 대문자로, 대문자 일 경우, 소문자로 변경해서 출력하라.

>> a
A
힌트-1 : islower() 함수는 문자의 소문자 여부를 판별합니다. 
만약 소문자일 경우 True, 대문자일 경우 False를 반환합니다. 
힌트-2 : upper() 함수는 대문자로, lower() 함수는 소문자로 변경합니다.


user = input("")
if user.islower():
    print(user.upper())
else:
    print(user.lower())


122 점수 구간에 해당하는 학점이 아래와 같이 정의되어 있다. 사용자로부터 score를 입력받아 학점을 출력하라.

점수	학점
81~100	A
61~80	B
41~60	C
21~40	D
0~20	E
>> score: 83
grade is A


score = input("score: ")
score = int(score)
if 81 <= score <= 100:
    print("grade is A")
elif 61 <= score <= 80:
    print("grade is B")
elif 41 <= score <= 60:
    print("grade is C")
elif 21 <= score <= 40:
    print("grade is D")
else:
    print("grade is E")


123 사용자로부터 달러, 엔, 유로, 또는 위안 금액을 입력받은 후 이를 원으로 변환하는 프로그램을 작성하라. 
각 통화별 환율은 다음과 같다. 사용자는 100 달러, 1000 엔, 13 유로, 100 위안과 같이 금액과 통화명 사이에 공백을 넣어 입력한다고 가정한다.

통화명	환율
달러	1167
엔	1.096
유로	1268
위안	171
>> 입력: 100 달러
116700.00 원


환율 = {"달러": 1167, 
        "엔": 1.096, 
        "유로": 1268, 
        "위안": 171}
user = input("입력: ")
num, currency = user.split()
print(float(num) * 환율[currency], "원")


124 사용자로부터 세 개의 숫자를 입력 받은 후 가장 큰 숫자를 출력하라.

>> input number1: 10
>> input number2: 9
>> input number3: 20
20


num1 = input("input number1: ")
num2 = input("input number2: ")
num3 = input("input number3: ")
num1 = int(num1)
num2 = int(num2)
num3 = int(num3)

if num1 >= num2 and num1 >= num3:
    print(num1)
elif num2 >= num1 and num2 >= num3:
    print(num2)
else:
    print(num3)


125 휴대폰 번호 앞자리에 따라 통신사는 아래와 같이 구분된다. 사용자로부터 휴대전화 번호를 입력 받고, 통신사를 출력하는 프로그램을 작성하라.

번호	통신사
011	SKT
016	KT
019	LGU
010	알수없음
>> 휴대전화 번호 입력: 011-345-1922
당신은 SKT 사용자입니다.


126 우편번호는 5자리로 구성되는데, 앞의 세자리는 구를 나타낸다. 예를들어, 강북구의 경우 010, 011, 012 세 자리로 시작한다.

-	0	1	2	3	4	5	6	7	8	9
01	강북구	강북구	강북구	도봉구	도봉구	도봉구	노원구	노원구	노원구	노원구
사용자로 부터 5자리 우편번호를 입력받고 구를 판별하라

>> 우편번호: 01400
도봉구


127 주민등록번호 뒷 자리 7자리 중 첫째 자리는 성별을 나타내는데, 1, 3은 남자 2, 4는 여자를 의미한다. 
사용자로부터 13자리의 주민등록번호를 입력 받은 후 성별 (남자, 여자)를 출력하는 프로그램을 작성하라.

>> 주민등록번호: 821010-1635210
남자


128 주민등록번호의 뒷 자리 7자리 중 두번째와 세번째는 지역코드를 의미한다. 
주민 등록 번호를 입력 받은 후 출생지가 서울인지 아닌지 판단하는 코드를 작성하라

지역코드	출생지
00 ~ 08	서울
09 ~ 12	부산
>> 주민등록번호: 821010-1635210
서울이 아닙니다.
>> 주민등록번호: 861010-1015210
서울 입니다.


129 주민등록번호는 13자리로 구성되는데 마지막 자리수는 주민등록번호의 유효성을 체크하는데 사용된다.
먼저 앞에서부터 12자리의 숫자에 2, 3, 4, 5, 6, 7, 8, 9, 2, 3, 4, 5를 차례로 곱한 뒤 그 값을 전부 더한다. 
연산 결과 값을 11로 나누면 나머지가 나오는데 11에서 나머지를 뺀 값이 주민등록번호의 마지막 번호가 된다.

  8 2 1 0 1 0 - 1 6 3 5 2 1 0
x 2 3 4 5 6 7   8 9 2 3 4 5 
-----------------------------
1차 계산: (8*2 + 2*3 + 1*4 + 0*5 + 1*6 + 0*7 + 1*8 + 6*9 + 3*2 + 5*3 + 2*4 + 1*5) = (128 % 11) = 7
2차 계산: 11 -7 = 4
위와 같이 821010-1635210에 대해서 계산을 해보면 마지막 자리는 4가 되어야 함을 알 수 있다. 즉, 821010-1635210은 유효하지 않은 주민등록번호임을 알 수 있다.

다음과 같이 사용자로부터 주민등록번호를 입력받은 후 주민등록번호가 유효한지를 출력하는 프로그램을 작성하라.

>> 주민등록번호: 821010-1635210
유효하지 않은 주민등록번호입니다. 


130 아래 코드는 비트코인의 가격 정보를 딕셔너리로 가져오는 코드이다.

import requests
btc = requests.get("https://api.bithumb.com/public/ticker/").json()['data']
btc 딕셔너리 안에는 시가, 종가, 최고가, 최저가 등이 저장되어 있다. 최고가와 최저가의 차이를 변동폭으로 정의할 때 (시가 + 변동폭)이 최고가 보다 높을 경우 "상승장", 그렇지 않은 경우 "하락장" 문자열을 출력하라.

Key Name	Description
opening_price	최근 24시간 내 시작 거래금액
closing_price	최근 24시간 내 마지막 거래금액
min_price	최근 24시간 내 최저 거래금액
max_price	최근 24시간 내 최고 거래금액


131 for문의 실행결과를 예측하라.

과일 = ["사과", "귤", "수박"]
for 변수 in 과일:
    print(변수)

# 사과
# 귤
# 수박


# 132 for문의 실행결과를 예측하라.

과일 = ["사과", "귤", "수박"]
for 변수 in 과일:
  print("#####")

# #####
# #####
# #####



# 133 다음 for 문과 동일한 기능을 수행하는 코드를 작성하세요.

for 변수 in ["A", "B", "C"]:
  print(변수)

print("A")
print("B")
print("C")


# 134 for문을 풀어서 동일한 동작을하는 코드를 작성하라.

for 변수 in ["A", "B", "C"]:
  print("출력:", 변수)

print("출력:", "A")
print("출력:", "B")
print("출력:", "C")


# 135 for문을 풀어서 동일한 동작을 하는 코드를 작성하라.

for 변수 in ["A", "B", "C"]:
  b = 변수.lower()
  print("변환:", b)

print("변환:", "a")
print("변환:", "b")
print("변환:", "c")


# 136 다음 코드를 for문으로 작성하라.

변수 = 10
print(변수)
변수 = 20
print(변수)
변수 = 30
print(변수)

for 변수 in [10, 20, 30] :
    print(변수)


# 137 다음 코드를 for문으로 작성하라.

print(10)
print(20)
print(30)

for 변수 in [10, 20, 30] :
    print(변수)


# 138 다음 코드를 for문으로 작성하라.

print(10)
print("-------")
print(20)
print("-------")
print(30)
print("-------")

for 변수 in [10, 20, 30] :
    print(변수)
    print("-------")


# 139 다음 코드를 for문으로 작성하라.

print("++++")
print(10)
print(20)
print(30)

print("++++")
for 변수 in [10, 20, 30] :
    print(변수)


# 140 다음 코드를 for문으로 작성하라.

print("-------")
print("-------")
print("-------")
print("-------")

for a in [1, 2, 3, 4] :
    print("-------")


# 141 다음과 같이 판매가가 저장된 리스트가 있을 때 부가세가 포함된 가격을 for 문을 사용해서 화면에 출력하라. 단 부가세는 10원으로 가정한다.

리스트 = [100, 200, 300]
110
210
310

for a in [100, 200, 300] :
    print(a + 10)


# 142 for 문을 사용해서 리스트에 저장된 값을 다음과 같이 출력하라.

리스트 = ["김밥", "라면", "튀김"]

for a in 리스트 :
    print("오늘의 메뉴: " + a)


# 143 리스트에 주식 종목이름이 저장돼 있다.

리스트 = ["SK하이닉스", "삼성전자", "LG전자"]
저장된 문자열의 길이를 다음과 같이 출력하라.

6
4
4


for a in ["SK하이닉스", "삼성전자", "LG전자"] :
    print(len(a))


# 144 리스트에는 동물이름이 문자열로 저장돼 있다.

리스트 = ['dog', 'cat', 'parrot']
동물 이름과 글자수를 다음과 같이 출력하라.

dog 3
cat 3
parrot 6


for Name in ['dog', 'cat', 'parrot'] :
    L = len(Name)
    print(Name, L)


# 145 리스트에 동물 이름 저장돼 있다.

리스트 = ['dog', 'cat', 'parrot']
for문을 사용해서 동물 이름의 첫 글자만 출력하라.

d
c
p


for N in ['dog', 'cat', 'parrot'] :
    print(N[0])


# 146 리스트에는 세 개의 숫자가 바인딩돼 있다.

리스트 = [1, 2, 3]
for문을 사용해서 다음과 같이 출력하라.

3 x 1
3 x 2
3 x 3


for a in [1, 2, 3] :
    print ("3 x " + str(a))


# 147 리스트에는 세 개의 숫자가 바인딩돼 있다.

리스트 = [1, 2, 3]
for문을 사용해서 다음과 같이 출력하라.

3 x 1 = 3
3 x 2 = 6
3 x 3 = 9


for a in [1, 2, 3] :
    b = 3 * a
    print ("3 x " + str(a) + " = " + str(b))


# 148 리스트에는 네 개의 문자열이 바인딩돼 있다.

리스트 = ["가", "나", "다", "라"]
for문을 사용해서 다음과 같이 출력하라.

나
다
라


리스트 = ["가", "나", "다", "라"]
리스트1 = 리스트[1:]
for a in 리스트1 :
    print(a)


# 149
리스트에는 네 개의 문자열이 바인딩돼 있다.

리스트 = ["가", "나", "다", "라"]
for문을 사용해서 다음과 같이 출력하라.

가
다


리스트 = ["가", "나", "다", "라"]
리스트1 = 리스트[::2]
for a in 리스트1 :
    print(a)


# 150 리스트에는 네 개의 문자열이 바인딩돼 있다.

리스트 = ["가", "나", "다", "라"]
for문을 사용해서 다음과 같이 출력하라.

라
다
나
가


리스트 = ["가", "나", "다", "라"]
리스트1 = 리스트[::-1]
for a in 리스트1 :
    print(a)


# 151 리스트에는 네 개의 정수가 저장돼 있다.

리스트 = [3, -20, -3, 44]
for문을 사용해서 리스트의 음수를 출력하라.

-20
-3


리스트 = [3, -20, -3, 44]
for a in 리스트 :
    if a < 0 :
        print(a)


# 152 for문을 사용해서 3의 배수만을 출력하라.

리스트 = [3, 100, 23, 44]
3


리스트 = [3, 100, 23, 44]
for a in 리스트 :
    if a % 3 == 0 :
        print(a)


# 153 리스트에서 20 보다 작은 3의 배수를 출력하라

리스트 = [13, 21, 12, 14, 30, 18]
12
18


리스트 = [13, 21, 12, 14, 30, 18]
for a in 리스트 :
    if a < 20 and a % 3 == 0 :
        print(a)


# 154 리스트에서 세 글자 이상의 문자를 화면에 출력하라

리스트 = ["I", "study", "python", "language", "!"]
study
python
language


리스트 = ["I", "study", "python", "language", "!"]
for a in 리스트 :
    if len(a) > 3 :
        print(a)


# 155 리스트에서 대문자만 화면에 출력하라.

리스트 = ["A", "b", "c", "D"]
A
D


리스트 = ["A", "b", "c", "D"]
for a in 리스트 :
    if a.isupper() :
        print(a)


# 156 리스트에서 소문자만 화면에 출력하라.

리스트 = ["A", "b", "c", "D"]
b
c


리스트 = ["A", "b", "c", "D"]
for a in 리스트 :
    if a.isupper() == False :
        print(a)


# 157 이름의 첫 글자를 대문자로 변경해서 출력하라.

리스트 = ['dog', 'cat', 'parrot']
Dog
Cat
Parrot


리스트 = ['dog', 'cat', 'parrot']
for a in 리스트 :
  b = a[0].upper() + a[1:]
  print(b)


# 158 파일 이름이 저장된 리스트에서 확장자를 제거하고 파일 이름만 화면에 출력하라. (힌트: split() 메서드)

리스트 = ['hello.py', 'ex01.py', 'intro.hwp']
hello
ex01
intro


리스트 = ['hello.py', 'ex01.py', 'intro.hwp']



# 159 파일 이름이 저장된 리스트에서 확장자가 .h인 파일 이름을 출력하라.

리스트 = ['intra.h', 'intra.c', 'define.h', 'run.py']
intra.h
define.h


# 160 파일 이름이 저장된 리스트에서 확장자가 .h나 .c인 파일을 화면에 출력하라.

리스트 = ['intra.h', 'intra.c', 'define.h', 'run.py']
intra.h
intra.c
define.h









































# 201 "비트코인" 문자열을 화면에 출력하는 print_coin() 함수를 정의하라.

def print_coin():
    print("비트코인")


# 202 201번에서 정의한 함수를 호출하라.
print_coin()


#203 201번에서 정의한 print_coin 함수를 100번호출하라.
for i in range(100) :
    print_coin()    


# 204 "비트코인" 문자열을 100번 화면에 출력하는 print_coins() 함수를 정의하라.

def print_coins() :
    for i in range(100) :
        print("비트코인")    


# 205 아래의 에러가 발생하는 이유에 대해 설명하라.

hello()
def hello():
    print("Hi")
#함수 정의 전에 호출해서


#206 아래 코드의 실행 결과를 예측하라.

def message() :
    print("A")
    print("B")

message()
print("C")
message()

# ABCAB


# 207 아래 코드의 실행 결과를 예측하라. (읽기 어려운 코드의 예입니다.)

print("A")

def message() :
    print("B")

print("C")
message()

#A C B


# 208 아래 코드의 실행 결과를 예측하라. (읽기 어려운 코드의 예입니다.)

print("A")
def message1() :
    print("B")
print("C")
def message2() :
    print("D")
message1()
print("E")
message2()

#A C B E D


# 209 아래 코드의 실행 결과를 예측하라.

def message1():
    print("A")

def message2():
    print("B")
    message1()

message2()

# B A


# 210 아래 코드의 실행 결과를 예측하라.

def message1():
    print("A")

def message2():
    print("B")

def message3():
    for i in range (3) :
        message2()
        print("C")
    message1()

message3()

# B C B C B C A


# 211 함수의 호출 결과를 예측하라.

def 함수(문자열) :
    print(문자열)

함수("안녕")
함수("Hi")

# 안녕 HI


# 212 함수의 호출 결과를 예측하라.

def 함수(a, b) :
    print(a + b)

함수(3, 4)
함수(7, 8)

# 7 15


# 213 아래와 같은 에러가 발생하는 원인을 설명하라.

def 함수(문자열) :
    print(문자열)
함수()
TypeError: 함수() missing 1 required positional argument: '문자열'

# 호출할 때 () 안에 아무것도 입력하지 않아서


# 214 아래와 같은 에러가 발생하는 원인을 설명하라.

def 함수(a, b) :
    print(a + b)

함수("안녕", 3)
TypeError: must be str, not int

# 문자열이랑 숫자랑 더할 수 없음


# 215 하나의 문자를 입력받아 문자열 끝에 ":D" 스마일 문자열을 이어 붙여 출력하는 print_with_smile 함수를 정의하라.

def print_with_smile(string) :
    print(string + ":D") 


# 216 215에서 정의한 함수를 호출하라. 파라미터는 "안녕하세요"로 입력하라.

print_with_smile("안녕하세요")


# 217 현재 가격을 입력 받아 상한가 (30%)를 출력하는 print_upper_price 함수를 정의하라.

def print_upper_price(int) :
    print(int * 1.3,"%")


print_upper_price(100)


# 218 두 개의 숫자를 입력받아 두 수의 합을 출력하는 print_sum 함수를 정의하라.

def print_sum (a, b) :
    print(a + b)


# 219 두 개의 숫자를 입력받아 합/차/곱/나눗셈을 출력하는 print_arithmetic_operation 함수를 작성하라.

print_arithmetic_operation(3, 4)
3 + 4 = 7
3 - 4 = -1
3 * 4 = 12
3 / 4 = 0.75


def print_arithmetic_operation(a, b) :
    print(a, "+", b, "=", a + b)
    print(a, "-", b, "=", a - b)
    print(a, "*", b, "=", a * b)
    print(a, "/", b, "=", a / b)

print_arithmetic_operation(3, 4)


# 220 세 개의 숫자를 입력받아 가장 큰수를 출력하는 print_max 함수를 정의하라. 단 if 문을 사용해서 수를 비교하라.

def print_max(a, b, c) :
    if a > b and a > c :
        print(a)
    elif b > a and b > c :
        print(b)
    elif c > b and c > a :
        print(c)
    else : print(max(a, b, c))
print_max(4, 3, 4)


# 221 입력된 문자열을 역순으로 출력하는 print_reverse 함수를 정의하라.

def print_reverse(str) :
    print(str[::-1])
print_reverse("python")


# 222 성적 리스트를 입력 받아 평균을 출력하는 print_score 함수를 정의하라.

def print_score(score) :
    print(sum(score)/len(score))

print_score ([1, 2, 3])


# 223 하나의 리스트를 입력받아 짝수만 화면에 출력하는 print_even 함수를 정의하라.

def print_even(list) :
    for i in list :
        if i % 2 == 0 :
            print(i)

print_even ([1, 3, 2, 10, 12, 11, 15])


# 224 하나의 딕셔너리를 입력받아 딕셔너리의 key 값을 화면에 출력하는 print_keys 함수를 정의하라.


def print_keys(dic) :
    print(dic.keys())

print_keys ({"이름":"김말똥", "나이":30, "성별":0})


# 225 my_dict에는 날짜를 키값으로 OHLC가 리스트로 저장돼 있다.

my_dict = {"10/26" : [100, 130, 100, 100],
           "10/27" : [10, 12, 10, 11]}

def print_value_by_key(my_dict, key) :
    print(my_dict[key])

print_value_by_key  (my_dict, "10/26")


# 226 입력 문자열을 한 줄에 다섯글자씩 출력하는 print_5xn(string) 함수를 작성하라.

def print_5xn(string) :
    f_length = len(string) / 5
    f_length = int(f_length)
    for i in range(f_length + 1) :
        print(string[i * 5 : i * 5 + 5])
    
print_5xn("아이엠어보이유알어걸")


# 227 문자열과 한줄에 출력될 글자 수를 입력을 받아 한 줄에 입력된 글자 수만큼 출력하는 print_mxn(string) 함수를 작성하라.

def print_mxn(str,letter_count) :
    f_length = len(str) / int(letter_count)
    f_length = int(f_length)
    for i in range(f_length + 1) :
        print(str[i * int(letter_count) : i * int(letter_count) + int(letter_count)])


print_mxn("아이엠어보이유알어걸", 3)


# 228 연봉을 입력받아 월급을 계산하는 calc_monthly_salary(annual_salary) 함수를 정의하라. 회사는 연봉을 12개월로 나누어 분할 지급하며, 이 때 1원 미만은 버림한다.

def calc_monthly_salary(annual_salary) :
    print(int(annual_salary / 12))


calc_monthly_salary(12000000)


# 229 아래 코드의 실행 결과를 예측하라.

def my_print (a, b) :
    print("왼쪽:", a)
    print("오른쪽:", b)

my_print(a=100, b=200)

# 왼쪽: 100
# 오른쪽: 200


# 230 아래 코드의 실행 결과를 예측하라.

def my_print (a, b) :
    print("왼쪽:", a)
    print("오른쪽:", b)

my_print(b=100, a=200)

# 왼쪽: 200
# 오른쪽: 100


# 231 아래 코드를 실행한 결과를 예상하라.

def n_plus_1 (n) :
    result = n + 1

n_plus_1(3)
print (result)

# 4..가 아니라 result가 끝나버려서 에러


# 232 문자열 하나를 입력받아 인터넷 주소를 반환하는 make_url 함수를 정의하라.

def make_url(str) :
    print("www." + str + ".com")


make_url("naver")


# 233 문자열을 입력받아 각 문자들로 구성된 리스트로 반환하는 make_list 함수를 정의하라.

def make_list(str) :
    a = []
    for i in str :
        a.append(i)
    return(a)

make_list("abcd")



# 234 숫자로 구성된 하나의 리스트를 입력받아, 짝수들을 추출하여 리스트로 반환하는 pickup_even 함수를 구현하라.

def pickup_even(Nlist) :
    even_list = []
    for i in Nlist :
        if i % 2 == 0 :
            even_list.append(i)
    return even_list

pickup_even([3, 4, 5, 6, 7, 8])


# 235 콤마가 포함된 문자열 숫자를 입력받아 정수로 변환하는 convert_int 함수를 정의하라.

def convert_int(str) :
    num_str = int(str.replace(",", ""))
    return num_str


convert_int("1,234,567")


# 236 아래 코드의 실행 결과를 예측하라.

def 함수(num) :
    return num + 4

a = 함수(10)
b = 함수(a)
c = 함수(b)
print(c)

# a = 14
# b = 18
# c = 22
# 22


# 237 아래 코드의 실행 결과를 예측하라.

def 함수(num) :
    return num + 4

c = 함수(함수(함수(10)))
print(c)

# 22


# 238 아래 코드의 실행 결과를 예측하라.

def 함수1(num) :
    return num + 4

def 함수2(num) :
    return num * 10

a = 함수1(10)
c = 함수2(a)
print(c)

# 140


# 239 아래 코드의 실행 결과를 예측하라.

def 함수1(num) :
    return num + 4

def 함수2(num) :
    num = num + 2
    return 함수1(num)

c = 함수2(10)
print(c)

# 16


#240  아래 코드의실행 결과를 예측하라.

def 함수0(num) :
    return num * 2

def 함수1(num) :
    return 함수0(num + 2)

def 함수2(num) :
    num = num + 10
    return 함수1(num)

c = 함수2(2)
print(c)

# 28
