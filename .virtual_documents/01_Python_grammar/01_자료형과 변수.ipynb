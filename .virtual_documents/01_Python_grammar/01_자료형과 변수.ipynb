


a = 123


a


a = -178
a


a = 0
a


a = 1.2
a


a= 4.24E10
a


a = 0o177
a





a = 3
b = 4
a + b


a-b


a*b


a/b








a ** b








7 % 3


3 % 7








7 // 4


7 / 4








"Hello World"


""" Hello World """


'''
Hello World
'''





Python's favorite food is perl


'Python's favorite food is perl'


"Python's favorite food is perl"


"Python is very easy." he said.


'"Python is very easy." he said.'


'Python\'s favorite food is perl'


"Life is too short You need python"


"Life is too short \n You need python"


multiline = "Life is too short \n You need python"
multiline


print(multiline)


multiline = '''
Life is too short
you need python
'''


multiline


print(multiline)





head = "Python"
tail = " is fun!"
head + tail


a = 'Python'
a * 5


print('='*50)


a = "Life is too short"
len(a)





a = "Life is too short, You need Python"


len(a)


a[3]


a[13]


a[-1]


a[-7]


a[-0]








a = "Life is too short, You need Python"
a[0] + a[1] + a[2] + a[3]


a[0:4]


a[-15:34]


a[:]


a[19:-7]





a = "20240610Sunny"


date = a[:8]


date


len(a)


weather = a[8:]


weather





a = "pithon"
a[1] = "y"
a


b = a[0]+'y'+a[2:]
b





# 숫자 바로 대입
"I eat %d apples"%3


# 문자열 바로 대입
"I eat %s apples"%"five"


"I eat %d apples%"삼"


# 숫자 값을 나타내는 변수로 대입
num = 3
"I eat %d apples"%num


# 2개 이상 값 넣기
num = 10
day = 'three'
"i ate %d apples. so i was sick for %s days."%(num, day)


"i ate %d apples. so i was sick for %s days."%(day, num)


"I have %s apples"%3


"rate is %s"%3.1459


"오늘의 습도는 %d%% 입니다."%70





3.14159268


"%0.2f"%3.14159268


"%0.4f"%3.14159268





"I eat {} apples".format(3)


"I eat {} apples".format('five')


num = 10
"I eat {} apples".format(num)


# 2개 이상 값 넣기
num = 10
day = 'three'
"I ate {} apples. so i was sick for {} days.".format(num, day)


"I ate {0} apples. so i was sick for {1} days.".format(day, num)


"I ate {num} apples. so i was sick for {day} days.".format(num=10, day=3)


"I ate {num} apples. so i was sick for {day} days.".format(day=3, num=10)





y = 3.4213426
"{0:0.4f}".format(y)





name = '홍길동'
age = 30
f'나의 이름은 {name}입니다. 나이는 {age}입니다'


f'나는 내년이면 {age+1}살이 됩니다.'


d = {'name' : '홍길동', 'age' : 30}
f'나의 이름은 {d["name"]}입니다. 나이는 {d["age"]}입니다.'





# 문자 개수 세기 count
a = 'hobby'
a.count('b') 


# 위치 알려주기 find
a = "Python is the best choice"
a.find('b')


a.find('k')


# 위치 알려주기 index
a = 'Life is too short'
a.index('t')


a.index('k')





# 문자열 삽입 join
a = 'abcd'
a


','.join(a)


a = ['a', 'b', 'c', 'd']
a


':'.join(a)





a = 'hi'
a.upper()


a


# 왼쪽 공백 지우기 lstrip
a = "  hi "





a = 'Life is too short'
a.replace('Life', 'Your leg')





a.split()


a.split?


b = 'a:b:c:d:'
b


b.split(':')





a = 1
a


a, type(a)


b ='Python'
b, type(b)


c = [1, 2, 3]
c, type(c)


id(a)


# 복사
a = [1, 2, 3]
b = a
id(a), id(b)





 a is b


a == b


a[1] = 4
a


b


a = [1, 2, 3]
b = a[:]
id(a), id(b)





from copy import copy


a = [1, 2, 3]
a


b = copy(a)
id(a), id(b)


b is a


b == a





a = 'Python'
b = 'life'
a, b


a, b = ('Python', 'life')
a, b


(a, b) = 'Python', 'life'
a, b


a


b


[a, b] = ['Python', 'life']
a


b


a = 3
b = 5


a, b = b, a
a, b





odd = [1, 3, 5, 7, 9]
odd


type(odd)


a = []
b = [1, 2, 3]
c = ['Life', 'is', 'too', 'short']
d = [1, 2, 'Life', 'is']
e = [1, 2, ['Life', 'is']]
print(a, type(a))
print(b, type(b))
print(c, type(c))
print(d, type(d))
print(e, type(e))


a  = list()
a, type(a)





a = [1, 2, 3]
a


a[0]


a[0] + a[2]


a = [1, 2, 3, ['a', 'b', 'c']]
a


len(a)


a[3]


a[3][1]


# 삼중 리스트 인덱싱
a = [1, 2, ['a', 'b', ['Life', 'is']]]
a


a[2][2][0]





a = [1, 2, 3, 4, 5]


a[2:4]


a[::2]


#짝수 슬라이싱
a[1::2]





a = [1, 2, 3, ['a', 'b', 'c'], 4, 5]
a[2:5]


a[3]


a[3][0:2]





a = [1, 2, 3]
del a[1]


a


a = [1, 2, 3, 4, 5]
del a[2:]


a





# 리스트 요소 추가 append
a = [1, 2, 3]
a


a.append(4)
a


# 리스트 정렬 sort
a = [1, 4, 3, 2]
a.sort()
a


a.sort(reverse = True)


a


# 리스트 뒤집기 함수 reverse
a = ['a', 'c', 'b']
a.reverse()
a


# 인덱스 반환 index
a = [1, 2, 3]
a.index(3)


a.index(0)


# 리스트 요소 삽입 insert
a = [1, 2, 3]
a.insert(0, 4)
a


# remove
a = [1, 2, 3, 1, 2, 3]
a. remove(3)
a


a. remove(3)
a


# pop
a = [1, 2, 3]
b.pop()


b


# count
a = [1, 2, 3, 1]
a. count(1)


# extend
a = [1, 2, 3]
a.extend([4, 5])
a


b = [6, 7]
a.extend(b)
a





a = 1
a = a + 2
a


a += 3
a


a = [1, 2, 3]
a += [4, 5]
a


a += [9]
a





t1 = ()
t2 = (1, )
t3 = (1, 2, 3)
t4 = 1, 2, 3
t5 = ('a', 'b', ('ab', 'cd'))
t1, t2, t3, t4, t5





t1, t2


type((1)), type((1, ))


t1 = (1, 2, 'a', 'b')
t1


del t1[0]


t1[0] = 'c'





# 인덱싱
t1 = (1, 2, 'a', 'b')
t1[0]


t1 = (1, 2, 'a', 'b')
t1[1:]





# 튜플 더하기
t1 = (1, 2, 'a', 'b')
t2 = (3, 4)
t3 = t1 + t2
t3


t2 = (3, 4)
t3 = t2 * 3
t3





len(t1)



