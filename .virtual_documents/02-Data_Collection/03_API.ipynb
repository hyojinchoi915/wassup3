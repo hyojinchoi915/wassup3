


## JSON 활용 연습
http://www.krei.re.kr:18181/chart/main_chart/index/kind/W/sdate/2019-01-01/edate/2019-12-31


import requests, json, pandas as pd #api는 정적이라 request 쓰면된다


URL ='http://www.krei.re.kr:18181/chart/main_chart/index/kind/W/sdate/2019-01-01/edate/2019-12-31'
resp = requests.get(URL)
resp


data = resp.text
print(type(data), len(data))
print(data)


#보기 힘드니까 json으로 변환시켜보자. 텍스트로 받아오긴 했는데 딕셔너리 구조의 파일이니깐


data2 = resp.json()
print(type(data2), len(data2))
print(data2)


data2


id_, date, symbol, open_, close= [], [], [], [], []

for item in data2 :
    id_.append(item['id'])
    date.append(item['date'])
    symbol.append(item['symbol'])
    open_.append(item['open'])
    close.append(item['close'])


df = pd.DataFrame({
    'id' : id_,
    'date' : date,
    'symbol' :symbol,
    'open' : open_,
    'close' : close,
})





import requests
from bs4 import BeautifulSoup


# http://openapi.molit.go.kr:8081/OpenAPI_ToolInstallPackage/service/rest/RTMSOBJSvc/getRTMSDataSvcAptTrade?LAWD_CD=11110&DEAL_YMD=201512&serviceKey=6Ky9r%2FBFwB03VpfvW9HaG2XUHdaT8Bgf%2FSYbpgUWUdPP871hjIoXER6Q0KgIARbZFMaRcv8oYp2dajZQax0p1g%3D%3D
date = '201512'
region_code = '11110'
key = '6Ky9r%2FBFwB03VpfvW9HaG2XUHdaT8Bgf%2FSYbpgUWUdPP871hjIoXER6Q0KgIARbZFMaRcv8oYp2dajZQax0p1g%3D%3D'
url = f'http://openapi.molit.go.kr:8081/OpenAPI_ToolInstallPackage/service/rest/RTMSOBJSvc/getRTMSDataSvcAptTrade?LAWD_CD={region_code}&DEAL_YMD={date}&serviceKey={key}'

resp = requests.get(url)
textsrc = resp.text
textsrc


soup = BeautifulSoup(textsrc, 'xml')
soup #뷰티풀수프를 사용해서 xml형태로 변환


items = soup.select('response > body > items > item')
items


items[0]


a = items[0].select('거래금액')
print(type(a), a)


a = items[0].select_one('거래금액')
print(type(a), a)


a.text


a.text.strip()


for item in items:
    print(item.select_one('거래금액').text.strip(),
          item.select_one('건축년도').text,
          item.select_one('년').text,
          item.select_one('법정동').text.strip(),
          item.select_one('아파트').text,
          item.select_one('월').text,
          item.select_one('일').text,
          item.select_one('전용면적').text,
          item.select_one('지번').text,
          item.select_one('지역코드').text,
          item.select_one('층').text)





items = soup.select('response > body > items > item')
items









