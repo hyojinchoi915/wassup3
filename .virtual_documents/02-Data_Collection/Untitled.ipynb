


# 셀레니움 라이브러리 설치
!pip install selenium


from selenium import webdriver
from selenium.webdriver.common.by import By
from selenium.webdriver.chrome.options import Options
import time

# Options라는 객체를 option에 넣어둘것
options = Options()
options


options.add_experimental_option("detach", True) #특정함수안에서  드라이버 생성시 함수종료될 때 브라우저 같이 종료되는 문제 대응





url = 'http://naver.com'
driver = webdriver.Chrome(options=options)


#실행된 드라이버에 url을 넣어보자
driver.get(url)
time.sleep(2)





driver.back()


driver.forward()


driver.refresh()





title = driver.title # 탭에 대한 타이틀
url = driver.current_url #현재 도메인 주소
handle = driver.current_window_handle #윈도우 창에 대한 ID ->ID가 있다는 건 동시에 여러 개를 핸들링 할 수도 있음 
print(title, url, handle)





driver.find_element?


# f12를 눌러서 검색창의 태그 요소를 찾아보자.
<input id="query" name="query" type="search" title="검색어를 입력해 주세요." placeholder="검색어를 입력해 주세요." maxlength="255" autocomplete="off" class="search_input" data-atcmp-element="">


driver.find_element(By.ID, 'query')


# 위에서 찾아준 객체에 키를 입력해주자.
# 객체는 항상 메서드를 가지고 있음
driver.find_element(By.ID, 'query').send_keys('뉴진스')
#검색창에 뉴진스가 들어간다!


driver.find_element(By.CLASS_NAME, 'search_input').send_keys('블랙핑크')


driver.find_element(By.NAME, 'query').send_keys('르세라핌')


#CSS 셀렉터로도 가능하다.
driver.find_element(By.CSS_SELECTOR, '#query').send_keys('에스파')


driver.find_element(By.CSS_SELECTOR, '.search_input').send_keys('세븐틴')


driver.find_element(By.CSS_SELECTOR, "[title='검색어를 입력해 주세요.']").send_keys('트와이스')


#이도저도 아닐땐 xpath -> f12로 찾아놓은 태그에 우클릭 >copy >copy xpath
driver.find_element(By.XPATH, '//*[@id="query"]').send_keys('BTS')





driver.find_element(By.LINK_TEXT, '쇼핑')
# 해당 텍스트가 있는 객체를 찾아줘


driver.find_element(By.LINK_TEXT, '쇼핑').click()


# 일부 매칭
driver.find_element(By.PARTIAL_LINK_TEXT, '증').click()


# 태그로 찾기
# 태그는 요소가 너무 많으므로 정확하게 대상을 찾을 때에는 권장 안함
driver.find_element(By.TAG_NAME, 'div')


# 여러 개의 요소를 찾을 때
driver.find_elements(By.CSS_SELECTOR, '.link_service')


# 첫 번째 요소 뽑아오기
driver.find_elements(By.CSS_SELECTOR, '.link_service')[0].get_attribute('href')


list = driver.find_elements(By.CSS_SELECTOR, '.link_service')
for a in list :
    print(a.get_attribute('href'))





# 테스트용 html
url = 'file:///C:/workspace/wassup3/02-Data_Collection/sample/signin.html'
driver = webdriver.Chrome(options=options)
driver.get(url)
time.sleep(2)


# ID에 코리아라고 입력해보기
username = driver.find_element(By.NAME, 'username')
username.send_keys('korea')


password = driver.find_element(By.NAME, 'password')
password.send_keys('1234')


# 클릭
login = driver.find_element(By.XPATH, '//*[@id="loginForm"]/input[3]')
login.click()


driver.back()


#클릭을 css 셀렉터로 해보기
login = driver.find_element(By.CSS_SELECTOR, '[value=Login]')
login.click()


driver.back()


username.clear()


password.clear()


#submit이 있어서 간단하게 이렇게 해줄수도 있음
username.submit()


driver.back()


driver.find_element(By.TAG_NAME, 'p').text


# html 소스 추출하기
driver.page_source


driver.close()
