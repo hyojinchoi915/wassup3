pip install requests





https://finance.naver.com/


import requests
from bs4 import BeautifulSoup


PATH = "https://finance.naver.com/"
resp = requests.get(PATH)


resp


resp?


requests.get?


resp.text


print(resp.text)


## 데이터를 추출하기 위해서는 DOM 객체로 변환해야한다.



src = resp.text


soup = BeautifulSoup(src, 'lxml')


quiz : 주요뉴스의 목록을 추출해보자


srclist = soup.select('.section_strategy li a') #li를 생략하면 제목(주요뉴스 더보기)까지 같이 나옴
srclist


# 첫번째 뉴스 제목 추출
srclist[0].text


srclist[0]['href']





url = srclist[0]['href']
PATH + url


from urllib.parse import urljoin


urljoin(PATH, url)


# quiz : 네이버 증권 주요뉴스의 제목과 url 모두 추출하기


# 제목 변수, url 변수 만들기

news_title = []
news_url = []
for item in srclist :
    title = item.text
    url = urljoin(PATH, item['href'])
    news_title.append(title)
    news_url.append(url)





import pandas as pd


df = pd.DataFrame({'제목':news_title, '주소':news_url})
df





df.to_excel('output/naver.xlsx', index = False)


# index 넣어주는게 자동임





# 파일명에 저장시각을 추가해보자.
import time


today = time.localtime()
today


df.to_excel(f'output/{today.tm_year}_{today.tm_mon}_{today.tm_mday}naver.xlsx', index = False)


# 스트링 포매팅으로 날짜 포맷을 바꿔보자.
# 2024-06-20
'%d-%02d-%02d'%(today.tm_year, today.tm_mon, today.tm_mday)


filename = '%d-%02d-%02d'%(today.tm_year, today.tm_mon, today.tm_mday)
excel_name = filename + '.xlsx'
csv_name = filename + '.csv'
excel_name, csv_name


df.to_csv(f'output/{csv_name}')
