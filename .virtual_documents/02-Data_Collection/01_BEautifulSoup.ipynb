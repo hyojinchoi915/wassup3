pip list


pip install bs4


pip install lxml


from bs4 import BeautifulSoup
import lxml





html = '''
<div id=prices >
    <table >
        <tr class=bb>
            <th class="bb lm lft">Date
            <th class="rgt bb">Open
            <th class="rgt bb">High
            <th class="rgt bb">Low
            <th class="rgt bb">Close
            <th class="rgt bb rm">Volume
        <tr>
            <td class="lm">Feb 28, 2014
            <td class="rgt">100.71
            <td class="rgt">100.71
            <td class="rgt">100.71
            <td class="rgt">100.71
            <td class="rgt rm">0
     </table>
</div>
 '''


# 파이썬 표준의 HTML 파서
BeautifulSoup(html, 'html.parser')


# lxml의 HTML 파서
BeautifulSoup(html, 'lxml')





pwd


html_file = open('sample/market.html', encoding='utf-8')
html_file


html_src = html_file.read()
html_file.close()


html_src


print(html_src)


# DOM 구조로 변환 (구문 분석)
soup = BeautifulSoup(html_src, 'lxml')


type(soup)


soup


## 메서드를 사용한 요소 탐색


soup.find?


soup.find('p') ##paragraph를 찾아줌. 맨 첫번째 요소만 반환하므로 총 3개가 있지만 바나나만 찾아줌


type(soup.find('p')) ##타입을 찍어보면 객체가 나옴. 우리는 DOM객체를 만들었고 그 안에 tag객체가 있는 것이다.


soup.find_all('p') ## 3개 다 찾고 싶으면 all로 찾아줌. 복수개이기 때문에 리스트로 반환됨


type(soup.find_all('p')) # ㅎㅎ 근데 사실 type 찍어보면 리스트가 아니고 객체임


# id가 오렌지라고 한 p태그를 추출해보자

soup.find('p', id='orange') #id 조건을 넣어주면 된다.


# 여기서의 클래스는 추상화된 객체가 아니라 그룹 라벨이라고 생각하면 된다. 
# 실제 사이트들을 보면 p태그 동일한게 엄청 많음. 
# 그래서 태그 하나만 가지고 조회하는 것은 거의불가능함 그러므로 아이디와 클래스를 같이 써서 조회해야 내가 원하는 것을 얻을 수 있음

soup.find_all(class_='fruit') # 어떤 태그이든 상관없이 클래스가 fruit인 것을 반환





soup.select?
## 사실 find보다 많이 쓰이는 게 select


soup.select('p')
## 아까 find로 했을땐 하나만 나왔으나 select로 하니 3개가 다 나옴
## select로 조회할 때 복수 개로 나오는 이유는... find는 해당 태그 요소만 찾고 select는 관계를 찾아주기 때문임


soup.select_one('p')


## css 셀렉터 문법 써보기
soup.select('#orange') # 아이디속성을 #으로 나타낸다.


soup.select_one('#orange')


soup.select('.price') # 클래스 속성은 .으로 나타낸다.)


type(soup.select('.price'))


# AND 관계
soup.select('p#orange') #두개를 붙여서 쓴다. p태그와 아이디가 오렌지인것 검색


#OR 관계
soup.select('a, .store') # a 태그 또는 스토어 클래스에 해당하는 모든 요소를 찾아줘. 콤마로 표현


soup.select('.fruit.best') #클래스가 frut, best 이렇게 두 개인 요소를 찾아줘


soup.select('.fruit.best>a') #fruit과 best라는 클래스를 가지고 있는 요소 안에 가지고 있는 a라는 자식 요소를 찾아줘
# > 는 자식 관계를 나타냄


# >를 없애보면 어떨까?
soup.select('.fruit.best a')
# 공백은 자손을 의미합니다.


soup.select('.fruit.best>span>a')


type(soup.select('.fruit.best a')[0])


soup.select('.fruit.best a')[0].text #인덱싱도 가능하다


#변수로 넣어서도 가능
mylist = soup.select('.fruit.best a')[0]


for tagItem in soup.select('.fruit.best a') :
    print(tagItem.text)


tagItem['href'] # href는 속성이므로 key를 반환


for tagItem in soup.select('.fruit.best a') :
    print(tagItem['href'])


for item in soup.select('.fruit') : #p태그만 출력한 후, 아래부터 title이 무엇인지, price와 count~가 무엇인지 key로 조회
    name = item['title']
    price = item.find('span', 'price').text
    count = item.find('span', 'count').text
    store = item.find('span', 'store').text
    url = item.find('a')['href']
    print(name, price, count, store, url)





e = soup.find('p', id = 'orange')


type(e)


e.name


e.attrs


e.attrs['title']


e.string





e.children


for i in e.children :
    print(i.name)


for i in e.descendants :
    print(i.name)



