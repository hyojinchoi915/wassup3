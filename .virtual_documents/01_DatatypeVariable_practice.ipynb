


score = {"국어" : 80}
score
score["영어"] = 75
score["수학"] = 55
sum(score.values())/3





a = 13 % 2

if a == 1 :
    print("홀수")
else :
    print("짝수")































































