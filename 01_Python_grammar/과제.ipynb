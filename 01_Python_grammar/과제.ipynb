{
 "cells": [
  {
   "cell_type": "markdown",
   "id": "f7d4d447-c8ca-452b-837b-58d52a5b3727",
   "metadata": {},
   "source": [
    "001. 화면에 Hello World 문자열을 출력하세요."
   ]
  },
  {
   "cell_type": "code",
   "execution_count": 1,
   "id": "0af8e2ae-2af4-41e7-960c-18669b2d75e2",
   "metadata": {},
   "outputs": [
    {
     "name": "stdout",
     "output_type": "stream",
     "text": [
      "Hello World\n"
     ]
    }
   ],
   "source": [
    "print(\"Hello World\")"
   ]
  },
  {
   "cell_type": "markdown",
   "id": "06b2a59b-5b4b-479d-8451-cb147510948f",
   "metadata": {},
   "source": [
    "2. 화면에 Mary's cosmetics을 출력하세요. (중간에 '가 있음에 주의하세요)"
   ]
  },
  {
   "cell_type": "code",
   "execution_count": 3,
   "id": "c5e1414d-8bcb-4341-8aaa-f068babba7fd",
   "metadata": {},
   "outputs": [
    {
     "name": "stdout",
     "output_type": "stream",
     "text": [
      "Mary's cosmetics\n"
     ]
    }
   ],
   "source": [
    "print(\"Mary's cosmetics\")"
   ]
  },
  {
   "cell_type": "markdown",
   "id": "626bab75-7df6-4430-920f-77cd33be920f",
   "metadata": {},
   "source": [
    "3. 화면에 아래 문장을 출력하세요. (중간에 \"가 있음에 주의하세요.)<br>신씨가 소리질렀다. \"도둑이야\"."
   ]
  },
  {
   "cell_type": "code",
   "execution_count": 5,
   "id": "be831c3a-0506-4f9f-aea0-ecef4c24436e",
   "metadata": {},
   "outputs": [
    {
     "name": "stdout",
     "output_type": "stream",
     "text": [
      "신씨가 소리질렀다. \"도둑이야\".\n"
     ]
    }
   ],
   "source": [
    "print('신씨가 소리질렀다. \"도둑이야\".')"
   ]
  },
  {
   "cell_type": "markdown",
   "id": "61108156-ea6f-435e-9c55-4ea3f23c1cd7",
   "metadata": {},
   "source": [
    "4. 화면에 C:\\Windows를 출력하세요."
   ]
  },
  {
   "cell_type": "code",
   "execution_count": 7,
   "id": "a407b6f1-4eba-453e-922a-3b36412cc988",
   "metadata": {},
   "outputs": [
    {
     "name": "stdout",
     "output_type": "stream",
     "text": [
      "C:\\Windows\n"
     ]
    }
   ],
   "source": [
    "print(\"C:\\Windows\")"
   ]
  },
  {
   "cell_type": "markdown",
   "id": "ec6dd9d9-4c99-45c2-aee8-2d0e0d5633a6",
   "metadata": {},
   "source": [
    "5. 다음 코드를 실행해보고 \\t와 \\n의 역할을 설명해보세요. <br>\r\n",
    "\r\n",
    "print(\"안녕하세요.\\n만나서\\t\\t반갑습니다.\")"
   ]
  },
  {
   "cell_type": "code",
   "execution_count": 9,
   "id": "39273908-3b92-4e41-8cdb-b958c761c1f4",
   "metadata": {},
   "outputs": [
    {
     "name": "stdout",
     "output_type": "stream",
     "text": [
      "안녕하세요.\n",
      "만나서\t\t반갑습니다.\n"
     ]
    }
   ],
   "source": [
    "print(\"안녕하세요.\\n만나서\\t\\t반갑습니다.\")"
   ]
  },
  {
   "cell_type": "markdown",
   "id": "62a5a6fe-35f1-4096-8c2c-7130a1c715d5",
   "metadata": {},
   "source": [
    "\\t는띄어쓰기, \\n은 줄바꿈"
   ]
  },
  {
   "cell_type": "markdown",
   "id": "37653d11-5332-4970-9775-ddb86c063e76",
   "metadata": {},
   "source": [
    "6. print 함수에 두 개의 단어를 입력한 예제입니다. 아래 코드의 출력 결과를 예상해봅시다. <br> print (\"오늘은\", \"일요일\")"
   ]
  },
  {
   "cell_type": "code",
   "execution_count": 8,
   "id": "f6af146b-abe6-499a-af7e-ef5be1cfa15f",
   "metadata": {},
   "outputs": [
    {
     "name": "stdout",
     "output_type": "stream",
     "text": [
      "오늘은 일요일\n"
     ]
    }
   ],
   "source": [
    "print(\"오늘은\",\"일요일\")"
   ]
  },
  {
   "cell_type": "markdown",
   "id": "7bdbdb01-7f52-43b6-ae8c-61c290a83104",
   "metadata": {},
   "source": [
    "7. print() 함수를 사용하여 다음과 같이 출력하세요.\n",
    "\n",
    "naver;kakao;sk;samsung"
   ]
  },
  {
   "cell_type": "code",
   "execution_count": 10,
   "id": "c839e0fa-9e57-41f4-bf6f-24cffee57557",
   "metadata": {},
   "outputs": [
    {
     "name": "stdout",
     "output_type": "stream",
     "text": [
      "naver; kakao; samsung\n"
     ]
    }
   ],
   "source": [
    "print(\"naver;\",\"kakao;\",\"samsung\")"
   ]
  },
  {
   "cell_type": "markdown",
   "id": "12e6ad10-7e6d-4667-945c-5b8965e5b17c",
   "metadata": {},
   "source": [
    "*해설<br>print 함수의 sep 인자로 \";\"를 입력하면 출력되는 값들 사이에 한 칸의 공백대신 세미콜론이 출력됩니다.<br>\r\n",
    "print(\"naver\", \"kakao\", \"samsung\", sep=\";\")"
   ]
  },
  {
   "cell_type": "markdown",
   "id": "8b48c621-6551-4f0f-93ad-cac9f706ab3d",
   "metadata": {},
   "source": [
    "8. print() 함수를 사용하여 다음과 같이 출력하세요.\r\n",
    "\r\n",
    "naver/kakao/sk/samsung"
   ]
  },
  {
   "cell_type": "code",
   "execution_count": 11,
   "id": "ee659cae-4028-4e97-80a1-2dc92cd1d69a",
   "metadata": {},
   "outputs": [
    {
     "name": "stdout",
     "output_type": "stream",
     "text": [
      "naver/kakao/sk/samsung\n"
     ]
    }
   ],
   "source": [
    "print(\"naver\",\"kakao\",\"sk\", \"samsung\", sep = \"/\")"
   ]
  },
  {
   "cell_type": "markdown",
   "id": "ff30f3c0-c65d-45f9-9bcf-49fb9856baaf",
   "metadata": {},
   "source": [
    "9. 다음 코드를 수정하여 줄바꿈이 없이 출력하세요.<br> (힌트: end='') print 함수는 두 번 사용합니다. 세미콜론 (;)은 한줄에 여러 개의 명령을 작성하기 위해 사용합니다.\r",
    "<br>\n",
    "\r\n",
    "print(\"first\");print(\"second\")"
   ]
  },
  {
   "cell_type": "code",
   "execution_count": 12,
   "id": "9f5ca20f-08db-429e-b3a4-307840fb6588",
   "metadata": {},
   "outputs": [
    {
     "name": "stdout",
     "output_type": "stream",
     "text": [
      "first\n",
      "second\n"
     ]
    }
   ],
   "source": [
    "print(\"first\");print(\"second\")"
   ]
  },
  {
   "cell_type": "markdown",
   "id": "fcae2e0d-44d9-4be7-80a6-501fb565ce60",
   "metadata": {},
   "source": [
    "*해설<br>print(\"first\", end=\"\"); print(\"second\")\n",
    "<br>\n",
    "아래 print 함수 설명(15번째줄) 참고 <br>\n",
    "print함수는 끝날때마다 \\n을 자동 출력해주는데, \\n은 줄바꿈 기능이다. <br>\n",
    "그러므로 end=\"\"라고 이를 대체해주는 것이다."
   ]
  },
  {
   "cell_type": "code",
   "execution_count": 13,
   "id": "b4b15450-ebb8-41f6-91fb-b954667811f3",
   "metadata": {},
   "outputs": [
    {
     "name": "stdout",
     "output_type": "stream",
     "text": [
      "firstsecond\n"
     ]
    }
   ],
   "source": [
    "print(\"first\", end=\"\"); print(\"second\")"
   ]
  },
  {
   "cell_type": "code",
   "execution_count": 15,
   "id": "831b0c9c-e617-4c97-9395-f6c5e6d58c45",
   "metadata": {},
   "outputs": [
    {
     "data": {
      "text/plain": [
       "\u001b[1;31mSignature:\u001b[0m \u001b[0mprint\u001b[0m\u001b[1;33m(\u001b[0m\u001b[1;33m*\u001b[0m\u001b[0margs\u001b[0m\u001b[1;33m,\u001b[0m \u001b[0msep\u001b[0m\u001b[1;33m=\u001b[0m\u001b[1;34m' '\u001b[0m\u001b[1;33m,\u001b[0m \u001b[0mend\u001b[0m\u001b[1;33m=\u001b[0m\u001b[1;34m'\\n'\u001b[0m\u001b[1;33m,\u001b[0m \u001b[0mfile\u001b[0m\u001b[1;33m=\u001b[0m\u001b[1;32mNone\u001b[0m\u001b[1;33m,\u001b[0m \u001b[0mflush\u001b[0m\u001b[1;33m=\u001b[0m\u001b[1;32mFalse\u001b[0m\u001b[1;33m)\u001b[0m\u001b[1;33m\u001b[0m\u001b[1;33m\u001b[0m\u001b[0m\n",
       "\u001b[1;31mDocstring:\u001b[0m\n",
       "Prints the values to a stream, or to sys.stdout by default.\n",
       "\n",
       "sep\n",
       "  string inserted between values, default a space.\n",
       "end\n",
       "  string appended after the last value, default a newline.\n",
       "file\n",
       "  a file-like object (stream); defaults to the current sys.stdout.\n",
       "flush\n",
       "  whether to forcibly flush the stream.\n",
       "\u001b[1;31mType:\u001b[0m      builtin_function_or_method"
      ]
     },
     "metadata": {},
     "output_type": "display_data"
    }
   ],
   "source": [
    "print?"
   ]
  },
  {
   "cell_type": "markdown",
   "id": "0d678785-acbf-47a3-abf8-fec4700bf8c6",
   "metadata": {},
   "source": [
    "10. 5/3의 결과를 화면에 출력하세요."
   ]
  },
  {
   "cell_type": "markdown",
   "id": "4300ff9d-4472-4c40-9e31-91b65c9c7210",
   "metadata": {},
   "source": [
    "11.\n",
    "삼성전자라는 변수로 50,000원을 바인딩해보세요. 삼성전자 주식 10주를 보유하고 있을 때 총 평가금액을 출력하세요."
   ]
  },
  {
   "cell_type": "code",
   "execution_count": 18,
   "id": "737b2bde-91b9-4e3c-9069-2ff9e8e9c4b5",
   "metadata": {},
   "outputs": [
    {
     "data": {
      "text/plain": [
       "5000000"
      ]
     },
     "execution_count": 18,
     "metadata": {},
     "output_type": "execute_result"
    }
   ],
   "source": [
    "삼성전자 = 500000\n",
    "총평가금액 = 삼성전자 * 10\n",
    "총평가금액"
   ]
  },
  {
   "cell_type": "markdown",
   "id": "792854ea-bc41-4939-bae8-ef8553ae8a99",
   "metadata": {},
   "source": [
    "12. 다음 표는 삼성전자의 일부 투자정보입니다. 변수를 사용해서 시가총액, 현재가, PER 등을 바인딩해보세요.|\r\n",
    "```15.79"
   ]
  },
  {
   "cell_type": "code",
   "execution_count": 16,
   "id": "8abd3b9d-e516-439f-8630-ea18bf05fc60",
   "metadata": {},
   "outputs": [
    {
     "name": "stdout",
     "output_type": "stream",
     "text": [
      "298000000000000 <class 'int'>\n",
      "50000 <class 'int'>\n",
      "15.79 <class 'float'>\n"
     ]
    }
   ],
   "source": [
    "시가총액 = 298000000000000\n",
    "현재가 = 50000\n",
    "PER = 15.79\n",
    "print(시가총액, type(시가총액))\n",
    "print(현재가, type(현재가))\n",
    "print(PER, type(PER))"
   ]
  },
  {
   "cell_type": "markdown",
   "id": "6525d723-fccc-455a-bd4c-d5a24a68ae83",
   "metadata": {},
   "source": [
    "음.. 12번은 아예 문제와 해설을 모두 이해할 수 없음 ㅠㅠ"
   ]
  },
  {
   "cell_type": "markdown",
   "id": "84144943-e13c-44b6-9297-b6f8d777ce77",
   "metadata": {},
   "source": [
    "13. 변수 s와 t에는 각각 문자열이 바인딩 되어있습니다. <br>\n",
    "> s = \"hell <br>o>> t = \"pyth <br>on\"\r\n",
    "두 변수를 이용하여 아래와 같이 출력해 <br>보세요.\r\n",
    "\r",
    " <br>\n",
    "실행 예:\r\n",
    "hello! python"
   ]
  },
  {
   "cell_type": "code",
   "execution_count": 3,
   "id": "1b4021b5-d7c5-4280-8d2d-fc627965bcee",
   "metadata": {},
   "outputs": [
    {
     "name": "stdout",
     "output_type": "stream",
     "text": [
      "hello! python\n"
     ]
    }
   ],
   "source": [
    "s = \"hello\"\n",
    "t = \"python\"\n",
    "print(s+\"! \"+t)"
   ]
  },
  {
   "cell_type": "markdown",
   "id": "5e64ab42-7c79-43e4-9d10-9850ac2eef35",
   "metadata": {},
   "source": [
    "14. 아래 코드의 실행 결과를 예상해보세요.\r",
    "> 2 + 2 * 3 "
   ]
  },
  {
   "cell_type": "code",
   "execution_count": 4,
   "id": "012ee830-caf7-47df-b127-9889a87d087a",
   "metadata": {},
   "outputs": [
    {
     "data": {
      "text/plain": [
       "8"
      ]
     },
     "execution_count": 4,
     "metadata": {},
     "output_type": "execute_result"
    }
   ],
   "source": [
    "2 + 2 * 3"
   ]
  },
  {
   "cell_type": "code",
   "execution_count": 8,
   "id": "91538628-3431-4c8f-8404-6c742e46bfd0",
   "metadata": {},
   "outputs": [
    {
     "name": "stdout",
     "output_type": "stream",
     "text": [
      "<class 'int'>\n"
     ]
    }
   ],
   "source": [
    "a = 128\r",
    "print(type(a))"
   ]
  },
  {
   "cell_type": "code",
   "execution_count": 10,
   "id": "2e31d569-9e61-4644-afc1-3f1be05fc120",
   "metadata": {},
   "outputs": [
    {
     "name": "stdout",
     "output_type": "stream",
     "text": [
      "<class 'str'>\n"
     ]
    }
   ],
   "source": [
    "a = \"132\"\n",
    "print(type(a))"
   ]
  },
  {
   "cell_type": "code",
   "execution_count": 12,
   "id": "b11ed168-9f72-4a5f-9290-b26bb5e448bf",
   "metadata": {},
   "outputs": [
    {
     "data": {
      "text/plain": [
       "'100'"
      ]
     },
     "execution_count": 12,
     "metadata": {},
     "output_type": "execute_result"
    }
   ],
   "source": [
    "# 17. 정수 100을 문자열 '100'으로 변환해보세요.\n",
    "\n",
    "str(100)"
   ]
  },
  {
   "cell_type": "code",
   "execution_count": 14,
   "id": "02fc564f-8ac6-4894-9663-afcfb0677d21",
   "metadata": {},
   "outputs": [
    {
     "data": {
      "text/plain": [
       "15.79"
      ]
     },
     "execution_count": 14,
     "metadata": {},
     "output_type": "execute_result"
    }
   ],
   "source": [
    "# 18. 문자열 \"15.79\"를 실수(float) 타입으로 변환해보세요.\n",
    "\n",
    "float(\"15.79\")"
   ]
  },
  {
   "cell_type": "code",
   "execution_count": 26,
   "id": "77951088-988c-4b22-b458-b832ce5a9b07",
   "metadata": {},
   "outputs": [
    {
     "data": {
      "text/plain": [
       "2020"
      ]
     },
     "execution_count": 26,
     "metadata": {},
     "output_type": "execute_result"
    }
   ],
   "source": [
    "# 19. year라는 변수가 문자열 타입의 연도를 바인딩하고 있습니다. 이를 정수로 변환한 후 최근 3년의 연도를 화면에 출력해보세요.\n",
    "\n",
    "year = \"2020\"\n",
    "int(year)"
   ]
  },
  {
   "cell_type": "code",
   "execution_count": 31,
   "id": "d99dcdcd-c245-482e-aad2-182f7794e2d9",
   "metadata": {},
   "outputs": [
    {
     "name": "stdout",
     "output_type": "stream",
     "text": [
      "2020\n",
      "2021\n",
      "2022\n"
     ]
    }
   ],
   "source": [
    "print(int(year))\n",
    "print(int(year)+1)\n",
    "print(int(year)+2)"
   ]
  },
  {
   "cell_type": "code",
   "execution_count": 43,
   "id": "5545812d-67e1-4d20-a04f-b113d4b0f8c0",
   "metadata": {},
   "outputs": [
    {
     "name": "stdout",
     "output_type": "stream",
     "text": [
      "1749024\n"
     ]
    }
   ],
   "source": [
    "# 20. 에이컨이 월 48,584원에 무이자 36개월의 조건으로 홈쇼핑에서 판매되고 있습니다. 총 금액은 계산한 후 이를 화면에 출력해보세요. (변수사용하기)\n",
    "월할부금액 = 48584\n",
    "총금액 = 월할부금액 * 36\n",
    "print(총금액)"
   ]
  },
  {
   "cell_type": "code",
   "execution_count": 47,
   "id": "dd701021-ce51-43a4-a3fe-1cdff634d672",
   "metadata": {},
   "outputs": [
    {
     "name": "stdout",
     "output_type": "stream",
     "text": [
      "p h\n"
     ]
    }
   ],
   "source": [
    "# 21. letters가 바인딩하는 문자열에서 첫번째와 세번째 문자를 출력하세요. letters = 'python'\n",
    "Letters = 'python'\n",
    "print(Letters[0], Letters[3])"
   ]
  },
  {
   "cell_type": "code",
   "execution_count": 49,
   "id": "f4a23045-dc3b-4adb-9a73-36a54d12abfd",
   "metadata": {},
   "outputs": [
    {
     "name": "stdout",
     "output_type": "stream",
     "text": [
      "2210\n"
     ]
    }
   ],
   "source": [
    "# 22. 자동차 번호가 다음과 같을 때 뒤에 4자리만 출력하세요. license_plate = \"24가 2210\"\n",
    "\n",
    "license_plate = \"24가 2210\"\n",
    "print(license_plate[-4:])"
   ]
  },
  {
   "cell_type": "code",
   "execution_count": 51,
   "id": "a820d30d-ac53-4d0e-80da-c70ef9375dce",
   "metadata": {},
   "outputs": [
    {
     "name": "stdout",
     "output_type": "stream",
     "text": [
      "홀홀홀\n"
     ]
    }
   ],
   "source": [
    "# 23. 아래의 문자열에서 '홀' 만 출력하세요.  string = \"홀짝홀짝홀짝\"\n",
    "\n",
    "string = \"홀짝홀짝홀짝\"\n",
    "print(string[::2])"
   ]
  },
  {
   "cell_type": "code",
   "execution_count": 1,
   "id": "fd2086c1-85e0-4d43-af44-ba8399fd67a4",
   "metadata": {},
   "outputs": [
    {
     "data": {
      "text/plain": [
       "'NOHTYP'"
      ]
     },
     "execution_count": 1,
     "metadata": {},
     "output_type": "execute_result"
    }
   ],
   "source": [
    "#24. 문자열을 거꾸로 뒤집어 출력하세요.  string = \"PYTHON\"\n",
    "\n",
    "string = \"PYTHON\"\n",
    "string[::-1]"
   ]
  },
  {
   "cell_type": "code",
   "execution_count": 9,
   "id": "76f0edf7-9a12-4648-8172-8530f6095a45",
   "metadata": {},
   "outputs": [
    {
     "data": {
      "text/plain": [
       "'010 1111 2222'"
      ]
     },
     "execution_count": 9,
     "metadata": {},
     "output_type": "execute_result"
    }
   ],
   "source": [
    "# 25. 아래의 전화번호에서 하이푼 ('-')을 제거하고 출력하세요. phone_number = \"010-1111-2222\"\n",
    "\n",
    "phone_number = \"010-1111-2222\"\n",
    "a = phone_number.replace(\"-\",\" \")\n",
    "a"
   ]
  },
  {
   "cell_type": "code",
   "execution_count": 10,
   "id": "ebd2418d-451d-4088-88ac-8f575f3d36cb",
   "metadata": {},
   "outputs": [
    {
     "data": {
      "text/plain": [
       "'01011112222'"
      ]
     },
     "execution_count": 10,
     "metadata": {},
     "output_type": "execute_result"
    }
   ],
   "source": [
    "#26. 25번 문제의 전화번호를 아래와 같이 모두 붙여 출력하세요. 실행 예 01011112222\n",
    "\n",
    "phone_number = \"010-1111-2222\"\n",
    "a = phone_number.replace(\"-\",\"\")\n",
    "a"
   ]
  },
  {
   "cell_type": "code",
   "execution_count": 15,
   "id": "a4963137-73de-4a73-8d54-be3cf9ff842f",
   "metadata": {},
   "outputs": [
    {
     "name": "stdout",
     "output_type": "stream",
     "text": [
      "kr\n"
     ]
    }
   ],
   "source": [
    "#  27. url 에 저장된 웹 페이지 주소에서 도메인을 출력하세요. url = \"http://sharebook.kr\"\n",
    "\n",
    "url = \"http://sharebook.kr\"\n",
    "a = url.split('.')\n",
    "print(a[-1])"
   ]
  },
  {
   "cell_type": "code",
   "execution_count": 16,
   "id": "919390c6-f751-4114-b870-8de1c57d9d4c",
   "metadata": {},
   "outputs": [
    {
     "ename": "TypeError",
     "evalue": "'str' object does not support item assignment",
     "output_type": "error",
     "traceback": [
      "\u001b[1;31m---------------------------------------------------------------------------\u001b[0m",
      "\u001b[1;31mTypeError\u001b[0m                                 Traceback (most recent call last)",
      "Cell \u001b[1;32mIn[16], line 4\u001b[0m\n\u001b[0;32m      1\u001b[0m \u001b[38;5;66;03m#28. 아래 코드의 실행 결과를 예상해보세요. \u001b[39;00m\n\u001b[0;32m      3\u001b[0m lang \u001b[38;5;241m=\u001b[39m \u001b[38;5;124m'\u001b[39m\u001b[38;5;124mpython\u001b[39m\u001b[38;5;124m'\u001b[39m\n\u001b[1;32m----> 4\u001b[0m lang[\u001b[38;5;241m0\u001b[39m] \u001b[38;5;241m=\u001b[39m \u001b[38;5;124m'\u001b[39m\u001b[38;5;124mP\u001b[39m\u001b[38;5;124m'\u001b[39m\n\u001b[0;32m      5\u001b[0m \u001b[38;5;28mprint\u001b[39m(lang)\n",
      "\u001b[1;31mTypeError\u001b[0m: 'str' object does not support item assignment"
     ]
    }
   ],
   "source": [
    "#28. 아래 코드의 실행 결과를 예상해보세요. \n",
    "\n",
    "lang = 'python'\n",
    "lang[0] = 'P'\n",
    "print(lang)"
   ]
  },
  {
   "cell_type": "code",
   "execution_count": 18,
   "id": "26fd03cc-aad9-4354-812b-1ea88ae27d00",
   "metadata": {},
   "outputs": [
    {
     "data": {
      "text/plain": [
       "'Abcdfe2A354A32A'"
      ]
     },
     "execution_count": 18,
     "metadata": {},
     "output_type": "execute_result"
    }
   ],
   "source": [
    "#29. 아래 문자열에서 소문자 'a'를 대문자 'A'로 변경하세요.\n",
    "\n",
    "string = 'abcdfe2a354a32a'\n",
    "a = string.replace('a', 'A')\n",
    "a"
   ]
  },
  {
   "cell_type": "code",
   "execution_count": 19,
   "id": "8cecbaa8-5a4f-4764-b823-bbe25edff954",
   "metadata": {},
   "outputs": [
    {
     "name": "stdout",
     "output_type": "stream",
     "text": [
      "abcd\n"
     ]
    }
   ],
   "source": [
    "# 30. 아래 코드의 실행 결과를 예상해보세요.\n",
    "\n",
    "string = 'abcd'\n",
    "string.replace('b', 'B')\n",
    "print(string)"
   ]
  },
  {
   "cell_type": "code",
   "execution_count": 20,
   "id": "99fd429e-4503-492d-96d6-ab17cc687b11",
   "metadata": {},
   "outputs": [
    {
     "name": "stdout",
     "output_type": "stream",
     "text": [
      "34\n"
     ]
    }
   ],
   "source": [
    "#31. 아래 코드의 실행 결과를 예상해보세요.\n",
    "\n",
    "a = \"3\"\n",
    "b = \"4\"\n",
    "print(a + b)"
   ]
  },
  {
   "cell_type": "code",
   "execution_count": 21,
   "id": "bebf7ebc-8fd9-4831-b39f-7c3beab91a07",
   "metadata": {},
   "outputs": [
    {
     "name": "stdout",
     "output_type": "stream",
     "text": [
      "HiHiHi\n"
     ]
    }
   ],
   "source": [
    "#32. 아래 코드의 실행 결과를 예상해보세요.\n",
    "\n",
    "print(\"Hi\" * 3)"
   ]
  },
  {
   "cell_type": "code",
   "execution_count": 23,
   "id": "b2194f3d-ac6e-47e5-8863-c1c89941542a",
   "metadata": {},
   "outputs": [
    {
     "name": "stdout",
     "output_type": "stream",
     "text": [
      "--------------------------------------------------------------------------------\n"
     ]
    }
   ],
   "source": [
    "# 33. 문자열 곱하기 : 화면에 '-'를 80개 출력하세요.\n",
    "\n",
    "print('-' * 80)"
   ]
  },
  {
   "cell_type": "code",
   "execution_count": 29,
   "id": "bc4792dc-14f7-435c-9d17-3c0245eb055b",
   "metadata": {},
   "outputs": [
    {
     "name": "stdout",
     "output_type": "stream",
     "text": [
      "python java python java python java python java \n"
     ]
    }
   ],
   "source": [
    "#34. 변수에 다음과 같은 문자열이 바인딩되어 있습니다. 변수에 문자열 더하기와 문자열 곱하기를 사용해서 아래와 같이 출력해보세요.\n",
    "# 실행 예: python java python java python java python java\n",
    "\n",
    "t1 = 'python'\n",
    "t2 = 'java'\n",
    "\n",
    "a = t1 + \" \" + t2 + \" \"\n",
    "a\n",
    "print(a * 4)"
   ]
  },
  {
   "cell_type": "code",
   "execution_count": null,
   "id": "f777265c-3053-4d5c-acfa-894fc1325d9e",
   "metadata": {},
   "outputs": [],
   "source": [
    "#35. 변수에 다음과 같이 문자열과 정수가 바인딩되어 있을 때 % formatting을 사용해서 다음과 같이 출력해보세요.\n",
    "\n",
    "name1 = \"김민수\" \n",
    "age1 = 10\n",
    "name2 = \"이철희\"\n",
    "age2 = 13\n",
    "이름: 김민수 나이: 10\n",
    "이름: 이철희 나이: 13"
   ]
  },
  {
   "cell_type": "code",
   "execution_count": null,
   "id": "ecc8b5a6-777c-461b-b045-7dbfddad1449",
   "metadata": {},
   "outputs": [],
   "source": [
    "# 81. my_variable 이름의 비어있는 튜플을 만들라."
   ]
  }
 ],
 "metadata": {
  "kernelspec": {
   "display_name": "Python 3 (ipykernel)",
   "language": "python",
   "name": "python3"
  },
  "language_info": {
   "codemirror_mode": {
    "name": "ipython",
    "version": 3
   },
   "file_extension": ".py",
   "mimetype": "text/x-python",
   "name": "python",
   "nbconvert_exporter": "python",
   "pygments_lexer": "ipython3",
   "version": "3.11.7"
  }
 },
 "nbformat": 4,
 "nbformat_minor": 5
}
