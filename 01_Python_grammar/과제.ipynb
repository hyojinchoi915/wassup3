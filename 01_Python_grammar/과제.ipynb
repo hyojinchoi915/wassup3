{
 "cells": [
  {
   "cell_type": "markdown",
   "id": "f7d4d447-c8ca-452b-837b-58d52a5b3727",
   "metadata": {},
   "source": [
    "001. 화면에 Hello World 문자열을 출력하세요."
   ]
  },
  {
   "cell_type": "code",
   "execution_count": 1,
   "id": "0af8e2ae-2af4-41e7-960c-18669b2d75e2",
   "metadata": {},
   "outputs": [
    {
     "name": "stdout",
     "output_type": "stream",
     "text": [
      "Hello World\n"
     ]
    }
   ],
   "source": [
    "print(\"Hello World\")"
   ]
  },
  {
   "cell_type": "markdown",
   "id": "06b2a59b-5b4b-479d-8451-cb147510948f",
   "metadata": {},
   "source": [
    "2. 화면에 Mary's cosmetics을 출력하세요. (중간에 '가 있음에 주의하세요)"
   ]
  },
  {
   "cell_type": "code",
   "execution_count": 3,
   "id": "c5e1414d-8bcb-4341-8aaa-f068babba7fd",
   "metadata": {},
   "outputs": [
    {
     "name": "stdout",
     "output_type": "stream",
     "text": [
      "Mary's cosmetics\n"
     ]
    }
   ],
   "source": [
    "print(\"Mary's cosmetics\")"
   ]
  },
  {
   "cell_type": "markdown",
   "id": "626bab75-7df6-4430-920f-77cd33be920f",
   "metadata": {},
   "source": [
    "3. 화면에 아래 문장을 출력하세요. (중간에 \"가 있음에 주의하세요.)<br>신씨가 소리질렀다. \"도둑이야\"."
   ]
  },
  {
   "cell_type": "code",
   "execution_count": 5,
   "id": "be831c3a-0506-4f9f-aea0-ecef4c24436e",
   "metadata": {},
   "outputs": [
    {
     "name": "stdout",
     "output_type": "stream",
     "text": [
      "신씨가 소리질렀다. \"도둑이야\".\n"
     ]
    }
   ],
   "source": [
    "print('신씨가 소리질렀다. \"도둑이야\".')"
   ]
  },
  {
   "cell_type": "markdown",
   "id": "61108156-ea6f-435e-9c55-4ea3f23c1cd7",
   "metadata": {},
   "source": [
    "4. 화면에 C:\\Windows를 출력하세요."
   ]
  },
  {
   "cell_type": "code",
   "execution_count": 7,
   "id": "a407b6f1-4eba-453e-922a-3b36412cc988",
   "metadata": {},
   "outputs": [
    {
     "name": "stdout",
     "output_type": "stream",
     "text": [
      "C:\\Windows\n"
     ]
    }
   ],
   "source": [
    "print(\"C:\\Windows\")"
   ]
  },
  {
   "cell_type": "markdown",
   "id": "ec6dd9d9-4c99-45c2-aee8-2d0e0d5633a6",
   "metadata": {},
   "source": [
    "5. 다음 코드를 실행해보고 \\t와 \\n의 역할을 설명해보세요. <br>\r\n",
    "\r\n",
    "print(\"안녕하세요.\\n만나서\\t\\t반갑습니다.\")"
   ]
  },
  {
   "cell_type": "code",
   "execution_count": 9,
   "id": "39273908-3b92-4e41-8cdb-b958c761c1f4",
   "metadata": {},
   "outputs": [
    {
     "name": "stdout",
     "output_type": "stream",
     "text": [
      "안녕하세요.\n",
      "만나서\t\t반갑습니다.\n"
     ]
    }
   ],
   "source": [
    "print(\"안녕하세요.\\n만나서\\t\\t반갑습니다.\")"
   ]
  },
  {
   "cell_type": "markdown",
   "id": "62a5a6fe-35f1-4096-8c2c-7130a1c715d5",
   "metadata": {},
   "source": [
    "\\t는띄어쓰기, \\n은 줄바꿈"
   ]
  },
  {
   "cell_type": "markdown",
   "id": "37653d11-5332-4970-9775-ddb86c063e76",
   "metadata": {},
   "source": [
    "6. print 함수에 두 개의 단어를 입력한 예제입니다. 아래 코드의 출력 결과를 예상해봅시다. <br> print (\"오늘은\", \"일요일\")"
   ]
  },
  {
   "cell_type": "code",
   "execution_count": 8,
   "id": "f6af146b-abe6-499a-af7e-ef5be1cfa15f",
   "metadata": {},
   "outputs": [
    {
     "name": "stdout",
     "output_type": "stream",
     "text": [
      "오늘은 일요일\n"
     ]
    }
   ],
   "source": [
    "print(\"오늘은\",\"일요일\")"
   ]
  },
  {
   "cell_type": "markdown",
   "id": "7bdbdb01-7f52-43b6-ae8c-61c290a83104",
   "metadata": {},
   "source": [
    "7. print() 함수를 사용하여 다음과 같이 출력하세요.\n",
    "\n",
    "naver;kakao;sk;samsung"
   ]
  },
  {
   "cell_type": "code",
   "execution_count": 10,
   "id": "c839e0fa-9e57-41f4-bf6f-24cffee57557",
   "metadata": {},
   "outputs": [
    {
     "name": "stdout",
     "output_type": "stream",
     "text": [
      "naver; kakao; samsung\n"
     ]
    }
   ],
   "source": [
    "print(\"naver;\",\"kakao;\",\"samsung\")"
   ]
  },
  {
   "cell_type": "markdown",
   "id": "12e6ad10-7e6d-4667-945c-5b8965e5b17c",
   "metadata": {},
   "source": [
    "*해설<br>print 함수의 sep 인자로 \";\"를 입력하면 출력되는 값들 사이에 한 칸의 공백대신 세미콜론이 출력됩니다.<br>\r\n",
    "print(\"naver\", \"kakao\", \"samsung\", sep=\";\")"
   ]
  },
  {
   "cell_type": "markdown",
   "id": "8b48c621-6551-4f0f-93ad-cac9f706ab3d",
   "metadata": {},
   "source": [
    "8. print() 함수를 사용하여 다음과 같이 출력하세요.\r\n",
    "\r\n",
    "naver/kakao/sk/samsung"
   ]
  },
  {
   "cell_type": "code",
   "execution_count": 11,
   "id": "ee659cae-4028-4e97-80a1-2dc92cd1d69a",
   "metadata": {},
   "outputs": [
    {
     "name": "stdout",
     "output_type": "stream",
     "text": [
      "naver/kakao/sk/samsung\n"
     ]
    }
   ],
   "source": [
    "print(\"naver\",\"kakao\",\"sk\", \"samsung\", sep = \"/\")"
   ]
  },
  {
   "cell_type": "markdown",
   "id": "ff30f3c0-c65d-45f9-9bcf-49fb9856baaf",
   "metadata": {},
   "source": [
    "9. 다음 코드를 수정하여 줄바꿈이 없이 출력하세요.<br> (힌트: end='') print 함수는 두 번 사용합니다. 세미콜론 (;)은 한줄에 여러 개의 명령을 작성하기 위해 사용합니다.\r",
    "<br>\n",
    "\r\n",
    "print(\"first\");print(\"second\")"
   ]
  },
  {
   "cell_type": "code",
   "execution_count": 12,
   "id": "9f5ca20f-08db-429e-b3a4-307840fb6588",
   "metadata": {},
   "outputs": [
    {
     "name": "stdout",
     "output_type": "stream",
     "text": [
      "first\n",
      "second\n"
     ]
    }
   ],
   "source": [
    "print(\"first\");print(\"second\")"
   ]
  },
  {
   "cell_type": "markdown",
   "id": "fcae2e0d-44d9-4be7-80a6-501fb565ce60",
   "metadata": {},
   "source": [
    "*해설<br>print(\"first\", end=\"\"); print(\"second\")\n",
    "<br>\n",
    "아래 print 함수 설명(15번째줄) 참고 <br>\n",
    "print함수는 끝날때마다 \\n을 자동 출력해주는데, \\n은 줄바꿈 기능이다. <br>\n",
    "그러므로 end=\"\"라고 이를 대체해주는 것이다."
   ]
  },
  {
   "cell_type": "code",
   "execution_count": 13,
   "id": "b4b15450-ebb8-41f6-91fb-b954667811f3",
   "metadata": {},
   "outputs": [
    {
     "name": "stdout",
     "output_type": "stream",
     "text": [
      "firstsecond\n"
     ]
    }
   ],
   "source": [
    "print(\"first\", end=\"\"); print(\"second\")"
   ]
  },
  {
   "cell_type": "code",
   "execution_count": 15,
   "id": "831b0c9c-e617-4c97-9395-f6c5e6d58c45",
   "metadata": {},
   "outputs": [
    {
     "data": {
      "text/plain": [
       "\u001b[1;31mSignature:\u001b[0m \u001b[0mprint\u001b[0m\u001b[1;33m(\u001b[0m\u001b[1;33m*\u001b[0m\u001b[0margs\u001b[0m\u001b[1;33m,\u001b[0m \u001b[0msep\u001b[0m\u001b[1;33m=\u001b[0m\u001b[1;34m' '\u001b[0m\u001b[1;33m,\u001b[0m \u001b[0mend\u001b[0m\u001b[1;33m=\u001b[0m\u001b[1;34m'\\n'\u001b[0m\u001b[1;33m,\u001b[0m \u001b[0mfile\u001b[0m\u001b[1;33m=\u001b[0m\u001b[1;32mNone\u001b[0m\u001b[1;33m,\u001b[0m \u001b[0mflush\u001b[0m\u001b[1;33m=\u001b[0m\u001b[1;32mFalse\u001b[0m\u001b[1;33m)\u001b[0m\u001b[1;33m\u001b[0m\u001b[1;33m\u001b[0m\u001b[0m\n",
       "\u001b[1;31mDocstring:\u001b[0m\n",
       "Prints the values to a stream, or to sys.stdout by default.\n",
       "\n",
       "sep\n",
       "  string inserted between values, default a space.\n",
       "end\n",
       "  string appended after the last value, default a newline.\n",
       "file\n",
       "  a file-like object (stream); defaults to the current sys.stdout.\n",
       "flush\n",
       "  whether to forcibly flush the stream.\n",
       "\u001b[1;31mType:\u001b[0m      builtin_function_or_method"
      ]
     },
     "metadata": {},
     "output_type": "display_data"
    }
   ],
   "source": [
    "print?"
   ]
  },
  {
   "cell_type": "markdown",
   "id": "0d678785-acbf-47a3-abf8-fec4700bf8c6",
   "metadata": {},
   "source": [
    "10. 5/3의 결과를 화면에 출력하세요."
   ]
  },
  {
   "cell_type": "markdown",
   "id": "4300ff9d-4472-4c40-9e31-91b65c9c7210",
   "metadata": {},
   "source": [
    "11.\n",
    "삼성전자라는 변수로 50,000원을 바인딩해보세요. 삼성전자 주식 10주를 보유하고 있을 때 총 평가금액을 출력하세요."
   ]
  },
  {
   "cell_type": "code",
   "execution_count": 18,
   "id": "737b2bde-91b9-4e3c-9069-2ff9e8e9c4b5",
   "metadata": {},
   "outputs": [
    {
     "data": {
      "text/plain": [
       "5000000"
      ]
     },
     "execution_count": 18,
     "metadata": {},
     "output_type": "execute_result"
    }
   ],
   "source": [
    "삼성전자 = 500000\n",
    "총평가금액 = 삼성전자 * 10\n",
    "총평가금액"
   ]
  },
  {
   "cell_type": "markdown",
   "id": "792854ea-bc41-4939-bae8-ef8553ae8a99",
   "metadata": {},
   "source": [
    "12. 다음 표는 삼성전자의 일부 투자정보입니다. 변수를 사용해서 시가총액, 현재가, PER 등을 바인딩해보세요.|\r\n",
    "```15.79"
   ]
  },
  {
   "cell_type": "code",
   "execution_count": 16,
   "id": "8abd3b9d-e516-439f-8630-ea18bf05fc60",
   "metadata": {},
   "outputs": [
    {
     "name": "stdout",
     "output_type": "stream",
     "text": [
      "298000000000000 <class 'int'>\n",
      "50000 <class 'int'>\n",
      "15.79 <class 'float'>\n"
     ]
    }
   ],
   "source": [
    "시가총액 = 298000000000000\n",
    "현재가 = 50000\n",
    "PER = 15.79\n",
    "print(시가총액, type(시가총액))\n",
    "print(현재가, type(현재가))\n",
    "print(PER, type(PER))"
   ]
  },
  {
   "cell_type": "markdown",
   "id": "6525d723-fccc-455a-bd4c-d5a24a68ae83",
   "metadata": {},
   "source": [
    "음.. 12번은 아예 문제와 해설을 모두 이해할 수 없음 ㅠㅠ"
   ]
  },
  {
   "cell_type": "markdown",
   "id": "84144943-e13c-44b6-9297-b6f8d777ce77",
   "metadata": {},
   "source": [
    "13. 변수 s와 t에는 각각 문자열이 바인딩 되어있습니다. <br>\n",
    "> s = \"hell <br>o>> t = \"pyth <br>on\"\r\n",
    "두 변수를 이용하여 아래와 같이 출력해 <br>보세요.\r\n",
    "\r",
    " <br>\n",
    "실행 예:\r\n",
    "hello! python"
   ]
  },
  {
   "cell_type": "code",
   "execution_count": 20,
   "id": "1b4021b5-d7c5-4280-8d2d-fc627965bcee",
   "metadata": {},
   "outputs": [
    {
     "ename": "SyntaxError",
     "evalue": "invalid syntax (583196714.py, line 1)",
     "output_type": "error",
     "traceback": [
      "\u001b[1;36m  Cell \u001b[1;32mIn[20], line 1\u001b[1;36m\u001b[0m\n\u001b[1;33m    print(s ! t)\u001b[0m\n\u001b[1;37m            ^\u001b[0m\n\u001b[1;31mSyntaxError\u001b[0m\u001b[1;31m:\u001b[0m invalid syntax\n"
     ]
    }
   ],
   "source": [
    "print(s ! t)"
   ]
  },
  {
   "cell_type": "code",
   "execution_count": null,
   "id": "5f2daa12-b0d4-4d34-a6bf-f112109e54d4",
   "metadata": {},
   "outputs": [],
   "source": []
  }
 ],
 "metadata": {
  "kernelspec": {
   "display_name": "Python 3 (ipykernel)",
   "language": "python",
   "name": "python3"
  },
  "language_info": {
   "codemirror_mode": {
    "name": "ipython",
    "version": 3
   },
   "file_extension": ".py",
   "mimetype": "text/x-python",
   "name": "python",
   "nbconvert_exporter": "python",
   "pygments_lexer": "ipython3",
   "version": "3.11.7"
  }
 },
 "nbformat": 4,
 "nbformat_minor": 5
}
