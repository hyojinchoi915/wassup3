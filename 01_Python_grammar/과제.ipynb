{
 "cells": [
  {
   "cell_type": "markdown",
   "id": "f7d4d447-c8ca-452b-837b-58d52a5b3727",
   "metadata": {},
   "source": [
    "001. 화면에 Hello World 문자열을 출력하세요."
   ]
  },
  {
   "cell_type": "code",
   "execution_count": 1,
   "id": "0af8e2ae-2af4-41e7-960c-18669b2d75e2",
   "metadata": {},
   "outputs": [
    {
     "name": "stdout",
     "output_type": "stream",
     "text": [
      "Hello World\n"
     ]
    }
   ],
   "source": [
    "print(\"Hello World\")"
   ]
  },
  {
   "cell_type": "markdown",
   "id": "06b2a59b-5b4b-479d-8451-cb147510948f",
   "metadata": {},
   "source": [
    "2. 화면에 Mary's cosmetics을 출력하세요. (중간에 '가 있음에 주의하세요)"
   ]
  },
  {
   "cell_type": "code",
   "execution_count": 3,
   "id": "c5e1414d-8bcb-4341-8aaa-f068babba7fd",
   "metadata": {},
   "outputs": [
    {
     "name": "stdout",
     "output_type": "stream",
     "text": [
      "Mary's cosmetics\n"
     ]
    }
   ],
   "source": [
    "print(\"Mary's cosmetics\")"
   ]
  },
  {
   "cell_type": "markdown",
   "id": "626bab75-7df6-4430-920f-77cd33be920f",
   "metadata": {},
   "source": [
    "3. 화면에 아래 문장을 출력하세요. (중간에 \"가 있음에 주의하세요.)<br>신씨가 소리질렀다. \"도둑이야\"."
   ]
  },
  {
   "cell_type": "code",
   "execution_count": 5,
   "id": "be831c3a-0506-4f9f-aea0-ecef4c24436e",
   "metadata": {},
   "outputs": [
    {
     "name": "stdout",
     "output_type": "stream",
     "text": [
      "신씨가 소리질렀다. \"도둑이야\".\n"
     ]
    }
   ],
   "source": [
    "print('신씨가 소리질렀다. \"도둑이야\".')"
   ]
  },
  {
   "cell_type": "markdown",
   "id": "61108156-ea6f-435e-9c55-4ea3f23c1cd7",
   "metadata": {},
   "source": [
    "4. 화면에 C:\\Windows를 출력하세요."
   ]
  },
  {
   "cell_type": "code",
   "execution_count": 7,
   "id": "a407b6f1-4eba-453e-922a-3b36412cc988",
   "metadata": {},
   "outputs": [
    {
     "name": "stdout",
     "output_type": "stream",
     "text": [
      "C:\\Windows\n"
     ]
    }
   ],
   "source": [
    "print(\"C:\\Windows\")"
   ]
  },
  {
   "cell_type": "markdown",
   "id": "ec6dd9d9-4c99-45c2-aee8-2d0e0d5633a6",
   "metadata": {},
   "source": [
    "5. 다음 코드를 실행해보고 \\t와 \\n의 역할을 설명해보세요. <br>\r\n",
    "\r\n",
    "print(\"안녕하세요.\\n만나서\\t\\t반갑습니다.\")"
   ]
  },
  {
   "cell_type": "code",
   "execution_count": 9,
   "id": "39273908-3b92-4e41-8cdb-b958c761c1f4",
   "metadata": {},
   "outputs": [
    {
     "name": "stdout",
     "output_type": "stream",
     "text": [
      "안녕하세요.\n",
      "만나서\t\t반갑습니다.\n"
     ]
    }
   ],
   "source": [
    "print(\"안녕하세요.\\n만나서\\t\\t반갑습니다.\")"
   ]
  },
  {
   "cell_type": "markdown",
   "id": "62a5a6fe-35f1-4096-8c2c-7130a1c715d5",
   "metadata": {},
   "source": [
    "\\t는띄어쓰기, \\n은 줄바꿈"
   ]
  },
  {
   "cell_type": "markdown",
   "id": "37653d11-5332-4970-9775-ddb86c063e76",
   "metadata": {},
   "source": [
    "6. print 함수에 두 개의 단어를 입력한 예제입니다. 아래 코드의 출력 결과를 예상해봅시다. <br> print (\"오늘은\", \"일요일\")"
   ]
  },
  {
   "cell_type": "code",
   "execution_count": 8,
   "id": "f6af146b-abe6-499a-af7e-ef5be1cfa15f",
   "metadata": {},
   "outputs": [
    {
     "name": "stdout",
     "output_type": "stream",
     "text": [
      "오늘은 일요일\n"
     ]
    }
   ],
   "source": [
    "print(\"오늘은\",\"일요일\")"
   ]
  },
  {
   "cell_type": "markdown",
   "id": "7bdbdb01-7f52-43b6-ae8c-61c290a83104",
   "metadata": {},
   "source": [
    "7. print() 함수를 사용하여 다음과 같이 출력하세요.\n",
    "\n",
    "naver;kakao;sk;samsung"
   ]
  },
  {
   "cell_type": "code",
   "execution_count": 10,
   "id": "c839e0fa-9e57-41f4-bf6f-24cffee57557",
   "metadata": {},
   "outputs": [
    {
     "name": "stdout",
     "output_type": "stream",
     "text": [
      "naver; kakao; samsung\n"
     ]
    }
   ],
   "source": [
    "print(\"naver;\",\"kakao;\",\"samsung\")"
   ]
  },
  {
   "cell_type": "markdown",
   "id": "12e6ad10-7e6d-4667-945c-5b8965e5b17c",
   "metadata": {},
   "source": [
    "*해설<br>print 함수의 sep 인자로 \";\"를 입력하면 출력되는 값들 사이에 한 칸의 공백대신 세미콜론이 출력됩니다.<br>\r\n",
    "print(\"naver\", \"kakao\", \"samsung\", sep=\";\")"
   ]
  },
  {
   "cell_type": "markdown",
   "id": "8b48c621-6551-4f0f-93ad-cac9f706ab3d",
   "metadata": {},
   "source": [
    "8. print() 함수를 사용하여 다음과 같이 출력하세요.\r\n",
    "\r\n",
    "naver/kakao/sk/samsung"
   ]
  },
  {
   "cell_type": "code",
   "execution_count": 11,
   "id": "ee659cae-4028-4e97-80a1-2dc92cd1d69a",
   "metadata": {},
   "outputs": [
    {
     "name": "stdout",
     "output_type": "stream",
     "text": [
      "naver/kakao/sk/samsung\n"
     ]
    }
   ],
   "source": [
    "print(\"naver\",\"kakao\",\"sk\", \"samsung\", sep = \"/\")"
   ]
  },
  {
   "cell_type": "markdown",
   "id": "ff30f3c0-c65d-45f9-9bcf-49fb9856baaf",
   "metadata": {},
   "source": [
    "9. 다음 코드를 수정하여 줄바꿈이 없이 출력하세요.<br> (힌트: end='') print 함수는 두 번 사용합니다. 세미콜론 (;)은 한줄에 여러 개의 명령을 작성하기 위해 사용합니다.\r",
    "<br>\n",
    "\r\n",
    "print(\"first\");print(\"second\")"
   ]
  },
  {
   "cell_type": "code",
   "execution_count": 12,
   "id": "9f5ca20f-08db-429e-b3a4-307840fb6588",
   "metadata": {},
   "outputs": [
    {
     "name": "stdout",
     "output_type": "stream",
     "text": [
      "first\n",
      "second\n"
     ]
    }
   ],
   "source": [
    "print(\"first\");print(\"second\")"
   ]
  },
  {
   "cell_type": "markdown",
   "id": "fcae2e0d-44d9-4be7-80a6-501fb565ce60",
   "metadata": {},
   "source": [
    "*해설<br>print(\"first\", end=\"\"); print(\"second\")\n",
    "<br>\n",
    "아래 print 함수 설명(15번째줄) 참고 <br>\n",
    "print함수는 끝날때마다 \\n을 자동 출력해주는데, \\n은 줄바꿈 기능이다. <br>\n",
    "그러므로 end=\"\"라고 이를 대체해주는 것이다."
   ]
  },
  {
   "cell_type": "code",
   "execution_count": 13,
   "id": "b4b15450-ebb8-41f6-91fb-b954667811f3",
   "metadata": {},
   "outputs": [
    {
     "name": "stdout",
     "output_type": "stream",
     "text": [
      "firstsecond\n"
     ]
    }
   ],
   "source": [
    "print(\"first\", end=\"\"); print(\"second\")"
   ]
  },
  {
   "cell_type": "code",
   "execution_count": 15,
   "id": "831b0c9c-e617-4c97-9395-f6c5e6d58c45",
   "metadata": {},
   "outputs": [
    {
     "data": {
      "text/plain": [
       "\u001b[1;31mSignature:\u001b[0m \u001b[0mprint\u001b[0m\u001b[1;33m(\u001b[0m\u001b[1;33m*\u001b[0m\u001b[0margs\u001b[0m\u001b[1;33m,\u001b[0m \u001b[0msep\u001b[0m\u001b[1;33m=\u001b[0m\u001b[1;34m' '\u001b[0m\u001b[1;33m,\u001b[0m \u001b[0mend\u001b[0m\u001b[1;33m=\u001b[0m\u001b[1;34m'\\n'\u001b[0m\u001b[1;33m,\u001b[0m \u001b[0mfile\u001b[0m\u001b[1;33m=\u001b[0m\u001b[1;32mNone\u001b[0m\u001b[1;33m,\u001b[0m \u001b[0mflush\u001b[0m\u001b[1;33m=\u001b[0m\u001b[1;32mFalse\u001b[0m\u001b[1;33m)\u001b[0m\u001b[1;33m\u001b[0m\u001b[1;33m\u001b[0m\u001b[0m\n",
       "\u001b[1;31mDocstring:\u001b[0m\n",
       "Prints the values to a stream, or to sys.stdout by default.\n",
       "\n",
       "sep\n",
       "  string inserted between values, default a space.\n",
       "end\n",
       "  string appended after the last value, default a newline.\n",
       "file\n",
       "  a file-like object (stream); defaults to the current sys.stdout.\n",
       "flush\n",
       "  whether to forcibly flush the stream.\n",
       "\u001b[1;31mType:\u001b[0m      builtin_function_or_method"
      ]
     },
     "metadata": {},
     "output_type": "display_data"
    }
   ],
   "source": [
    "print?"
   ]
  },
  {
   "cell_type": "markdown",
   "id": "0d678785-acbf-47a3-abf8-fec4700bf8c6",
   "metadata": {},
   "source": [
    "10. 5/3의 결과를 화면에 출력하세요."
   ]
  },
  {
   "cell_type": "markdown",
   "id": "4300ff9d-4472-4c40-9e31-91b65c9c7210",
   "metadata": {},
   "source": [
    "11.\n",
    "삼성전자라는 변수로 50,000원을 바인딩해보세요. 삼성전자 주식 10주를 보유하고 있을 때 총 평가금액을 출력하세요."
   ]
  },
  {
   "cell_type": "code",
   "execution_count": 18,
   "id": "737b2bde-91b9-4e3c-9069-2ff9e8e9c4b5",
   "metadata": {},
   "outputs": [
    {
     "data": {
      "text/plain": [
       "5000000"
      ]
     },
     "execution_count": 18,
     "metadata": {},
     "output_type": "execute_result"
    }
   ],
   "source": [
    "삼성전자 = 500000\n",
    "총평가금액 = 삼성전자 * 10\n",
    "총평가금액"
   ]
  },
  {
   "cell_type": "markdown",
   "id": "792854ea-bc41-4939-bae8-ef8553ae8a99",
   "metadata": {},
   "source": [
    "12. 다음 표는 삼성전자의 일부 투자정보입니다. 변수를 사용해서 시가총액, 현재가, PER 등을 바인딩해보세요.|\r\n",
    "```15.79"
   ]
  },
  {
   "cell_type": "code",
   "execution_count": 16,
   "id": "8abd3b9d-e516-439f-8630-ea18bf05fc60",
   "metadata": {},
   "outputs": [
    {
     "name": "stdout",
     "output_type": "stream",
     "text": [
      "298000000000000 <class 'int'>\n",
      "50000 <class 'int'>\n",
      "15.79 <class 'float'>\n"
     ]
    }
   ],
   "source": [
    "시가총액 = 298000000000000\n",
    "현재가 = 50000\n",
    "PER = 15.79\n",
    "print(시가총액, type(시가총액))\n",
    "print(현재가, type(현재가))\n",
    "print(PER, type(PER))"
   ]
  },
  {
   "cell_type": "markdown",
   "id": "6525d723-fccc-455a-bd4c-d5a24a68ae83",
   "metadata": {},
   "source": [
    "음.. 12번은 아예 문제와 해설을 모두 이해할 수 없음 ㅠㅠ"
   ]
  },
  {
   "cell_type": "markdown",
   "id": "84144943-e13c-44b6-9297-b6f8d777ce77",
   "metadata": {},
   "source": [
    "13. 변수 s와 t에는 각각 문자열이 바인딩 되어있습니다. <br>\n",
    "> s = \"hell <br>o>> t = \"pyth <br>on\"\r\n",
    "두 변수를 이용하여 아래와 같이 출력해 <br>보세요.\r\n",
    "\r",
    " <br>\n",
    "실행 예:\r\n",
    "hello! python"
   ]
  },
  {
   "cell_type": "code",
   "execution_count": 3,
   "id": "1b4021b5-d7c5-4280-8d2d-fc627965bcee",
   "metadata": {},
   "outputs": [
    {
     "name": "stdout",
     "output_type": "stream",
     "text": [
      "hello! python\n"
     ]
    }
   ],
   "source": [
    "s = \"hello\"\n",
    "t = \"python\"\n",
    "print(s+\"! \"+t)"
   ]
  },
  {
   "cell_type": "markdown",
   "id": "5e64ab42-7c79-43e4-9d10-9850ac2eef35",
   "metadata": {},
   "source": [
    "14. 아래 코드의 실행 결과를 예상해보세요.\r",
    "> 2 + 2 * 3 "
   ]
  },
  {
   "cell_type": "code",
   "execution_count": 4,
   "id": "012ee830-caf7-47df-b127-9889a87d087a",
   "metadata": {},
   "outputs": [
    {
     "data": {
      "text/plain": [
       "8"
      ]
     },
     "execution_count": 4,
     "metadata": {},
     "output_type": "execute_result"
    }
   ],
   "source": [
    "2 + 2 * 3"
   ]
  },
  {
   "cell_type": "code",
   "execution_count": 8,
   "id": "91538628-3431-4c8f-8404-6c742e46bfd0",
   "metadata": {},
   "outputs": [
    {
     "name": "stdout",
     "output_type": "stream",
     "text": [
      "<class 'int'>\n"
     ]
    }
   ],
   "source": [
    "a = 128\r",
    "print(type(a))"
   ]
  },
  {
   "cell_type": "code",
   "execution_count": 10,
   "id": "2e31d569-9e61-4644-afc1-3f1be05fc120",
   "metadata": {},
   "outputs": [
    {
     "name": "stdout",
     "output_type": "stream",
     "text": [
      "<class 'str'>\n"
     ]
    }
   ],
   "source": [
    "a = \"132\"\n",
    "print(type(a))"
   ]
  },
  {
   "cell_type": "code",
   "execution_count": 12,
   "id": "b11ed168-9f72-4a5f-9290-b26bb5e448bf",
   "metadata": {},
   "outputs": [
    {
     "data": {
      "text/plain": [
       "'100'"
      ]
     },
     "execution_count": 12,
     "metadata": {},
     "output_type": "execute_result"
    }
   ],
   "source": [
    "# 17. 정수 100을 문자열 '100'으로 변환해보세요.\n",
    "\n",
    "str(100)"
   ]
  },
  {
   "cell_type": "code",
   "execution_count": 14,
   "id": "02fc564f-8ac6-4894-9663-afcfb0677d21",
   "metadata": {},
   "outputs": [
    {
     "data": {
      "text/plain": [
       "15.79"
      ]
     },
     "execution_count": 14,
     "metadata": {},
     "output_type": "execute_result"
    }
   ],
   "source": [
    "# 18. 문자열 \"15.79\"를 실수(float) 타입으로 변환해보세요.\n",
    "\n",
    "float(\"15.79\")"
   ]
  },
  {
   "cell_type": "code",
   "execution_count": 26,
   "id": "77951088-988c-4b22-b458-b832ce5a9b07",
   "metadata": {},
   "outputs": [
    {
     "data": {
      "text/plain": [
       "2020"
      ]
     },
     "execution_count": 26,
     "metadata": {},
     "output_type": "execute_result"
    }
   ],
   "source": [
    "# 19. year라는 변수가 문자열 타입의 연도를 바인딩하고 있습니다. 이를 정수로 변환한 후 최근 3년의 연도를 화면에 출력해보세요.\n",
    "\n",
    "year = \"2020\"\n",
    "int(year)"
   ]
  },
  {
   "cell_type": "code",
   "execution_count": 31,
   "id": "d99dcdcd-c245-482e-aad2-182f7794e2d9",
   "metadata": {},
   "outputs": [
    {
     "name": "stdout",
     "output_type": "stream",
     "text": [
      "2020\n",
      "2021\n",
      "2022\n"
     ]
    }
   ],
   "source": [
    "print(int(year))\n",
    "print(int(year)+1)\n",
    "print(int(year)+2)"
   ]
  },
  {
   "cell_type": "code",
   "execution_count": 43,
   "id": "5545812d-67e1-4d20-a04f-b113d4b0f8c0",
   "metadata": {},
   "outputs": [
    {
     "name": "stdout",
     "output_type": "stream",
     "text": [
      "1749024\n"
     ]
    }
   ],
   "source": [
    "# 20. 에이컨이 월 48,584원에 무이자 36개월의 조건으로 홈쇼핑에서 판매되고 있습니다. 총 금액은 계산한 후 이를 화면에 출력해보세요. (변수사용하기)\n",
    "월할부금액 = 48584\n",
    "총금액 = 월할부금액 * 36\n",
    "print(총금액)"
   ]
  },
  {
   "cell_type": "code",
   "execution_count": 47,
   "id": "dd701021-ce51-43a4-a3fe-1cdff634d672",
   "metadata": {},
   "outputs": [
    {
     "name": "stdout",
     "output_type": "stream",
     "text": [
      "p h\n"
     ]
    }
   ],
   "source": [
    "# 21. letters가 바인딩하는 문자열에서 첫번째와 세번째 문자를 출력하세요. letters = 'python'\n",
    "Letters = 'python'\n",
    "print(Letters[0], Letters[3])"
   ]
  },
  {
   "cell_type": "code",
   "execution_count": 49,
   "id": "f4a23045-dc3b-4adb-9a73-36a54d12abfd",
   "metadata": {},
   "outputs": [
    {
     "name": "stdout",
     "output_type": "stream",
     "text": [
      "2210\n"
     ]
    }
   ],
   "source": [
    "# 22. 자동차 번호가 다음과 같을 때 뒤에 4자리만 출력하세요. license_plate = \"24가 2210\"\n",
    "\n",
    "license_plate = \"24가 2210\"\n",
    "print(license_plate[-4:])"
   ]
  },
  {
   "cell_type": "code",
   "execution_count": 51,
   "id": "a820d30d-ac53-4d0e-80da-c70ef9375dce",
   "metadata": {},
   "outputs": [
    {
     "name": "stdout",
     "output_type": "stream",
     "text": [
      "홀홀홀\n"
     ]
    }
   ],
   "source": [
    "# 23. 아래의 문자열에서 '홀' 만 출력하세요.  string = \"홀짝홀짝홀짝\"\n",
    "\n",
    "string = \"홀짝홀짝홀짝\"\n",
    "print(string[::2])"
   ]
  },
  {
   "cell_type": "code",
   "execution_count": 1,
   "id": "fd2086c1-85e0-4d43-af44-ba8399fd67a4",
   "metadata": {},
   "outputs": [
    {
     "data": {
      "text/plain": [
       "'NOHTYP'"
      ]
     },
     "execution_count": 1,
     "metadata": {},
     "output_type": "execute_result"
    }
   ],
   "source": [
    "#24. 문자열을 거꾸로 뒤집어 출력하세요.  string = \"PYTHON\"\n",
    "\n",
    "string = \"PYTHON\"\n",
    "string[::-1]"
   ]
  },
  {
   "cell_type": "code",
   "execution_count": 9,
   "id": "76f0edf7-9a12-4648-8172-8530f6095a45",
   "metadata": {},
   "outputs": [
    {
     "data": {
      "text/plain": [
       "'010 1111 2222'"
      ]
     },
     "execution_count": 9,
     "metadata": {},
     "output_type": "execute_result"
    }
   ],
   "source": [
    "# 25. 아래의 전화번호에서 하이푼 ('-')을 제거하고 출력하세요. phone_number = \"010-1111-2222\"\n",
    "\n",
    "phone_number = \"010-1111-2222\"\n",
    "a = phone_number.replace(\"-\",\" \")\n",
    "a"
   ]
  },
  {
   "cell_type": "code",
   "execution_count": 10,
   "id": "ebd2418d-451d-4088-88ac-8f575f3d36cb",
   "metadata": {},
   "outputs": [
    {
     "data": {
      "text/plain": [
       "'01011112222'"
      ]
     },
     "execution_count": 10,
     "metadata": {},
     "output_type": "execute_result"
    }
   ],
   "source": [
    "#26. 25번 문제의 전화번호를 아래와 같이 모두 붙여 출력하세요. 실행 예 01011112222\n",
    "\n",
    "phone_number = \"010-1111-2222\"\n",
    "a = phone_number.replace(\"-\",\"\")\n",
    "a"
   ]
  },
  {
   "cell_type": "code",
   "execution_count": 15,
   "id": "a4963137-73de-4a73-8d54-be3cf9ff842f",
   "metadata": {},
   "outputs": [
    {
     "name": "stdout",
     "output_type": "stream",
     "text": [
      "kr\n"
     ]
    }
   ],
   "source": [
    "#  27. url 에 저장된 웹 페이지 주소에서 도메인을 출력하세요. url = \"http://sharebook.kr\"\n",
    "\n",
    "url = \"http://sharebook.kr\"\n",
    "a = url.split('.')\n",
    "print(a[-1])"
   ]
  },
  {
   "cell_type": "code",
   "execution_count": 16,
   "id": "919390c6-f751-4114-b870-8de1c57d9d4c",
   "metadata": {},
   "outputs": [
    {
     "ename": "TypeError",
     "evalue": "'str' object does not support item assignment",
     "output_type": "error",
     "traceback": [
      "\u001b[1;31m---------------------------------------------------------------------------\u001b[0m",
      "\u001b[1;31mTypeError\u001b[0m                                 Traceback (most recent call last)",
      "Cell \u001b[1;32mIn[16], line 4\u001b[0m\n\u001b[0;32m      1\u001b[0m \u001b[38;5;66;03m#28. 아래 코드의 실행 결과를 예상해보세요. \u001b[39;00m\n\u001b[0;32m      3\u001b[0m lang \u001b[38;5;241m=\u001b[39m \u001b[38;5;124m'\u001b[39m\u001b[38;5;124mpython\u001b[39m\u001b[38;5;124m'\u001b[39m\n\u001b[1;32m----> 4\u001b[0m lang[\u001b[38;5;241m0\u001b[39m] \u001b[38;5;241m=\u001b[39m \u001b[38;5;124m'\u001b[39m\u001b[38;5;124mP\u001b[39m\u001b[38;5;124m'\u001b[39m\n\u001b[0;32m      5\u001b[0m \u001b[38;5;28mprint\u001b[39m(lang)\n",
      "\u001b[1;31mTypeError\u001b[0m: 'str' object does not support item assignment"
     ]
    }
   ],
   "source": [
    "#28. 아래 코드의 실행 결과를 예상해보세요. \n",
    "\n",
    "lang = 'python'\n",
    "lang[0] = 'P'\n",
    "print(lang)"
   ]
  },
  {
   "cell_type": "code",
   "execution_count": 18,
   "id": "26fd03cc-aad9-4354-812b-1ea88ae27d00",
   "metadata": {},
   "outputs": [
    {
     "data": {
      "text/plain": [
       "'Abcdfe2A354A32A'"
      ]
     },
     "execution_count": 18,
     "metadata": {},
     "output_type": "execute_result"
    }
   ],
   "source": [
    "#29. 아래 문자열에서 소문자 'a'를 대문자 'A'로 변경하세요.\n",
    "\n",
    "string = 'abcdfe2a354a32a'\n",
    "a = string.replace('a', 'A')\n",
    "a"
   ]
  },
  {
   "cell_type": "code",
   "execution_count": 19,
   "id": "8cecbaa8-5a4f-4764-b823-bbe25edff954",
   "metadata": {},
   "outputs": [
    {
     "name": "stdout",
     "output_type": "stream",
     "text": [
      "abcd\n"
     ]
    }
   ],
   "source": [
    "# 30. 아래 코드의 실행 결과를 예상해보세요.\n",
    "\n",
    "string = 'abcd'\n",
    "string.replace('b', 'B')\n",
    "print(string)"
   ]
  },
  {
   "cell_type": "code",
   "execution_count": 20,
   "id": "99fd429e-4503-492d-96d6-ab17cc687b11",
   "metadata": {},
   "outputs": [
    {
     "name": "stdout",
     "output_type": "stream",
     "text": [
      "34\n"
     ]
    }
   ],
   "source": [
    "#31. 아래 코드의 실행 결과를 예상해보세요.\n",
    "\n",
    "a = \"3\"\n",
    "b = \"4\"\n",
    "print(a + b)"
   ]
  },
  {
   "cell_type": "code",
   "execution_count": 21,
   "id": "bebf7ebc-8fd9-4831-b39f-7c3beab91a07",
   "metadata": {},
   "outputs": [
    {
     "name": "stdout",
     "output_type": "stream",
     "text": [
      "HiHiHi\n"
     ]
    }
   ],
   "source": [
    "#32. 아래 코드의 실행 결과를 예상해보세요.\n",
    "\n",
    "print(\"Hi\" * 3)"
   ]
  },
  {
   "cell_type": "code",
   "execution_count": 23,
   "id": "b2194f3d-ac6e-47e5-8863-c1c89941542a",
   "metadata": {},
   "outputs": [
    {
     "name": "stdout",
     "output_type": "stream",
     "text": [
      "--------------------------------------------------------------------------------\n"
     ]
    }
   ],
   "source": [
    "# 33. 문자열 곱하기 : 화면에 '-'를 80개 출력하세요.\n",
    "\n",
    "print('-' * 80)"
   ]
  },
  {
   "cell_type": "code",
   "execution_count": 29,
   "id": "bc4792dc-14f7-435c-9d17-3c0245eb055b",
   "metadata": {},
   "outputs": [
    {
     "name": "stdout",
     "output_type": "stream",
     "text": [
      "python java python java python java python java \n"
     ]
    }
   ],
   "source": [
    "#34. 변수에 다음과 같은 문자열이 바인딩되어 있습니다. 변수에 문자열 더하기와 문자열 곱하기를 사용해서 아래와 같이 출력해보세요.\n",
    "# 실행 예: python java python java python java python java\n",
    "\n",
    "t1 = 'python'\n",
    "t2 = 'java'\n",
    "\n",
    "a = t1 + \" \" + t2 + \" \"\n",
    "a\n",
    "print(a * 4)"
   ]
  },
  {
   "cell_type": "code",
   "execution_count": null,
   "id": "f777265c-3053-4d5c-acfa-894fc1325d9e",
   "metadata": {},
   "outputs": [],
   "source": [
    "#35. 변수에 다음과 같이 문자열과 정수가 바인딩되어 있을 때 % formatting을 사용해서 다음과 같이 출력해보세요.\n",
    "\n",
    "name1 = \"김민수\" \n",
    "age1 = 10\n",
    "name2 = \"이철희\"\n",
    "age2 = 13\n",
    "이름: 김민수 나이: 10\n",
    "이름: 이철희 나이: 13"
   ]
  },
  {
   "cell_type": "code",
   "execution_count": null,
   "id": "ecc8b5a6-777c-461b-b045-7dbfddad1449",
   "metadata": {},
   "outputs": [],
   "source": [
    "# 81. my_variable 이름의 비어있는 튜플을 만들라."
   ]
  },
  {
   "cell_type": "code",
   "execution_count": null,
   "id": "0d1ce805-ea81-4db9-8606-c4a6882cd356",
   "metadata": {},
   "outputs": [],
   "source": [
    "082\n",
    "다음과 같이 10개의 값이 저장된 scores 리스트가 있을 때, start expression을 사용하여 우측 8개의 값을 valid_score 변수에 바인딩하여라.\n",
    "\n",
    "scores = [8.8, 8.9, 8.7, 9.2, 9.3, 9.7, 9.9, 9.5, 7.8, 9.4]"
   ]
  },
  {
   "cell_type": "code",
   "execution_count": null,
   "id": "a0bfe90d-5440-4118-a4e0-7e1acb2da225",
   "metadata": {},
   "outputs": [],
   "source": [
    "083\n",
    "다음과 같이 10개의 값이 저장된 scores 리스트가 있을 때, start expression을 사용하여 가운데 있는 8개의 값을 valid_score 변수에 바인딩하여라.\n",
    "\n",
    "scores = [8.8, 8.9, 8.7, 9.2, 9.3, 9.7, 9.9, 9.5, 7.8, 9.4]"
   ]
  },
  {
   "cell_type": "code",
   "execution_count": 30,
   "id": "386f35dc-9d99-4e7d-b5c7-32a81f085af4",
   "metadata": {},
   "outputs": [],
   "source": [
    "# 084 비어있는 딕셔너리 temp 이름의 비어있는 딕셔너리를 만들라.\n",
    "\n",
    "temp ={}"
   ]
  },
  {
   "cell_type": "code",
   "execution_count": 31,
   "id": "abc8d07b-1a40-4d8f-863d-2628604727d0",
   "metadata": {},
   "outputs": [
    {
     "data": {
      "text/plain": [
       "{'메로나': 1000, '폴라포': 1200, '빵빠레': 1800}"
      ]
     },
     "execution_count": 31,
     "metadata": {},
     "output_type": "execute_result"
    }
   ],
   "source": [
    "# 085 다음 아이스크림 이름과 희망 가격을 딕셔너리로 구성하라.\n",
    "a = {\"메로나\": 1000, \"폴라포\": 1200, \"빵빠레\": 1800}\n",
    "a"
   ]
  },
  {
   "cell_type": "code",
   "execution_count": 32,
   "id": "26d3c239-b36b-4d28-9dfb-d6888cfda1d3",
   "metadata": {},
   "outputs": [],
   "source": [
    "# 086 085 번의 딕셔너리에 아래 아이스크림 가격정보를 추가하라.\n",
    "\n",
    "a[\"죠스바\"] = 1200\n",
    "a[\"월드콘\"] = 1500"
   ]
  },
  {
   "cell_type": "code",
   "execution_count": 33,
   "id": "d3ce9618-0bec-4be1-a8fe-f5b6589ebf2e",
   "metadata": {},
   "outputs": [
    {
     "data": {
      "text/plain": [
       "{'메로나': 1000, '폴라포': 1200, '빵빠레': 1800, '죠스바': 1200, '월드콘': 1500}"
      ]
     },
     "execution_count": 33,
     "metadata": {},
     "output_type": "execute_result"
    }
   ],
   "source": [
    "a"
   ]
  },
  {
   "cell_type": "code",
   "execution_count": null,
   "id": "07017cb2-266e-4215-b988-47e620e4be57",
   "metadata": {},
   "outputs": [],
   "source": [
    "087 다음 딕셔너리를 사용하여 메로나 가격을 출력하라.\n",
    "\n",
    "ice = {'메로나': 1000,\n",
    "       '폴로포': 1200,\n",
    "       '빵빠레': 1800,\n",
    "       '죠스바': 1200,\n",
    "       '월드콘': 1500}"
   ]
  },
  {
   "cell_type": "code",
   "execution_count": 35,
   "id": "c047d36a-064c-490f-9194-3e7b13b36051",
   "metadata": {},
   "outputs": [
    {
     "data": {
      "text/plain": [
       "1000"
      ]
     },
     "execution_count": 35,
     "metadata": {},
     "output_type": "execute_result"
    }
   ],
   "source": [
    "ice = {'메로나': 1000,\n",
    "       '폴로포': 1200,\n",
    "       '빵빠레': 1800,\n",
    "       '죠스바': 1200,\n",
    "       '월드콘': 1500}\n",
    "ice['메로나'] "
   ]
  },
  {
   "cell_type": "code",
   "execution_count": null,
   "id": "37aba91a-2ea3-416d-81b8-59dcc8e685c8",
   "metadata": {},
   "outputs": [],
   "source": [
    "88. 다음 딕셔너리에서 메로나의 가격을 1300으로 수정하라.\n",
    "\n",
    "ice = {'메로나': 1000,\n",
    "       '폴로포': 1200,\n",
    "       '빵빠레': 1800,\n",
    "       '죠스바': 1200,\n",
    "       '월드콘': 1500}"
   ]
  },
  {
   "cell_type": "code",
   "execution_count": 37,
   "id": "00f10697-45f7-4f12-9b7e-c3adfd49b828",
   "metadata": {},
   "outputs": [
    {
     "data": {
      "text/plain": [
       "{'메로나': 1300, '폴로포': 1200, '빵빠레': 1800, '죠스바': 1200, '월드콘': 1500}"
      ]
     },
     "execution_count": 37,
     "metadata": {},
     "output_type": "execute_result"
    }
   ],
   "source": [
    "ice = {'메로나': 1000,\n",
    "       '폴로포': 1200,\n",
    "       '빵빠레': 1800,\n",
    "       '죠스바': 1200,\n",
    "       '월드콘': 1500}\n",
    "ice[\"메로나\"] = 1300\n",
    "ice"
   ]
  },
  {
   "cell_type": "code",
   "execution_count": null,
   "id": "77b311b6-0051-4de6-9bc2-12e7326775dc",
   "metadata": {},
   "outputs": [],
   "source": [
    "89. 다음 딕셔너리에서 메로나를 삭제하라.\n",
    "\n",
    "ice = {'메로나': 1000,\n",
    "       '폴로포': 1200,\n",
    "       '빵빠레': 1800,\n",
    "       '죠스바': 1200,\n",
    "       '월드콘': 1500}"
   ]
  },
  {
   "cell_type": "code",
   "execution_count": 40,
   "id": "ba7b138b-d813-4ef0-a0c0-7c966ee87b3b",
   "metadata": {},
   "outputs": [
    {
     "data": {
      "text/plain": [
       "{'폴로포': 1200, '빵빠레': 1800, '죠스바': 1200, '월드콘': 1500}"
      ]
     },
     "execution_count": 40,
     "metadata": {},
     "output_type": "execute_result"
    }
   ],
   "source": [
    "ice = {'메로나': 1000,\n",
    "       '폴로포': 1200,\n",
    "       '빵빠레': 1800,\n",
    "       '죠스바': 1200,\n",
    "       '월드콘': 1500}\n",
    "del ice[\"메로나\"]\n",
    "ice"
   ]
  },
  {
   "cell_type": "code",
   "execution_count": null,
   "id": "26823d6b-43bd-4349-93dd-fc89e8e3a241",
   "metadata": {},
   "outputs": [],
   "source": [
    "090\n",
    "다음 코드에서 에러가 발생한 원인을 설명하라.\n",
    "\n",
    ">> icecream = {'폴라포': 1200, '빵빠레': 1800, '월드콘': 1500, '메로나': 1000}\n",
    ">> icecream['누가바']\n",
    "Traceback (most recent call last):\n",
    "  File \"<pyshell#69>\", line 1, in <module>\n",
    "    icecream['누가바']\n",
    "KeyError: '누가바'"
   ]
  },
  {
   "cell_type": "markdown",
   "id": "d30f738c-2805-4e3c-81a1-782d48003295",
   "metadata": {},
   "source": [
    "누가바가 없으니깐.."
   ]
  },
  {
   "cell_type": "code",
   "execution_count": null,
   "id": "b9faae1d-baa3-4eb3-b1f5-ccf1179a3c60",
   "metadata": {},
   "outputs": [],
   "source": [
    "091 딕셔너리 생성\n",
    "아래의 표에서, 아이스크림 이름을 키값으로, (가격, 재고) 리스트를 딕셔너리의 값으로 저장하라. 딕셔너리의 이름은 inventory로 한다.\n",
    "\n",
    "이름\t가격\t재고\n",
    "메로나\t300\t20\n",
    "비비빅\t400\t3\n",
    "죠스바\t250\t100"
   ]
  },
  {
   "cell_type": "code",
   "execution_count": 2,
   "id": "b1af34bc-8606-4679-8388-eca0ff96610e",
   "metadata": {},
   "outputs": [
    {
     "data": {
      "text/plain": [
       "{'메로나': [300, 20], '비비빅': [400, 3], '죠스바': [250, 100]}"
      ]
     },
     "execution_count": 2,
     "metadata": {},
     "output_type": "execute_result"
    }
   ],
   "source": [
    "inventory = {'메로나':[300, 20], '비비빅':[400, 3], '죠스바':[250, 100]}\n",
    "inventory"
   ]
  },
  {
   "cell_type": "code",
   "execution_count": null,
   "id": "f8d5c42e-07ef-4f40-9332-0dd53b035fe2",
   "metadata": {},
   "outputs": [],
   "source": [
    "92 inventory 딕셔너리에서 메로나의 가격을 화면에 출력하라.\n",
    "\n",
    "inventory = {\"메로나\": [300, 20],\n",
    "              \"비비빅\": [400, 3],\n",
    "              \"죠스바\": [250, 100]}"
   ]
  },
  {
   "cell_type": "code",
   "execution_count": 7,
   "id": "f44bf5b1-a048-490c-aa27-7c2681bd760a",
   "metadata": {},
   "outputs": [
    {
     "name": "stdout",
     "output_type": "stream",
     "text": [
      "300 원\n"
     ]
    }
   ],
   "source": [
    "inventory['메로나'][0]\n",
    "print(inventory['메로나'][0], \"원\")"
   ]
  },
  {
   "cell_type": "code",
   "execution_count": null,
   "id": "f12576ff-edb3-429a-a33a-74de77462ce4",
   "metadata": {},
   "outputs": [],
   "source": [
    "93 inventory 딕셔너리에서 메로나의 재고를 화면에 출력하라.\n",
    "\n",
    "inventory = {\"메로나\": [300, 20],\n",
    "              \"비비빅\": [400, 3],\n",
    "              \"죠스바\": [250, 100]}"
   ]
  },
  {
   "cell_type": "code",
   "execution_count": 9,
   "id": "44533550-2775-4b7b-ac45-5f59f53a86c9",
   "metadata": {},
   "outputs": [
    {
     "name": "stdout",
     "output_type": "stream",
     "text": [
      "20 개\n"
     ]
    }
   ],
   "source": [
    "inventory['메로나'][1]\n",
    "print(inventory['메로나'][1], \"개\")"
   ]
  },
  {
   "cell_type": "code",
   "execution_count": null,
   "id": "9a539daa-0fff-4f41-993b-e1e091e02a79",
   "metadata": {},
   "outputs": [],
   "source": [
    "94 inventory 딕셔너리에 아래 데이터를 추가하라.\n",
    "\n",
    "inventory = {\"메로나\": [300, 20],\n",
    "              \"비비빅\": [400, 3],\n",
    "              \"죠스바\": [250, 100]}\n",
    "이름\t가격\t재고\n",
    "월드콘\t500\t7"
   ]
  },
  {
   "cell_type": "code",
   "execution_count": 11,
   "id": "8c49db06-4dd0-4406-8356-49d6c8707917",
   "metadata": {},
   "outputs": [
    {
     "data": {
      "text/plain": [
       "{'메로나': [300, 20], '비비빅': [400, 3], '죠스바': [250, 100], '월드콘': [500, 7]}"
      ]
     },
     "execution_count": 11,
     "metadata": {},
     "output_type": "execute_result"
    }
   ],
   "source": [
    "inventory[\"월드콘\"] = [500, 7]\n",
    "inventory"
   ]
  },
  {
   "cell_type": "code",
   "execution_count": null,
   "id": "dd1b9888-d254-478a-86cf-87d96740e4d0",
   "metadata": {},
   "outputs": [],
   "source": [
    "95 다음의 딕셔너리로부터 key 값으로만 구성된 리스트를 생성하라.\n",
    "\n",
    "icecream = {'탱크보이': 1200, '폴라포': 1200, '빵빠레': 1800, '월드콘': 1500, '메로나': 1000}"
   ]
  },
  {
   "cell_type": "code",
   "execution_count": 12,
   "id": "1ed7a732-8ecc-455f-8ccb-a5e4d8bb7b5d",
   "metadata": {},
   "outputs": [
    {
     "name": "stdout",
     "output_type": "stream",
     "text": [
      "['탱크보이', '폴라포', '빵빠레', '월드콘', '메로나']\n"
     ]
    }
   ],
   "source": [
    "icecream = {'탱크보이': 1200, '폴라포': 1200, '빵빠레': 1800, '월드콘': 1500, '메로나': 1000}\n",
    "ice = list(icecream.keys())\n",
    "print(ice)"
   ]
  },
  {
   "cell_type": "code",
   "execution_count": null,
   "id": "c0527ec9-3070-4588-86a0-5d59e044a2c1",
   "metadata": {},
   "outputs": [],
   "source": [
    "96 다음의 딕셔너리에서 values 값으로만 구성된 리스트를 생성하라.\n",
    "\n",
    "icecream = {'탱크보이': 1200, '폴라포': 1200, '빵빠레': 1800, '월드콘': 1500, '메로나': 1000}\n",
    "정답확인"
   ]
  },
  {
   "cell_type": "code",
   "execution_count": 13,
   "id": "48068580-b4ee-4656-91a0-6fa42bbd0797",
   "metadata": {},
   "outputs": [
    {
     "name": "stdout",
     "output_type": "stream",
     "text": [
      "[1200, 1200, 1800, 1500, 1000]\n"
     ]
    }
   ],
   "source": [
    "icecream = {'탱크보이': 1200, '폴라포': 1200, '빵빠레': 1800, '월드콘': 1500, '메로나': 1000}\n",
    "ice = list(icecream.values())\n",
    "print(ice)"
   ]
  },
  {
   "cell_type": "code",
   "execution_count": null,
   "id": "6dddb334-6068-4bf4-be40-f348c9534cdf",
   "metadata": {},
   "outputs": [],
   "source": [
    "97 icecream 딕셔너리에서 아이스크림 판매 금액의 총합을 출력하라.\n",
    "\n",
    "icecream = {'탱크보이': 1200, '폴라포': 1200, '빵빠레': 1800, '월드콘': 1500, '메로나': 1000}"
   ]
  },
  {
   "cell_type": "code",
   "execution_count": 14,
   "id": "2cd9c90b-179b-49fc-b1ba-8550cbd7ecb8",
   "metadata": {},
   "outputs": [
    {
     "data": {
      "text/plain": [
       "6700"
      ]
     },
     "execution_count": 14,
     "metadata": {},
     "output_type": "execute_result"
    }
   ],
   "source": [
    "icecream = {'탱크보이': 1200, '폴라포': 1200, '빵빠레': 1800, '월드콘': 1500, '메로나': 1000}\n",
    "ice = list(icecream.values())\n",
    "sum(ice)"
   ]
  },
  {
   "cell_type": "code",
   "execution_count": null,
   "id": "a232cce6-f4d2-4a06-bca8-4b5da75a1844",
   "metadata": {},
   "outputs": [],
   "source": [
    "98 아래의 new_product 딕셔너리를 다음 icecream 딕셔너리에 추가하라.\n",
    "\n",
    "icecream = {'탱크보이': 1200, '폴라포': 1200, '빵빠레': 1800, '월드콘': 1500, '메로나': 1000}\n",
    "new_product = {'팥빙수':2700, '아맛나':1000}\n",
    "\n",
    "실행 예시:\n",
    ">> print(icecream)\n",
    "{'탱크보이': 1200,  '폴라포': 1200,  '빵빠레': 1800,  '월드콘': 1500,  '메로나': 1000,  '팥빙수':2700, '아맛나':1000}"
   ]
  },
  {
   "cell_type": "code",
   "execution_count": 17,
   "id": "0198329a-e67e-4582-bccd-8fd988464e83",
   "metadata": {},
   "outputs": [
    {
     "name": "stdout",
     "output_type": "stream",
     "text": [
      "{'탱크보이': 1200, '폴라포': 1200, '빵빠레': 1800, '월드콘': 1500, '메로나': 1000, '팥빙수': 2700, '아맛나': 1000}\n"
     ]
    }
   ],
   "source": [
    "icecream = {'탱크보이': 1200, '폴라포': 1200, '빵빠레': 1800, '월드콘': 1500, '메로나': 1000}\n",
    "new_product = {'팥빙수':2700, '아맛나':1000}\n",
    "icecream.update(new_product)\n",
    "print(icecream)"
   ]
  },
  {
   "cell_type": "code",
   "execution_count": null,
   "id": "6988d909-6b57-4071-a637-06fc24e16851",
   "metadata": {},
   "outputs": [],
   "source": [
    "99 아래 두 개의 튜플을 하나의 딕셔너리로 변환하라. keys를 키로, vals를 값으로 result 이름의 딕셔너리로 저장한다.\n",
    "\n",
    "keys = (\"apple\", \"pear\", \"peach\")\n",
    "vals = (300, 250, 400)\n",
    "\n",
    "실행 예시:\n",
    ">> print(result)\n",
    "{'apple': 300, 'pear': 250, 'peach': 400}"
   ]
  },
  {
   "cell_type": "code",
   "execution_count": 19,
   "id": "ce404a17-20f7-4daa-bb03-4468e70b851f",
   "metadata": {},
   "outputs": [
    {
     "name": "stdout",
     "output_type": "stream",
     "text": [
      "{'apple': 300, 'pear': 250, 'peach': 400}\n"
     ]
    }
   ],
   "source": [
    "keys = (\"apple\", \"pear\", \"peach\")\n",
    "vals = (300, 250, 400)\n",
    "\n",
    "result = dict(zip(keys, vals))\n",
    "print(result)"
   ]
  },
  {
   "cell_type": "code",
   "execution_count": null,
   "id": "cf07b4c1-59f7-452c-a6cb-db3f0cc1196d",
   "metadata": {},
   "outputs": [],
   "source": [
    "100 date와 close_price 두 개의 리스트를 close_table 이름의 딕셔너리로 생성하라.\n",
    "\n",
    "date = ['09/05', '09/06', '09/07', '09/08', '09/09']\n",
    "close_price = [10500, 10300, 10100, 10800, 11000]\n",
    "실행 예시:\n",
    ">> print(close_table)\n",
    "{'09/05': 10500, '09/06': 10300, '09/07': 10100, '09/08': 10800, '09/09': 11000}"
   ]
  },
  {
   "cell_type": "code",
   "execution_count": 24,
   "id": "30c61b4c-309b-4473-9a47-b189a2d385af",
   "metadata": {},
   "outputs": [
    {
     "name": "stdout",
     "output_type": "stream",
     "text": [
      "{'09/05': 10500, '09/06': 10300, '09/07': 10100, '09/08': 10800, '09/09': 11000}\n"
     ]
    }
   ],
   "source": [
    "date = ['09/05', '09/06', '09/07', '09/08', '09/09']\n",
    "close_price = [10500, 10300, 10100, 10800, 11000]\n",
    "close_table = dict(zip(date,close_price))\n",
    "print(close_table)"
   ]
  },
  {
   "cell_type": "code",
   "execution_count": null,
   "id": "3b411a40-ff94-4d2f-b58b-523d54b4d6ba",
   "metadata": {},
   "outputs": [],
   "source": [
    "101 파이썬에서 True 혹은 False를 갖는 데이터 타입은 무엇인가?"
   ]
  },
  {
   "cell_type": "code",
   "execution_count": null,
   "id": "201d4a42-3eae-4dca-a6bc-1261636aac28",
   "metadata": {},
   "outputs": [],
   "source": [
    "bool"
   ]
  },
  {
   "cell_type": "code",
   "execution_count": null,
   "id": "e19752d4-812a-42b7-98c4-8dde343ada91",
   "metadata": {},
   "outputs": [],
   "source": [
    "102 아래 코드의 출력 결과를 예상하라\n",
    "\n",
    "print(3 == 5)"
   ]
  },
  {
   "cell_type": "code",
   "execution_count": null,
   "id": "dc5b1a19-a3c7-4a6f-b7bf-85a4e7c6cee7",
   "metadata": {},
   "outputs": [],
   "source": [
    "False"
   ]
  },
  {
   "cell_type": "code",
   "execution_count": null,
   "id": "12fc8fbc-11e6-4376-8777-bf219aa20eeb",
   "metadata": {},
   "outputs": [],
   "source": [
    "103 아래 코드의 출력 결과를 예상하라\n",
    "\n",
    "print(3 < 5)"
   ]
  },
  {
   "cell_type": "code",
   "execution_count": null,
   "id": "8ea76185-ed82-4e16-9539-85a9ff06d500",
   "metadata": {},
   "outputs": [],
   "source": [
    "True"
   ]
  },
  {
   "cell_type": "code",
   "execution_count": null,
   "id": "aee9daee-d4b3-435a-a03a-b9966f4e132b",
   "metadata": {},
   "outputs": [],
   "source": [
    "104 아래 코드의 결과를 예상하라.\n",
    "\n",
    "x = 4\n",
    "print(1 < x < 5)"
   ]
  },
  {
   "cell_type": "code",
   "execution_count": null,
   "id": "a49612e2-e234-4a51-8aec-b4ece2a42e2e",
   "metadata": {},
   "outputs": [],
   "source": [
    "True"
   ]
  },
  {
   "cell_type": "code",
   "execution_count": null,
   "id": "648819ba-6c40-4ed6-9d1c-7c15c7a40418",
   "metadata": {},
   "outputs": [],
   "source": [
    "105 아래 코드의 결과를 예상하라.\n",
    "\n",
    "print ((3 == 3) and (4 != 3))"
   ]
  },
  {
   "cell_type": "code",
   "execution_count": 25,
   "id": "a6ded2d2-ceeb-4d3b-b037-c7333056c7d4",
   "metadata": {},
   "outputs": [
    {
     "name": "stdout",
     "output_type": "stream",
     "text": [
      "True\n"
     ]
    }
   ],
   "source": [
    "print ((3 == 3) and (4 != 3))"
   ]
  },
  {
   "cell_type": "code",
   "execution_count": null,
   "id": "192a610d-5c32-4e84-8294-c8805f2694e6",
   "metadata": {},
   "outputs": [],
   "source": [
    "106 아래 코드에서 에러가 발생하는 원인에 대해 설명하라.\n",
    "\n",
    "print(3 => 4)"
   ]
  },
  {
   "cell_type": "code",
   "execution_count": null,
   "id": "3ce4fa82-a713-4ae3-93d5-6f90a2503e99",
   "metadata": {},
   "outputs": [],
   "source": [
    "부등호 순서 바뀜 >= 이렇게 써야"
   ]
  },
  {
   "cell_type": "code",
   "execution_count": null,
   "id": "5526608b-db35-453e-9641-6f879f94d2fe",
   "metadata": {},
   "outputs": [],
   "source": [
    "107 아래 코드의 출력 결과를 예상하라\n",
    "\n",
    "if 4 < 3:\n",
    "    print(\"Hello World\")"
   ]
  },
  {
   "cell_type": "code",
   "execution_count": null,
   "id": "59ff0675-0b00-44ff-bd81-e39afd200666",
   "metadata": {},
   "outputs": [],
   "source": [
    "X"
   ]
  },
  {
   "cell_type": "code",
   "execution_count": null,
   "id": "976d21d9-a4a2-4022-b1d9-fcd961540c02",
   "metadata": {},
   "outputs": [],
   "source": [
    "108 아래 코드의 출력 결과를 예상하라\n",
    "\n",
    "if 4 < 3:\n",
    "    print(\"Hello World.\")\n",
    "else:\n",
    "    print(\"Hi, there.\")"
   ]
  },
  {
   "cell_type": "code",
   "execution_count": null,
   "id": "5be9f4bb-ed2a-4e60-a9c7-6055af361b33",
   "metadata": {},
   "outputs": [],
   "source": [
    "Hi, there"
   ]
  },
  {
   "cell_type": "code",
   "execution_count": null,
   "id": "a7a51382-2c9f-4e47-91b1-a1f6c880d225",
   "metadata": {},
   "outputs": [],
   "source": [
    "109 아래 코드의 출력 결과를 예상하라\n",
    "\n",
    "if True :\n",
    "    print (\"1\")\n",
    "    print (\"2\")\n",
    "else :\n",
    "    print(\"3\")\n",
    "print(\"4\")"
   ]
  },
  {
   "cell_type": "code",
   "execution_count": 26,
   "id": "934de59d-985b-44ae-8c00-263c6f4e2a56",
   "metadata": {},
   "outputs": [
    {
     "name": "stdout",
     "output_type": "stream",
     "text": [
      "1\n",
      "2\n",
      "4\n"
     ]
    }
   ],
   "source": [
    "if True :\n",
    "    print (\"1\")\n",
    "    print (\"2\")\n",
    "else :\n",
    "    print(\"3\")\n",
    "print(\"4\")"
   ]
  },
  {
   "cell_type": "code",
   "execution_count": null,
   "id": "f7e1cbd6-fcda-4a3a-82c9-d1d0fd23e28a",
   "metadata": {},
   "outputs": [],
   "source": [
    "110 아래 코드의 출력 결과를 예상하라\n",
    "\n",
    "if True :\n",
    "    if False:\n",
    "        print(\"1\")\n",
    "        print(\"2\")\n",
    "    else:\n",
    "        print(\"3\")\n",
    "else :\n",
    "    print(\"4\")\n",
    "print(\"5\")"
   ]
  },
  {
   "cell_type": "code",
   "execution_count": 27,
   "id": "b127a6d5-06eb-49aa-97c8-d33dcba3d7de",
   "metadata": {},
   "outputs": [
    {
     "name": "stdout",
     "output_type": "stream",
     "text": [
      "3\n",
      "5\n"
     ]
    }
   ],
   "source": [
    "if True :\n",
    "    if False:\n",
    "        print(\"1\")\n",
    "        print(\"2\")\n",
    "    else:\n",
    "        print(\"3\")\n",
    "else :\n",
    "    print(\"4\")\n",
    "print(\"5\")"
   ]
  },
  {
   "cell_type": "code",
   "execution_count": null,
   "id": "3bd51f4b-e178-4c20-ad0e-2ac7dcd2a268",
   "metadata": {},
   "outputs": [],
   "source": [
    "111 사용자로부터 입력받은 문자열을 두 번 출력하라. 아래는 사용자가 \"안녕하세요\"를 입력한 경우의 출력 결과이다.\n",
    "\n",
    ">> 안녕하세요\n",
    "안녕하세요안녕하세요"
   ]
  },
  {
   "cell_type": "code",
   "execution_count": 29,
   "id": "0bf29439-1000-4654-8fd8-af458b9bbdcf",
   "metadata": {},
   "outputs": [
    {
     "name": "stdin",
     "output_type": "stream",
     "text": [
      " 안녕하세요\n"
     ]
    },
    {
     "name": "stdout",
     "output_type": "stream",
     "text": [
      "안녕하세요안녕하세요\n"
     ]
    }
   ],
   "source": [
    "user = input()\n",
    "if user == \"안녕하세요\" :\n",
    "    print(user*2)"
   ]
  },
  {
   "cell_type": "code",
   "execution_count": null,
   "id": "93d09361-027f-46c8-971f-c3e67d4a85d7",
   "metadata": {},
   "outputs": [],
   "source": [
    "112 사용자로부터 하나의 숫자를 입력받고, 입력 받은 숫자에 10을 더해 출력하라.\n",
    "\n",
    ">> 숫자를 입력하세요: 30\n",
    "40"
   ]
  },
  {
   "cell_type": "code",
   "execution_count": 30,
   "id": "cf80cea6-75f9-47cc-9766-2166f5bcdb12",
   "metadata": {},
   "outputs": [
    {
     "name": "stdin",
     "output_type": "stream",
     "text": [
      "숫자를 입력하세요 30\n"
     ]
    },
    {
     "name": "stdout",
     "output_type": "stream",
     "text": [
      "40\n"
     ]
    }
   ],
   "source": [
    "user = int(input(\"숫자를 입력하세요\"))\n",
    "print(user + 10)"
   ]
  },
  {
   "cell_type": "code",
   "execution_count": null,
   "id": "de6ca97a-b2ef-40f3-9b93-64193388ee35",
   "metadata": {},
   "outputs": [],
   "source": [
    "113 사용자로부터 하나의 숫자를 입력 받고 짝수/홀수를 판별하라.\n",
    "\n",
    ">> 30\n",
    "짝수"
   ]
  },
  {
   "cell_type": "code",
   "execution_count": null,
   "id": "516e9311-3929-4776-8525-20979d18ac92",
   "metadata": {},
   "outputs": [],
   "source": [
    "user = input(\"\")\n",
    "if int(user) % 2 == 0:\n",
    "    print(\"짝수\")\n",
    "else:\n",
    "    print(\"홀수\")"
   ]
  },
  {
   "cell_type": "code",
   "execution_count": null,
   "id": "c6e669aa-9640-43d6-9470-2bd1b376ed82",
   "metadata": {},
   "outputs": [],
   "source": [
    "114 사용자로부터 값을 입력받은 후 해당 값에 20을 더한 값을 출력하라. 단 사용자가 입력한 값과 20을 더한 계산 값이 255를 초과하는 경우 255를 출력해야 한다.\n",
    "\n",
    ">> 입력값: 200\n",
    "출력값: 220\n",
    ">> 입력값: 240\n",
    "출력값: 255"
   ]
  },
  {
   "cell_type": "code",
   "execution_count": 32,
   "id": "edf99533-12c3-4448-a47f-2bb311ca7965",
   "metadata": {},
   "outputs": [
    {
     "name": "stdin",
     "output_type": "stream",
     "text": [
      " 20\n"
     ]
    },
    {
     "name": "stdout",
     "output_type": "stream",
     "text": [
      "40\n"
     ]
    }
   ],
   "source": [
    "user = input(\"\")\n",
    "a = int(user) + 20\n",
    "if a > 255 :\n",
    "    print(255)\n",
    "else:\n",
    "    print(a)"
   ]
  },
  {
   "cell_type": "code",
   "execution_count": null,
   "id": "a58abb18-3ff0-4b7e-95eb-3ad7666d2b2a",
   "metadata": {},
   "outputs": [],
   "source": [
    "115 사용자로부터 하나의 값을 입력받은 후 해당 값에 20을 뺀 값을 출력하라. \n",
    "단 출력 값의 범위는 0~255이다. \n",
    "예를 들어 결괏값이 0보다 작은 값이되는 경우 0을 출력하고 255보다 큰 값이 되는 경우 255를 출력해야 한다.\n",
    "\n",
    ">> 입력값: 200\n",
    "출력값: 180\n",
    ">> 입력값: 15\n",
    "출력값: 0"
   ]
  },
  {
   "cell_type": "code",
   "execution_count": 36,
   "id": "a2e3ddce-977a-4c6e-92d5-1c3880ee661d",
   "metadata": {},
   "outputs": [
    {
     "name": "stdin",
     "output_type": "stream",
     "text": [
      " 300\n"
     ]
    },
    {
     "name": "stdout",
     "output_type": "stream",
     "text": [
      "255\n"
     ]
    }
   ],
   "source": [
    "user = input(\"\")\n",
    "a = int(user) - 20\n",
    "if a > 255 :\n",
    "    print(255)\n",
    "elif 0 <= a <= 255 :\n",
    "    print(a)\n",
    "else : print(0)"
   ]
  },
  {
   "cell_type": "code",
   "execution_count": null,
   "id": "bb282c01-ec49-48bf-a325-bf1e71af3ce8",
   "metadata": {},
   "outputs": [],
   "source": [
    "116 사용자로부터 입력 받은 시간이 정각인지 판별하라.\n",
    "\n",
    ">> 현재시간:02:00\n",
    "정각 입니다.\n",
    ">> 현재시간:03:10\n",
    "정각이 아닙니다"
   ]
  },
  {
   "cell_type": "code",
   "execution_count": null,
   "id": "e28dc0f2-2406-48af-9d9b-fa598f93bf7d",
   "metadata": {},
   "outputs": [],
   "source": [
    "time = input(\"현재시간: \")\n",
    "if time[-2:] == \"00\":\n",
    "    print(\"정각 입니다.\")\n",
    "else:\n",
    "    print(\"정각이 아닙니다.\")"
   ]
  },
  {
   "cell_type": "code",
   "execution_count": null,
   "id": "01b5729c-9c49-4582-bed4-9a6c4d097bea",
   "metadata": {},
   "outputs": [],
   "source": [
    "117 사용자로 입력받은 단어가 아래 fruit 리스트에 포함되어 있는지를 확인하라. 포함되었다면 \"정답입니다\"를 아닐 경우 \"오답입니다\" 출력하라.\n",
    "\n",
    "fruit = [\"사과\", \"포도\", \"홍시\"]\n",
    ">> 좋아하는 과일은? 사과\n",
    "정답입니다."
   ]
  },
  {
   "cell_type": "code",
   "execution_count": 38,
   "id": "4b9f8cac-351d-457b-a106-8660799ae579",
   "metadata": {},
   "outputs": [
    {
     "name": "stdin",
     "output_type": "stream",
     "text": [
      "좋아하는 과일은? 복숭아\n"
     ]
    },
    {
     "name": "stdout",
     "output_type": "stream",
     "text": [
      "오답입니다\n"
     ]
    }
   ],
   "source": [
    "fruit = [\"사과\", \"포도\", \"홍시\"]\n",
    "user = input(\"좋아하는 과일은?\")\n",
    "if user in fruit :\n",
    "    print(\"정답입니다\")\n",
    "else : \n",
    "    print(\"오답입니다\")"
   ]
  },
  {
   "cell_type": "code",
   "execution_count": null,
   "id": "525fad06-29b3-48e0-b8c6-1b859647cb8f",
   "metadata": {},
   "outputs": [],
   "source": [
    "118 \n",
    "투자 경고 종목 리스트가 있을 때 사용자로부터 종목명을 입력 받은 후 \n",
    "해당 종목이 투자 경고 종목이라면 '투자 경고 종목입니다'를 아니면 \"투자 경고 종목이 아닙니다.\"를 출력하는 프로그램을 작성하라.\n",
    "\n",
    "warn_investment_list = [\"Microsoft\", \"Google\", \"Naver\", \"Kakao\", \"SAMSUNG\", \"LG\"]"
   ]
  },
  {
   "cell_type": "code",
   "execution_count": 40,
   "id": "b8f5b8fd-c3f8-4164-a0ae-d726a656d314",
   "metadata": {},
   "outputs": [
    {
     "name": "stdin",
     "output_type": "stream",
     "text": [
      " LG\n"
     ]
    },
    {
     "name": "stdout",
     "output_type": "stream",
     "text": [
      "투자 경고 종목입니다\n"
     ]
    }
   ],
   "source": [
    "warn_investment_list = [\"Microsoft\", \"Google\", \"Naver\", \"Kakao\", \"SAMSUNG\", \"LG\"]\n",
    "user = input(\"\")\n",
    "if user in warn_investment_list :\n",
    "    print(\"투자 경고 종목입니다\")\n",
    "else : \n",
    "    print(\"투자 경고 종목이 아닙니다.\")"
   ]
  },
  {
   "cell_type": "code",
   "execution_count": null,
   "id": "802f1464-7359-46e4-96aa-8eaf99705585",
   "metadata": {},
   "outputs": [],
   "source": [
    "119 아래와 같이 fruit 딕셔너리가 정의되어 있다. \n",
    "사용자가 입력한 값이 딕셔너리 키 (key) 값에 포함되었다면 \"정답입니다\"를 아닐 경우 \"오답입니다\" 출력하라.\n",
    "\n",
    "fruit = {\"봄\" : \"딸기\", \"여름\" : \"토마토\", \"가을\" : \"사과\"}\n",
    ">> 제가좋아하는계절은: 봄\n",
    "정답입니다."
   ]
  },
  {
   "cell_type": "code",
   "execution_count": 42,
   "id": "5e1860d3-a9a5-4ce1-89f4-40bd1e93cace",
   "metadata": {},
   "outputs": [
    {
     "name": "stdin",
     "output_type": "stream",
     "text": [
      "제가좋아하는계절은 겨울\n"
     ]
    },
    {
     "name": "stdout",
     "output_type": "stream",
     "text": [
      "오답입니다\n"
     ]
    }
   ],
   "source": [
    "fruit = {\"봄\" : \"딸기\", \"여름\" : \"토마토\", \"가을\" : \"사과\"}\n",
    "user = input(\"제가좋아하는계절은\")\n",
    "\n",
    "if user in fruit :\n",
    "    print(\"정답입니다\")\n",
    "else :\n",
    "    print(\"오답입니다\")"
   ]
  },
  {
   "cell_type": "code",
   "execution_count": null,
   "id": "a5fbb3ed-cd1b-4158-9ddc-4a9e05078623",
   "metadata": {},
   "outputs": [],
   "source": [
    "120 아래와 같이 fruit 딕셔너리가 정의되어 있다. 사용자가 입력한 값이 딕셔너리 값 (value)에 포함되었다면 \"정답입니다\"를 아닐 경우 \"오답입니다\" 출력하라.\n",
    "\n",
    "fruit = {\"봄\" : \"딸기\", \"여름\" : \"토마토\", \"가을\" : \"사과\"}\n",
    ">> 좋아하는과일은? 한라봉\n",
    "오답입니다."
   ]
  },
  {
   "cell_type": "code",
   "execution_count": 47,
   "id": "6eaa3b62-fc18-48bd-aadf-da88ff795dd4",
   "metadata": {},
   "outputs": [
    {
     "name": "stdin",
     "output_type": "stream",
     "text": [
      "좋아하는과일은? 딸기\n"
     ]
    },
    {
     "name": "stdout",
     "output_type": "stream",
     "text": [
      "정답입니다\n"
     ]
    }
   ],
   "source": [
    "fruit = {\"봄\" : \"딸기\", \"여름\" : \"토마토\", \"가을\" : \"사과\"}\n",
    "user = input(\"좋아하는과일은?\")\n",
    "\n",
    "if user in fruit.values() :\n",
    "    print(\"정답입니다\")\n",
    "else :\n",
    "    print(\"오답입니다\")"
   ]
  },
  {
   "cell_type": "code",
   "execution_count": null,
   "id": "388f5fa5-9f56-47ae-af59-3bca65bcccfa",
   "metadata": {},
   "outputs": [],
   "source": [
    "121 사용자로부터 문자 한 개를 입력 받고, 소문자일 경우 대문자로, 대문자 일 경우, 소문자로 변경해서 출력하라.\n",
    "\n",
    ">> a\n",
    "A\n",
    "힌트-1 : islower() 함수는 문자의 소문자 여부를 판별합니다. \n",
    "만약 소문자일 경우 True, 대문자일 경우 False를 반환합니다. \n",
    "힌트-2 : upper() 함수는 대문자로, lower() 함수는 소문자로 변경합니다."
   ]
  },
  {
   "cell_type": "code",
   "execution_count": null,
   "id": "4b4f795e-fe65-4637-90c8-dc7a5c878d0c",
   "metadata": {},
   "outputs": [],
   "source": [
    "user = input(\"\")\n",
    "if user.islower():\n",
    "    print(user.upper())\n",
    "else:\n",
    "    print(user.lower())"
   ]
  },
  {
   "cell_type": "code",
   "execution_count": null,
   "id": "126b07a0-74e0-467d-9678-12014f364cfa",
   "metadata": {},
   "outputs": [],
   "source": [
    "122 점수 구간에 해당하는 학점이 아래와 같이 정의되어 있다. 사용자로부터 score를 입력받아 학점을 출력하라.\n",
    "\n",
    "점수\t학점\n",
    "81~100\tA\n",
    "61~80\tB\n",
    "41~60\tC\n",
    "21~40\tD\n",
    "0~20\tE\n",
    ">> score: 83\n",
    "grade is A"
   ]
  },
  {
   "cell_type": "code",
   "execution_count": null,
   "id": "31a19c8b-0d63-43b6-b848-fc045e72bcff",
   "metadata": {},
   "outputs": [],
   "source": [
    "score = input(\"score: \")\n",
    "score = int(score)\n",
    "if 81 <= score <= 100:\n",
    "    print(\"grade is A\")\n",
    "elif 61 <= score <= 80:\n",
    "    print(\"grade is B\")\n",
    "elif 41 <= score <= 60:\n",
    "    print(\"grade is C\")\n",
    "elif 21 <= score <= 40:\n",
    "    print(\"grade is D\")\n",
    "else:\n",
    "    print(\"grade is E\")"
   ]
  },
  {
   "cell_type": "code",
   "execution_count": null,
   "id": "a00b340d-10cc-45ae-a78b-e4c2b97b7dde",
   "metadata": {},
   "outputs": [],
   "source": [
    "123 사용자로부터 달러, 엔, 유로, 또는 위안 금액을 입력받은 후 이를 원으로 변환하는 프로그램을 작성하라. \n",
    "각 통화별 환율은 다음과 같다. 사용자는 100 달러, 1000 엔, 13 유로, 100 위안과 같이 금액과 통화명 사이에 공백을 넣어 입력한다고 가정한다.\n",
    "\n",
    "통화명\t환율\n",
    "달러\t1167\n",
    "엔\t1.096\n",
    "유로\t1268\n",
    "위안\t171\n",
    ">> 입력: 100 달러\n",
    "116700.00 원"
   ]
  },
  {
   "cell_type": "code",
   "execution_count": null,
   "id": "3239d0e8-865f-488a-9bbc-5a768d358549",
   "metadata": {},
   "outputs": [],
   "source": [
    "환율 = {\"달러\": 1167, \n",
    "        \"엔\": 1.096, \n",
    "        \"유로\": 1268, \n",
    "        \"위안\": 171}\n",
    "user = input(\"입력: \")\n",
    "num, currency = user.split()\n",
    "print(float(num) * 환율[currency], \"원\")"
   ]
  },
  {
   "cell_type": "code",
   "execution_count": 54,
   "id": "5986cb6c-3c87-41aa-a66c-c26876c81984",
   "metadata": {},
   "outputs": [
    {
     "ename": "SyntaxError",
     "evalue": "invalid syntax (734647760.py, line 1)",
     "output_type": "error",
     "traceback": [
      "\u001b[1;36m  Cell \u001b[1;32mIn[54], line 1\u001b[1;36m\u001b[0m\n\u001b[1;33m    124 사용자로부터 세 개의 숫자를 입력 받은 후 가장 큰 숫자를 출력하라.\u001b[0m\n\u001b[1;37m        ^\u001b[0m\n\u001b[1;31mSyntaxError\u001b[0m\u001b[1;31m:\u001b[0m invalid syntax\n"
     ]
    }
   ],
   "source": [
    "124 사용자로부터 세 개의 숫자를 입력 받은 후 가장 큰 숫자를 출력하라.\n",
    "\n",
    ">> input number1: 10\n",
    ">> input number2: 9\n",
    ">> input number3: 20\n",
    "20"
   ]
  },
  {
   "cell_type": "code",
   "execution_count": null,
   "id": "ee3f8ba8-c6b2-4d61-ac92-3d437b997965",
   "metadata": {},
   "outputs": [],
   "source": [
    "num1 = input(\"input number1: \")\n",
    "num2 = input(\"input number2: \")\n",
    "num3 = input(\"input number3: \")\n",
    "num1 = int(num1)\n",
    "num2 = int(num2)\n",
    "num3 = int(num3)\n",
    "\n",
    "if num1 >= num2 and num1 >= num3:\n",
    "    print(num1)\n",
    "elif num2 >= num1 and num2 >= num3:\n",
    "    print(num2)\n",
    "else:\n",
    "    print(num3)"
   ]
  },
  {
   "cell_type": "code",
   "execution_count": null,
   "id": "9109d107-69d3-4654-979d-cffaf3d3e694",
   "metadata": {},
   "outputs": [],
   "source": [
    "125 휴대폰 번호 앞자리에 따라 통신사는 아래와 같이 구분된다. 사용자로부터 휴대전화 번호를 입력 받고, 통신사를 출력하는 프로그램을 작성하라.\n",
    "\n",
    "번호\t통신사\n",
    "011\tSKT\n",
    "016\tKT\n",
    "019\tLGU\n",
    "010\t알수없음\n",
    ">> 휴대전화 번호 입력: 011-345-1922\n",
    "당신은 SKT 사용자입니다."
   ]
  },
  {
   "cell_type": "code",
   "execution_count": null,
   "id": "69457343-59e5-4ac5-8790-5293685ca0c6",
   "metadata": {},
   "outputs": [],
   "source": [
    "126 우편번호는 5자리로 구성되는데, 앞의 세자리는 구를 나타낸다. 예를들어, 강북구의 경우 010, 011, 012 세 자리로 시작한다.\n",
    "\n",
    "-\t0\t1\t2\t3\t4\t5\t6\t7\t8\t9\n",
    "01\t강북구\t강북구\t강북구\t도봉구\t도봉구\t도봉구\t노원구\t노원구\t노원구\t노원구\n",
    "사용자로 부터 5자리 우편번호를 입력받고 구를 판별하라\n",
    "\n",
    ">> 우편번호: 01400\n",
    "도봉구"
   ]
  },
  {
   "cell_type": "code",
   "execution_count": null,
   "id": "77ad96ed-9cb9-45fe-aaf6-2cfb65dfe2a6",
   "metadata": {},
   "outputs": [],
   "source": [
    "127 주민등록번호 뒷 자리 7자리 중 첫째 자리는 성별을 나타내는데, 1, 3은 남자 2, 4는 여자를 의미한다. \n",
    "사용자로부터 13자리의 주민등록번호를 입력 받은 후 성별 (남자, 여자)를 출력하는 프로그램을 작성하라.\n",
    "\n",
    ">> 주민등록번호: 821010-1635210\n",
    "남자"
   ]
  },
  {
   "cell_type": "code",
   "execution_count": null,
   "id": "88f2122e-2e21-41a7-8b03-e2ac4cbe81d3",
   "metadata": {},
   "outputs": [],
   "source": [
    "128 주민등록번호의 뒷 자리 7자리 중 두번째와 세번째는 지역코드를 의미한다. \n",
    "주민 등록 번호를 입력 받은 후 출생지가 서울인지 아닌지 판단하는 코드를 작성하라\n",
    "\n",
    "지역코드\t출생지\n",
    "00 ~ 08\t서울\n",
    "09 ~ 12\t부산\n",
    ">> 주민등록번호: 821010-1635210\n",
    "서울이 아닙니다.\n",
    ">> 주민등록번호: 861010-1015210\n",
    "서울 입니다."
   ]
  },
  {
   "cell_type": "code",
   "execution_count": null,
   "id": "cc7b681b-6acf-46f3-9182-b5a6ffca6bec",
   "metadata": {},
   "outputs": [],
   "source": [
    "129 주민등록번호는 13자리로 구성되는데 마지막 자리수는 주민등록번호의 유효성을 체크하는데 사용된다.\n",
    "먼저 앞에서부터 12자리의 숫자에 2, 3, 4, 5, 6, 7, 8, 9, 2, 3, 4, 5를 차례로 곱한 뒤 그 값을 전부 더한다. \n",
    "연산 결과 값을 11로 나누면 나머지가 나오는데 11에서 나머지를 뺀 값이 주민등록번호의 마지막 번호가 된다.\n",
    "\n",
    "  8 2 1 0 1 0 - 1 6 3 5 2 1 0\n",
    "x 2 3 4 5 6 7   8 9 2 3 4 5 \n",
    "-----------------------------\n",
    "1차 계산: (8*2 + 2*3 + 1*4 + 0*5 + 1*6 + 0*7 + 1*8 + 6*9 + 3*2 + 5*3 + 2*4 + 1*5) = (128 % 11) = 7\n",
    "2차 계산: 11 -7 = 4\n",
    "위와 같이 821010-1635210에 대해서 계산을 해보면 마지막 자리는 4가 되어야 함을 알 수 있다. 즉, 821010-1635210은 유효하지 않은 주민등록번호임을 알 수 있다.\n",
    "\n",
    "다음과 같이 사용자로부터 주민등록번호를 입력받은 후 주민등록번호가 유효한지를 출력하는 프로그램을 작성하라.\n",
    "\n",
    ">> 주민등록번호: 821010-1635210\n",
    "유효하지 않은 주민등록번호입니다. "
   ]
  },
  {
   "cell_type": "code",
   "execution_count": null,
   "id": "5f929df2-59fd-44b5-b60a-eb2eb0562f0d",
   "metadata": {},
   "outputs": [],
   "source": [
    "130 아래 코드는 비트코인의 가격 정보를 딕셔너리로 가져오는 코드이다.\n",
    "\n",
    "import requests\n",
    "btc = requests.get(\"https://api.bithumb.com/public/ticker/\").json()['data']\n",
    "btc 딕셔너리 안에는 시가, 종가, 최고가, 최저가 등이 저장되어 있다. 최고가와 최저가의 차이를 변동폭으로 정의할 때 (시가 + 변동폭)이 최고가 보다 높을 경우 \"상승장\", 그렇지 않은 경우 \"하락장\" 문자열을 출력하라.\n",
    "\n",
    "Key Name\tDescription\n",
    "opening_price\t최근 24시간 내 시작 거래금액\n",
    "closing_price\t최근 24시간 내 마지막 거래금액\n",
    "min_price\t최근 24시간 내 최저 거래금액\n",
    "max_price\t최근 24시간 내 최고 거래금액"
   ]
  },
  {
   "cell_type": "code",
   "execution_count": null,
   "id": "9cd667be-811b-421c-b7b2-860655bb89d7",
   "metadata": {},
   "outputs": [],
   "source": [
    "131 for문의 실행결과를 예측하라.\n",
    "\n",
    "과일 = [\"사과\", \"귤\", \"수박\"]\n",
    "for 변수 in 과일:\n",
    "    print(변수)"
   ]
  },
  {
   "cell_type": "code",
   "execution_count": null,
   "id": "d18ae461-f289-4246-ac57-17f88f14bbc4",
   "metadata": {},
   "outputs": [],
   "source": []
  }
 ],
 "metadata": {
  "kernelspec": {
   "display_name": "Python 3 (ipykernel)",
   "language": "python",
   "name": "python3"
  },
  "language_info": {
   "codemirror_mode": {
    "name": "ipython",
    "version": 3
   },
   "file_extension": ".py",
   "mimetype": "text/x-python",
   "name": "python",
   "nbconvert_exporter": "python",
   "pygments_lexer": "ipython3",
   "version": "3.11.7"
  }
 },
 "nbformat": 4,
 "nbformat_minor": 5
}
