{
 "cells": [
  {
   "cell_type": "markdown",
   "id": "7a3f41da-9d57-49d6-a25b-56fb1eff8b63",
   "metadata": {},
   "source": [
    "# 클래스"
   ]
  },
  {
   "cell_type": "code",
   "execution_count": 1,
   "id": "5275bf58-0dee-4195-bf36-b5191dabe5e0",
   "metadata": {},
   "outputs": [
    {
     "name": "stdout",
     "output_type": "stream",
     "text": [
      "3\n",
      "7\n"
     ]
    }
   ],
   "source": [
    "# 더하기\n",
    "result = 0\n",
    "\n",
    "def add(num):\n",
    "    global result\n",
    "    result += num  # 결괏값(result)에 입력값(num) 더하기\n",
    "    return result  # 결괏값 리턴\n",
    "\n",
    "print(add(3))\n",
    "print(add(4))"
   ]
  },
  {
   "cell_type": "code",
   "execution_count": 2,
   "id": "10a65c59-315e-4b3c-b979-9c7a33a4b895",
   "metadata": {},
   "outputs": [
    {
     "name": "stdout",
     "output_type": "stream",
     "text": [
      "3\n",
      "7\n",
      "3\n",
      "10\n"
     ]
    }
   ],
   "source": [
    "result1 = 0\n",
    "result2 = 0\n",
    "\n",
    "def add1(num):  # 계산기1\n",
    "    global result1\n",
    "    result1 += num\n",
    "    return result1\n",
    "\n",
    "def add2(num):  # 계산기2\n",
    "    global result2\n",
    "    result2 += num\n",
    "    return result2\n",
    "\n",
    "print(add1(3))\n",
    "print(add1(4))\n",
    "print(add2(3))\n",
    "print(add2(7))"
   ]
  },
  {
   "cell_type": "code",
   "execution_count": null,
   "id": "1253c60f-8cac-4650-ba3a-ec9d39b2bcca",
   "metadata": {},
   "outputs": [],
   "source": [
    "class Calculator:\n",
    "    def __init__(self):\n",
    "        self.result = 0\n",
    "\n",
    "    def add(self, num):\n",
    "        self.result += num\n",
    "        return self.result\n",
    "\n",
    "cal1 = Calculator()\n",
    "cal2 = Calculator()\n",
    "\n",
    "print(cal1.add(3))\n",
    "print(cal1.add(4))\n",
    "print(cal2.add(3))\n",
    "print(cal2.add(7))"
   ]
  },
  {
   "cell_type": "markdown",
   "id": "44935a1d-5984-494e-8ab8-5ff7200965f9",
   "metadata": {},
   "source": [
    "## 클래스와 객체"
   ]
  },
  {
   "cell_type": "code",
   "execution_count": 3,
   "id": "74feb48a-df7d-4872-82cb-b9863f405a19",
   "metadata": {},
   "outputs": [],
   "source": [
    "class Cookie :\n",
    "    pass"
   ]
  },
  {
   "cell_type": "code",
   "execution_count": 4,
   "id": "68ec0049-7e98-436d-ab0e-76194a0e4b0d",
   "metadata": {},
   "outputs": [
    {
     "data": {
      "text/plain": [
       "type"
      ]
     },
     "execution_count": 4,
     "metadata": {},
     "output_type": "execute_result"
    }
   ],
   "source": [
    "type(Cookie)"
   ]
  },
  {
   "cell_type": "code",
   "execution_count": 5,
   "id": "68e7e5fc-fc45-4e43-b1f1-4272c6f9dbba",
   "metadata": {},
   "outputs": [
    {
     "name": "stdout",
     "output_type": "stream",
     "text": [
      "<__main__.Cookie object at 0x000002459F60B190> <class '__main__.Cookie'>\n"
     ]
    }
   ],
   "source": [
    "a = Cookie()\n",
    "print(a, type(a))"
   ]
  },
  {
   "cell_type": "markdown",
   "id": "b4a09655-8085-47ea-9119-c042bc66bfa5",
   "metadata": {},
   "source": [
    "## 사칙 연산 클래스 만들기"
   ]
  },
  {
   "cell_type": "code",
   "execution_count": 17,
   "id": "b585fe16-af04-4094-b7df-7e87805c4e76",
   "metadata": {},
   "outputs": [],
   "source": [
    "class Fourcal :\n",
    "    pass"
   ]
  },
  {
   "cell_type": "code",
   "execution_count": 8,
   "id": "27f58b0d-0497-40ec-aa79-14457d335112",
   "metadata": {},
   "outputs": [
    {
     "data": {
      "text/plain": [
       "__main__.Fourcal"
      ]
     },
     "execution_count": 8,
     "metadata": {},
     "output_type": "execute_result"
    }
   ],
   "source": [
    "a = Fourcal()\n",
    "type(a)"
   ]
  },
  {
   "cell_type": "code",
   "execution_count": null,
   "id": "4df0f6f8-bc40-4975-9ab6-29af36a94fcd",
   "metadata": {},
   "outputs": [],
   "source": [
    "# 객체에 연산할 숫자를 지정하기"
   ]
  },
  {
   "cell_type": "code",
   "execution_count": 19,
   "id": "5ae60517-7452-4334-a4ba-bfb348034188",
   "metadata": {},
   "outputs": [],
   "source": [
    "class Fourcal :\n",
    "    def setdata(self, first, second) :\n",
    "        self.first = first     \n",
    "        self.second = second"
   ]
  },
  {
   "cell_type": "code",
   "execution_count": 12,
   "id": "c6353baf-4718-41e7-8d1b-bf666a7434a7",
   "metadata": {},
   "outputs": [],
   "source": [
    "def setdata(self, first, second) :\n",
    "        self.first = first     \n",
    "        self.second = second"
   ]
  },
  {
   "cell_type": "code",
   "execution_count": 20,
   "id": "54585ea5-8c9d-4dae-aa95-8d9f36f5e1d0",
   "metadata": {},
   "outputs": [],
   "source": [
    "a = Fourcal()\n",
    "a.setdata(4, 2)"
   ]
  },
  {
   "cell_type": "code",
   "execution_count": 22,
   "id": "f9c4bbae-01d7-4a85-9d98-bbb4cdd44fac",
   "metadata": {},
   "outputs": [],
   "source": [
    "# 매서드를 호출하는 또다른 방법\n",
    "a = Fourcal()\n",
    "Fourcal.setdata(a, 4, 2)"
   ]
  },
  {
   "cell_type": "code",
   "execution_count": 11,
   "id": "07b2d743-9dde-4535-960d-e55071134789",
   "metadata": {},
   "outputs": [],
   "source": [
    "## setdata 매서드의 수행문"
   ]
  },
  {
   "cell_type": "code",
   "execution_count": 23,
   "id": "a5547912-5918-456d-a41d-7af287f534a0",
   "metadata": {},
   "outputs": [
    {
     "data": {
      "text/plain": [
       "4"
      ]
     },
     "execution_count": 23,
     "metadata": {},
     "output_type": "execute_result"
    }
   ],
   "source": [
    "a.first"
   ]
  },
  {
   "cell_type": "code",
   "execution_count": 24,
   "id": "81628489-b6c7-47f3-b358-6d490006e5c1",
   "metadata": {},
   "outputs": [
    {
     "data": {
      "text/plain": [
       "2"
      ]
     },
     "execution_count": 24,
     "metadata": {},
     "output_type": "execute_result"
    }
   ],
   "source": [
    "a.second"
   ]
  },
  {
   "cell_type": "code",
   "execution_count": 25,
   "id": "cbc3d6cf-5fcb-42c0-b1b0-e81728cfed51",
   "metadata": {},
   "outputs": [
    {
     "data": {
      "text/plain": [
       "<bound method Fourcal.setdata of <__main__.Fourcal object at 0x00000245A05CB210>>"
      ]
     },
     "execution_count": 25,
     "metadata": {},
     "output_type": "execute_result"
    }
   ],
   "source": [
    "a.setdata"
   ]
  },
  {
   "cell_type": "code",
   "execution_count": 26,
   "id": "306afdc6-d834-41a8-9801-3f788b6335c6",
   "metadata": {},
   "outputs": [],
   "source": [
    "a = Fourcal()\n",
    "b = Fourcal()"
   ]
  },
  {
   "cell_type": "code",
   "execution_count": 27,
   "id": "5ca07944-0a6e-48ae-a374-910b89ac9913",
   "metadata": {},
   "outputs": [
    {
     "data": {
      "text/plain": [
       "4"
      ]
     },
     "execution_count": 27,
     "metadata": {},
     "output_type": "execute_result"
    }
   ],
   "source": [
    "a.setdata(4, 2)\n",
    "a.first"
   ]
  },
  {
   "cell_type": "code",
   "execution_count": 29,
   "id": "46fd1bde-f254-4e34-a6e8-c902116f6c1b",
   "metadata": {},
   "outputs": [
    {
     "data": {
      "text/plain": [
       "3"
      ]
     },
     "execution_count": 29,
     "metadata": {},
     "output_type": "execute_result"
    }
   ],
   "source": [
    "b.setdata(3, 7)\n",
    "b.first"
   ]
  },
  {
   "cell_type": "markdown",
   "id": "0241a7c3-cca5-474b-8338-37a397f3accc",
   "metadata": {},
   "source": [
    "## 더하기 기능 만들기"
   ]
  },
  {
   "cell_type": "code",
   "execution_count": 65,
   "id": "fabad5eb-94b7-4f6a-ab72-646567a8377e",
   "metadata": {},
   "outputs": [],
   "source": [
    "class Fourcal :\n",
    "    def setdata(self, first, second) :\n",
    "        self.first = first     \n",
    "        self.second = second\n",
    "    def add(self) :\n",
    "        result = self.first + self.second\n",
    "        return result"
   ]
  },
  {
   "cell_type": "code",
   "execution_count": 66,
   "id": "700e1399-dd90-405a-8dc8-bc5ebddaab73",
   "metadata": {},
   "outputs": [],
   "source": [
    "a = Fourcal()\n",
    "a.setdata(4, 2)"
   ]
  },
  {
   "cell_type": "code",
   "execution_count": 67,
   "id": "bb858d8e-17ff-4ca9-87eb-65fbf0ff7670",
   "metadata": {},
   "outputs": [
    {
     "data": {
      "text/plain": [
       "6"
      ]
     },
     "execution_count": 67,
     "metadata": {},
     "output_type": "execute_result"
    }
   ],
   "source": [
    "a.add()"
   ]
  },
  {
   "cell_type": "code",
   "execution_count": 68,
   "id": "f85386ed-ed29-4fb2-be9c-c104f4a1b50f",
   "metadata": {},
   "outputs": [],
   "source": [
    "class Fourcal :\n",
    "    def setdata(self, first, second) :\n",
    "        self.first = first     \n",
    "        self.second = second\n",
    "        \n",
    "    def add(self) :\n",
    "        result = self.first + self.second\n",
    "        return result\n",
    "    \n",
    "    def mul(self) :\n",
    "        result = self.first * self.second\n",
    "        return result\n",
    "    \n",
    "    def sub(self) :\n",
    "        result = self.first - self.second\n",
    "        return result\n",
    "    \n",
    "    def div(self) :\n",
    "        result = self.first / self.second\n",
    "        return result"
   ]
  },
  {
   "cell_type": "markdown",
   "id": "4e962604-d89e-4857-b70f-5e73d3bd2a1b",
   "metadata": {},
   "source": [
    "## 생성자"
   ]
  },
  {
   "cell_type": "code",
   "execution_count": 71,
   "id": "efdd3551-558b-4f61-92b3-c132bcf79f40",
   "metadata": {},
   "outputs": [],
   "source": [
    "class Fourcal :\n",
    "    def setdata(self, first, second) :\n",
    "        self.first = first     \n",
    "        self.second = second        \n",
    "    def add(self) :\n",
    "        result = self.first + self.second\n",
    "        return result    \n",
    "    def mul(self) :\n",
    "        result = self.first * self.second\n",
    "        return result    \n",
    "    def sub(self) :\n",
    "        result = self.first - self.second\n",
    "        return result\n",
    "    def div(self) :\n",
    "        result = self.first / self.second\n",
    "        return result"
   ]
  },
  {
   "cell_type": "code",
   "execution_count": 73,
   "id": "b83d4939-6137-4bd5-8c33-e9e403885a56",
   "metadata": {},
   "outputs": [
    {
     "data": {
      "text/plain": [
       "6"
      ]
     },
     "execution_count": 73,
     "metadata": {},
     "output_type": "execute_result"
    }
   ],
   "source": [
    "a = Fourcal()\n",
    "a.setdata(4, 2)\n",
    "a.add()"
   ]
  },
  {
   "cell_type": "code",
   "execution_count": 74,
   "id": "02b4bf31-090e-425a-9d7b-172f0a6ae7ad",
   "metadata": {},
   "outputs": [],
   "source": [
    "class Fourcal1 :\n",
    "    def __init__(self, first, second):\n",
    "        self.first = first\n",
    "        self.second = second\n",
    "\n",
    "    # def setdata(self, first, second) :\n",
    "    #    self.first = first     \n",
    "    #    self.second = second\n",
    "        \n",
    "    def add(self) :\n",
    "        result = self.first + self.second\n",
    "        return result\n",
    "    \n",
    "    def mul(self) :\n",
    "        result = self.first * self.second\n",
    "        return result\n",
    "    \n",
    "    def sub(self) :\n",
    "        result = self.first - self.second\n",
    "        return result\n",
    "    \n",
    "    def div(self) :\n",
    "        result = self.first / self.second\n",
    "        return result"
   ]
  },
  {
   "cell_type": "code",
   "execution_count": 41,
   "id": "0c29bd3e-7127-4d34-99a9-443cfc623379",
   "metadata": {},
   "outputs": [],
   "source": [
    "a = Fourcal1"
   ]
  },
  {
   "cell_type": "code",
   "execution_count": 42,
   "id": "0753b811-caf3-4048-8f6b-e043a30dcd08",
   "metadata": {},
   "outputs": [],
   "source": [
    "a = Fourcal1(4, 2)"
   ]
  },
  {
   "cell_type": "markdown",
   "id": "38b1a57f-4333-49f2-a59e-de0c70a18161",
   "metadata": {},
   "source": [
    "## 클래스의 상속"
   ]
  },
  {
   "cell_type": "code",
   "execution_count": 75,
   "id": "e4243ce0-1b3b-4a29-a737-5160de17a11a",
   "metadata": {},
   "outputs": [],
   "source": [
    "class MoreFourcal(Fourcal) :\n",
    "    pass"
   ]
  },
  {
   "cell_type": "code",
   "execution_count": 76,
   "id": "42cbbe04-bb74-4f85-97a5-475e182e9070",
   "metadata": {},
   "outputs": [
    {
     "ename": "TypeError",
     "evalue": "MoreFourcal() takes no arguments",
     "output_type": "error",
     "traceback": [
      "\u001b[1;31m---------------------------------------------------------------------------\u001b[0m",
      "\u001b[1;31mTypeError\u001b[0m                                 Traceback (most recent call last)",
      "Cell \u001b[1;32mIn[76], line 1\u001b[0m\n\u001b[1;32m----> 1\u001b[0m a \u001b[38;5;241m=\u001b[39m MoreFourcal(\u001b[38;5;241m4\u001b[39m, \u001b[38;5;241m2\u001b[39m)\n\u001b[0;32m      2\u001b[0m a\n",
      "\u001b[1;31mTypeError\u001b[0m: MoreFourcal() takes no arguments"
     ]
    }
   ],
   "source": [
    "a = MoreFourcal(4, 2)\n",
    "a"
   ]
  },
  {
   "cell_type": "code",
   "execution_count": 52,
   "id": "48c53927-2a11-4322-831c-263f64d75a90",
   "metadata": {},
   "outputs": [
    {
     "ename": "AttributeError",
     "evalue": "'MoreFourcal' object has no attribute 'seond'",
     "output_type": "error",
     "traceback": [
      "\u001b[1;31m---------------------------------------------------------------------------\u001b[0m",
      "\u001b[1;31mAttributeError\u001b[0m                            Traceback (most recent call last)",
      "Cell \u001b[1;32mIn[52], line 1\u001b[0m\n\u001b[1;32m----> 1\u001b[0m a\u001b[38;5;241m.\u001b[39madd(), a\u001b[38;5;241m.\u001b[39mmul(), a\u001b[38;5;241m.\u001b[39msub(), a\u001b[38;5;241m.\u001b[39mdiv()\n",
      "Cell \u001b[1;32mIn[38], line 19\u001b[0m, in \u001b[0;36mFourcal.sub\u001b[1;34m(self)\u001b[0m\n\u001b[0;32m     18\u001b[0m \u001b[38;5;28;01mdef\u001b[39;00m \u001b[38;5;21msub\u001b[39m(\u001b[38;5;28mself\u001b[39m) :\n\u001b[1;32m---> 19\u001b[0m     result \u001b[38;5;241m=\u001b[39m \u001b[38;5;28mself\u001b[39m\u001b[38;5;241m.\u001b[39mfirst \u001b[38;5;241m-\u001b[39m \u001b[38;5;28mself\u001b[39m\u001b[38;5;241m.\u001b[39mseond\n\u001b[0;32m     20\u001b[0m     \u001b[38;5;28;01mreturn\u001b[39;00m result\n",
      "\u001b[1;31mAttributeError\u001b[0m: 'MoreFourcal' object has no attribute 'seond'"
     ]
    }
   ],
   "source": [
    "a.add(), a.mul(), a.sub(), a.div()"
   ]
  },
  {
   "cell_type": "code",
   "execution_count": null,
   "id": "1f628f86-69c9-41ce-870a-3ef3da556f5c",
   "metadata": {},
   "outputs": [],
   "source": [
    "class MoreFourcal(Fourcal) :\n",
    "    def pow(self) :\n",
    "        result = self.first ** self.second\n",
    "        return result"
   ]
  },
  {
   "cell_type": "code",
   "execution_count": 60,
   "id": "82d35cef-09ea-4f8d-bbdf-55fa93fda4e2",
   "metadata": {},
   "outputs": [
    {
     "ename": "TypeError",
     "evalue": "MoreFourcal() takes no arguments",
     "output_type": "error",
     "traceback": [
      "\u001b[1;31m---------------------------------------------------------------------------\u001b[0m",
      "\u001b[1;31mTypeError\u001b[0m                                 Traceback (most recent call last)",
      "Cell \u001b[1;32mIn[60], line 1\u001b[0m\n\u001b[1;32m----> 1\u001b[0m a \u001b[38;5;241m=\u001b[39m MoreFourcal(\u001b[38;5;241m4\u001b[39m, \u001b[38;5;241m2\u001b[39m)\n\u001b[0;32m      2\u001b[0m a\u001b[38;5;241m.\u001b[39madd(), a\u001b[38;5;241m.\u001b[39mmul(), a\u001b[38;5;241m.\u001b[39msub(), a\u001b[38;5;241m.\u001b[39mdiv(), a\u001b[38;5;241m.\u001b[39mpow()\n",
      "\u001b[1;31mTypeError\u001b[0m: MoreFourcal() takes no arguments"
     ]
    }
   ],
   "source": [
    "a = MoreFourcal(4, 2)\n",
    "a.add(), a.mul(), a.sub(), a.div(), a.pow()"
   ]
  },
  {
   "cell_type": "markdown",
   "id": "931c9463-2cdc-4fca-b67b-67c8dd5c4c6b",
   "metadata": {},
   "source": [
    "## 메서드 오버라이딩"
   ]
  },
  {
   "cell_type": "code",
   "execution_count": 61,
   "id": "6759ea77-e985-454c-9461-58c9a3a5ccd8",
   "metadata": {},
   "outputs": [
    {
     "ename": "TypeError",
     "evalue": "Fourcal() takes no arguments",
     "output_type": "error",
     "traceback": [
      "\u001b[1;31m---------------------------------------------------------------------------\u001b[0m",
      "\u001b[1;31mTypeError\u001b[0m                                 Traceback (most recent call last)",
      "Cell \u001b[1;32mIn[61], line 1\u001b[0m\n\u001b[1;32m----> 1\u001b[0m a \u001b[38;5;241m=\u001b[39m Fourcal(\u001b[38;5;241m4\u001b[39m, \u001b[38;5;241m0\u001b[39m)\n\u001b[0;32m      2\u001b[0m a\u001b[38;5;241m.\u001b[39mdiv()\n",
      "\u001b[1;31mTypeError\u001b[0m: Fourcal() takes no arguments"
     ]
    }
   ],
   "source": [
    "a = Fourcal(4, 0)\n",
    "a.div()"
   ]
  },
  {
   "cell_type": "code",
   "execution_count": 62,
   "id": "f79f1a01-0366-47d0-96c6-8a33391afa32",
   "metadata": {},
   "outputs": [],
   "source": [
    "class SafeFourcal(Fourcal):\n",
    "...     def div(self):\n",
    "...         if self.second == 0:  # 나누는 값이 0인 경우 0을 리턴하도록 수정\n",
    "...             return 0\n",
    "...         else:\n",
    "...             return self.first / self.second"
   ]
  },
  {
   "cell_type": "code",
   "execution_count": 64,
   "id": "1ca10ca1-093f-4f8b-ade3-9eeed4b5a51e",
   "metadata": {},
   "outputs": [
    {
     "ename": "TypeError",
     "evalue": "SafeFourcal() takes no arguments",
     "output_type": "error",
     "traceback": [
      "\u001b[1;31m---------------------------------------------------------------------------\u001b[0m",
      "\u001b[1;31mTypeError\u001b[0m                                 Traceback (most recent call last)",
      "Cell \u001b[1;32mIn[64], line 1\u001b[0m\n\u001b[1;32m----> 1\u001b[0m a \u001b[38;5;241m=\u001b[39m SafeFourcal(\u001b[38;5;241m4\u001b[39m, \u001b[38;5;241m0\u001b[39m)\n\u001b[0;32m      2\u001b[0m a\u001b[38;5;241m.\u001b[39mdiv()\n",
      "\u001b[1;31mTypeError\u001b[0m: SafeFourcal() takes no arguments"
     ]
    }
   ],
   "source": [
    "a = SafeFourcal(4, 0)\n",
    ">>> a.div()"
   ]
  },
  {
   "cell_type": "markdown",
   "id": "f813005f-9e31-4f26-b954-90b7cff6b368",
   "metadata": {},
   "source": [
    "## 클래스 변수 "
   ]
  },
  {
   "cell_type": "code",
   "execution_count": 78,
   "id": "1eba822c-3f77-4a41-9fee-7e7307ca7e37",
   "metadata": {},
   "outputs": [],
   "source": [
    "class Family :\n",
    "    lastname = \"김\""
   ]
  },
  {
   "cell_type": "code",
   "execution_count": 79,
   "id": "26a21887-ac63-47f0-b851-76ae92224604",
   "metadata": {},
   "outputs": [
    {
     "data": {
      "text/plain": [
       "'김'"
      ]
     },
     "execution_count": 79,
     "metadata": {},
     "output_type": "execute_result"
    }
   ],
   "source": [
    "Family.lastname"
   ]
  },
  {
   "cell_type": "code",
   "execution_count": 81,
   "id": "9c30d9c9-edd5-4e5e-a3c4-fbb4c45c044b",
   "metadata": {},
   "outputs": [
    {
     "data": {
      "text/plain": [
       "('김', '김')"
      ]
     },
     "execution_count": 81,
     "metadata": {},
     "output_type": "execute_result"
    }
   ],
   "source": [
    "a = Family()\n",
    "b = Family()\n",
    "a.lastname, b.lastname"
   ]
  },
  {
   "cell_type": "markdown",
   "id": "8f86d6ac-f26d-440e-b7a8-1c6ac7ca646a",
   "metadata": {},
   "source": [
    "## 예외 처리"
   ]
  },
  {
   "cell_type": "markdown",
   "id": "2794865e-24d2-41ae-a025-fea51e8f2cf9",
   "metadata": {},
   "source": [
    "## 오류는 언제 발생하는가?"
   ]
  },
  {
   "cell_type": "code",
   "execution_count": 83,
   "id": "99b53232-e296-46b9-acdf-f4f299eb52c4",
   "metadata": {},
   "outputs": [
    {
     "ename": "FileNotFoundError",
     "evalue": "[Errno 2] No such file or directory: '없는파일'",
     "output_type": "error",
     "traceback": [
      "\u001b[1;31m---------------------------------------------------------------------------\u001b[0m",
      "\u001b[1;31mFileNotFoundError\u001b[0m                         Traceback (most recent call last)",
      "Cell \u001b[1;32mIn[83], line 2\u001b[0m\n\u001b[0;32m      1\u001b[0m \u001b[38;5;66;03m# 존재하지 않는 파일을 사용하려고 시도했을 때\u001b[39;00m\n\u001b[1;32m----> 2\u001b[0m f \u001b[38;5;241m=\u001b[39m \u001b[38;5;28mopen\u001b[39m(\u001b[38;5;124m'\u001b[39m\u001b[38;5;124m없는파일\u001b[39m\u001b[38;5;124m'\u001b[39m, \u001b[38;5;124m'\u001b[39m\u001b[38;5;124mr\u001b[39m\u001b[38;5;124m'\u001b[39m)\n",
      "File \u001b[1;32m~\\anaconda3\\Lib\\site-packages\\IPython\\core\\interactiveshell.py:310\u001b[0m, in \u001b[0;36m_modified_open\u001b[1;34m(file, *args, **kwargs)\u001b[0m\n\u001b[0;32m    303\u001b[0m \u001b[38;5;28;01mif\u001b[39;00m file \u001b[38;5;129;01min\u001b[39;00m {\u001b[38;5;241m0\u001b[39m, \u001b[38;5;241m1\u001b[39m, \u001b[38;5;241m2\u001b[39m}:\n\u001b[0;32m    304\u001b[0m     \u001b[38;5;28;01mraise\u001b[39;00m \u001b[38;5;167;01mValueError\u001b[39;00m(\n\u001b[0;32m    305\u001b[0m         \u001b[38;5;124mf\u001b[39m\u001b[38;5;124m\"\u001b[39m\u001b[38;5;124mIPython won\u001b[39m\u001b[38;5;124m'\u001b[39m\u001b[38;5;124mt let you open fd=\u001b[39m\u001b[38;5;132;01m{\u001b[39;00mfile\u001b[38;5;132;01m}\u001b[39;00m\u001b[38;5;124m by default \u001b[39m\u001b[38;5;124m\"\u001b[39m\n\u001b[0;32m    306\u001b[0m         \u001b[38;5;124m\"\u001b[39m\u001b[38;5;124mas it is likely to crash IPython. If you know what you are doing, \u001b[39m\u001b[38;5;124m\"\u001b[39m\n\u001b[0;32m    307\u001b[0m         \u001b[38;5;124m\"\u001b[39m\u001b[38;5;124myou can use builtins\u001b[39m\u001b[38;5;124m'\u001b[39m\u001b[38;5;124m open.\u001b[39m\u001b[38;5;124m\"\u001b[39m\n\u001b[0;32m    308\u001b[0m     )\n\u001b[1;32m--> 310\u001b[0m \u001b[38;5;28;01mreturn\u001b[39;00m io_open(file, \u001b[38;5;241m*\u001b[39margs, \u001b[38;5;241m*\u001b[39m\u001b[38;5;241m*\u001b[39mkwargs)\n",
      "\u001b[1;31mFileNotFoundError\u001b[0m: [Errno 2] No such file or directory: '없는파일'"
     ]
    }
   ],
   "source": [
    "# 존재하지 않는 파일을 사용하려고 시도했을 때\n",
    "f = open('없는파일', 'r')"
   ]
  },
  {
   "cell_type": "code",
   "execution_count": 82,
   "id": "77c5d4bb-070e-4077-bc95-1eefd2afde60",
   "metadata": {},
   "outputs": [
    {
     "ename": "ZeroDivisionError",
     "evalue": "division by zero",
     "output_type": "error",
     "traceback": [
      "\u001b[1;31m---------------------------------------------------------------------------\u001b[0m",
      "\u001b[1;31mZeroDivisionError\u001b[0m                         Traceback (most recent call last)",
      "Cell \u001b[1;32mIn[82], line 2\u001b[0m\n\u001b[0;32m      1\u001b[0m \u001b[38;5;66;03m# 0으로 나누려고 시도했을 때\u001b[39;00m\n\u001b[1;32m----> 2\u001b[0m \u001b[38;5;241m4\u001b[39m\u001b[38;5;241m/\u001b[39m\u001b[38;5;241m0\u001b[39m\n",
      "\u001b[1;31mZeroDivisionError\u001b[0m: division by zero"
     ]
    }
   ],
   "source": [
    "# 0으로 나누려고 시도했을 때\n",
    "4/0"
   ]
  },
  {
   "cell_type": "code",
   "execution_count": 84,
   "id": "a907c9df-e846-471a-b363-f22524931d43",
   "metadata": {},
   "outputs": [
    {
     "ename": "IndexError",
     "evalue": "list index out of range",
     "output_type": "error",
     "traceback": [
      "\u001b[1;31m---------------------------------------------------------------------------\u001b[0m",
      "\u001b[1;31mIndexError\u001b[0m                                Traceback (most recent call last)",
      "Cell \u001b[1;32mIn[84], line 3\u001b[0m\n\u001b[0;32m      1\u001b[0m \u001b[38;5;66;03m# 인덱스 요소가 없을 때\u001b[39;00m\n\u001b[0;32m      2\u001b[0m a \u001b[38;5;241m=\u001b[39m [\u001b[38;5;241m1\u001b[39m, \u001b[38;5;241m2\u001b[39m, \u001b[38;5;241m3\u001b[39m]\n\u001b[1;32m----> 3\u001b[0m a[\u001b[38;5;241m3\u001b[39m]\n",
      "\u001b[1;31mIndexError\u001b[0m: list index out of range"
     ]
    }
   ],
   "source": [
    "# 인덱스 요소가 없을 때\n",
    "a = [1, 2, 3]\n",
    "a[3]"
   ]
  },
  {
   "cell_type": "markdown",
   "id": "65017d21-a019-42ed-9b85-67f9ff021924",
   "metadata": {},
   "source": [
    "## 오류 예외 처리 기법"
   ]
  },
  {
   "cell_type": "code",
   "execution_count": 86,
   "id": "c59e2622-c418-4a81-9691-3c1338cd63e4",
   "metadata": {},
   "outputs": [
    {
     "name": "stdout",
     "output_type": "stream",
     "text": [
      "0\n"
     ]
    }
   ],
   "source": [
    "# 1. Try-except만 쓰는 방법\n",
    "try:\n",
    "    4/0\n",
    "except :\n",
    "    print(0)"
   ]
  },
  {
   "cell_type": "code",
   "execution_count": 89,
   "id": "cd60045e-e68a-442a-9e9e-ddbd714f2725",
   "metadata": {},
   "outputs": [
    {
     "ename": "ZeroDivisionError",
     "evalue": "division by zero",
     "output_type": "error",
     "traceback": [
      "\u001b[1;31m---------------------------------------------------------------------------\u001b[0m",
      "\u001b[1;31mZeroDivisionError\u001b[0m                         Traceback (most recent call last)",
      "Cell \u001b[1;32mIn[89], line 4\u001b[0m\n\u001b[0;32m      1\u001b[0m \u001b[38;5;66;03m## 2. 발생 오류만 포함한 except 문\u001b[39;00m\n\u001b[0;32m      3\u001b[0m \u001b[38;5;28;01mtry\u001b[39;00m:\n\u001b[1;32m----> 4\u001b[0m     \u001b[38;5;241m4\u001b[39m\u001b[38;5;241m/\u001b[39m\u001b[38;5;241m0\u001b[39m\n\u001b[0;32m      5\u001b[0m \u001b[38;5;28;01mexcept\u001b[39;00m \u001b[38;5;167;01mFileNotFoundError\u001b[39;00m \u001b[38;5;28;01mas\u001b[39;00m e :\n\u001b[0;32m      6\u001b[0m     \u001b[38;5;28mprint\u001b[39m(e)\n",
      "\u001b[1;31mZeroDivisionError\u001b[0m: division by zero"
     ]
    }
   ],
   "source": [
    "## 2. 발생 오류만 포함한 except 문\n",
    "\n",
    "try:\n",
    "    4/0\n",
    "except FileNotFoundError :\n",
    "    print(0)"
   ]
  },
  {
   "cell_type": "code",
   "execution_count": 90,
   "id": "5c7d9c9b-b873-47fa-8c50-35efe4345da8",
   "metadata": {},
   "outputs": [
    {
     "name": "stdout",
     "output_type": "stream",
     "text": [
      "division by zero\n"
     ]
    }
   ],
   "source": [
    "## 3. 발생 오류와 오류 변수까지 포함한 except 문\n",
    "\n",
    "try:\n",
    "    4/0\n",
    "except ZeroDivisionError as e :\n",
    "    print(e)"
   ]
  },
  {
   "cell_type": "code",
   "execution_count": null,
   "id": "e309456b-2ccf-4218-b5f3-664bb8f244b8",
   "metadata": {},
   "outputs": [],
   "source": [
    "## try-finally 문\n",
    "try:\n",
    "    f = open('foo.txt', 'w')\n",
    "    # 무언가를 수행한다.\n",
    "\n",
    "finally:\n",
    "    f.close()  # 중간에 오류가 발생하더라도 무조건 실행된다."
   ]
  },
  {
   "cell_type": "markdown",
   "id": "e1c4e44b-82b5-4c6d-9eaf-e1a91212417c",
   "metadata": {},
   "source": [
    "## 여러 개의 오류 처리하기"
   ]
  },
  {
   "cell_type": "code",
   "execution_count": null,
   "id": "0f227e71-759e-48c6-8dea-8cf9488c66f5",
   "metadata": {},
   "outputs": [],
   "source": [
    "try:\n",
    "    a = [1,2]\n",
    "    print(a[3])\n",
    "    4/0\n",
    "except ZeroDivisionError:\n",
    "    print(\"0으로 나눌 수 없습니다.\")\n",
    "except IndexError:\n",
    "    print(\"인덱싱 할 수 없습니다.\")"
   ]
  },
  {
   "cell_type": "markdown",
   "id": "df47abd1-0f5a-4995-b0c1-fe34cd7280d2",
   "metadata": {},
   "source": [
    "## Try - else 문"
   ]
  },
  {
   "cell_type": "code",
   "execution_count": 91,
   "id": "f9ae60c4-8a3c-4b0b-8016-fe39c3c02fc1",
   "metadata": {},
   "outputs": [
    {
     "name": "stdin",
     "output_type": "stream",
     "text": [
      "나이를 입력하세요:  30\n"
     ]
    },
    {
     "name": "stdout",
     "output_type": "stream",
     "text": [
      "환영합니다.\n"
     ]
    }
   ],
   "source": [
    "try:\n",
    "    age=int(input('나이를 입력하세요: '))\n",
    "except:\n",
    "    print('입력이 정확하지 않습니다.')\n",
    "else:\n",
    "    if age <= 18:\n",
    "        print('미성년자는 출입금지입니다.')\n",
    "    else:\n",
    "        print('환영합니다.')"
   ]
  },
  {
   "cell_type": "markdown",
   "id": "6d55b4d0-ab52-416c-acec-ed48c63bf1cb",
   "metadata": {},
   "source": [
    "## 오류 회피하기"
   ]
  },
  {
   "cell_type": "code",
   "execution_count": 92,
   "id": "b3866120-ea4c-42f9-8d2f-3ec8fc2bc6a6",
   "metadata": {},
   "outputs": [],
   "source": [
    "try:\n",
    "    f = open(\"나없는파일\", 'r')\n",
    "except FileNotFoundError:\n",
    "    pass"
   ]
  },
  {
   "cell_type": "markdown",
   "id": "9b97962b-31be-4ed1-87e6-e735247af14e",
   "metadata": {},
   "source": [
    "## 오류 일부러 발생시키기"
   ]
  },
  {
   "cell_type": "code",
   "execution_count": 93,
   "id": "25532f76-5e2b-498d-b485-057fe0d3cc94",
   "metadata": {},
   "outputs": [],
   "source": [
    "class Bird:\n",
    "    def fly(self):\n",
    "        raise NotImplementedError"
   ]
  },
  {
   "cell_type": "code",
   "execution_count": 94,
   "id": "6805e4be-d080-41c4-8388-0adc26ad1837",
   "metadata": {},
   "outputs": [],
   "source": [
    "class Eagle(Bird):\n",
    "    pass"
   ]
  },
  {
   "cell_type": "code",
   "execution_count": 95,
   "id": "8fc5d195-86e0-4627-a24e-a72a195dd157",
   "metadata": {},
   "outputs": [
    {
     "ename": "NotImplementedError",
     "evalue": "",
     "output_type": "error",
     "traceback": [
      "\u001b[1;31m---------------------------------------------------------------------------\u001b[0m",
      "\u001b[1;31mNotImplementedError\u001b[0m                       Traceback (most recent call last)",
      "Cell \u001b[1;32mIn[95], line 2\u001b[0m\n\u001b[0;32m      1\u001b[0m eagle \u001b[38;5;241m=\u001b[39m Eagle()\n\u001b[1;32m----> 2\u001b[0m eagle\u001b[38;5;241m.\u001b[39mfly()\n",
      "Cell \u001b[1;32mIn[93], line 3\u001b[0m, in \u001b[0;36mBird.fly\u001b[1;34m(self)\u001b[0m\n\u001b[0;32m      2\u001b[0m \u001b[38;5;28;01mdef\u001b[39;00m \u001b[38;5;21mfly\u001b[39m(\u001b[38;5;28mself\u001b[39m):\n\u001b[1;32m----> 3\u001b[0m     \u001b[38;5;28;01mraise\u001b[39;00m \u001b[38;5;167;01mNotImplementedError\u001b[39;00m\n",
      "\u001b[1;31mNotImplementedError\u001b[0m: "
     ]
    }
   ],
   "source": [
    "eagle = Eagle()\n",
    "eagle.fly()"
   ]
  },
  {
   "cell_type": "code",
   "execution_count": 96,
   "id": "7f8a5e62-0bd1-40d1-a346-0803ce0baf3a",
   "metadata": {},
   "outputs": [
    {
     "name": "stdout",
     "output_type": "stream",
     "text": [
      "very fast\n"
     ]
    }
   ],
   "source": [
    "class Eagle(Bird):\n",
    "    def fly(self):\n",
    "        print(\"very fast\")\n",
    "\n",
    "eagle = Eagle()\n",
    "eagle.fly()"
   ]
  },
  {
   "cell_type": "markdown",
   "id": "3afe245a-ebb5-43c0-8ce0-e8937f7ae22d",
   "metadata": {},
   "source": [
    "## 예외 만들기"
   ]
  },
  {
   "cell_type": "code",
   "execution_count": 97,
   "id": "61beda9c-fb63-420a-ac37-7d5370f8cef3",
   "metadata": {},
   "outputs": [],
   "source": [
    "class MyError(Exception):\n",
    "    pass"
   ]
  },
  {
   "cell_type": "code",
   "execution_count": 98,
   "id": "39ce452a-8acd-441e-a3ea-51ce69ffcaf3",
   "metadata": {},
   "outputs": [],
   "source": [
    "def say_nick(nick):\n",
    "    if nick == '바보':\n",
    "        raise MyError()\n",
    "    print(nick)"
   ]
  },
  {
   "cell_type": "code",
   "execution_count": 99,
   "id": "75a2a256-f95d-4672-b126-0698753e3a2d",
   "metadata": {},
   "outputs": [
    {
     "name": "stdout",
     "output_type": "stream",
     "text": [
      "천사\n"
     ]
    }
   ],
   "source": [
    "say_nick('천사')"
   ]
  },
  {
   "cell_type": "code",
   "execution_count": 100,
   "id": "b765c69c-73b2-4be8-b074-5ae2014e68d0",
   "metadata": {},
   "outputs": [
    {
     "ename": "MyError",
     "evalue": "",
     "output_type": "error",
     "traceback": [
      "\u001b[1;31m---------------------------------------------------------------------------\u001b[0m",
      "\u001b[1;31mMyError\u001b[0m                                   Traceback (most recent call last)",
      "Cell \u001b[1;32mIn[100], line 1\u001b[0m\n\u001b[1;32m----> 1\u001b[0m say_nick(\u001b[38;5;124m'\u001b[39m\u001b[38;5;124m바보\u001b[39m\u001b[38;5;124m'\u001b[39m)\n",
      "Cell \u001b[1;32mIn[98], line 3\u001b[0m, in \u001b[0;36msay_nick\u001b[1;34m(nick)\u001b[0m\n\u001b[0;32m      1\u001b[0m \u001b[38;5;28;01mdef\u001b[39;00m \u001b[38;5;21msay_nick\u001b[39m(nick):\n\u001b[0;32m      2\u001b[0m     \u001b[38;5;28;01mif\u001b[39;00m nick \u001b[38;5;241m==\u001b[39m \u001b[38;5;124m'\u001b[39m\u001b[38;5;124m바보\u001b[39m\u001b[38;5;124m'\u001b[39m:\n\u001b[1;32m----> 3\u001b[0m         \u001b[38;5;28;01mraise\u001b[39;00m MyError()\n\u001b[0;32m      4\u001b[0m     \u001b[38;5;28mprint\u001b[39m(nick)\n",
      "\u001b[1;31mMyError\u001b[0m: "
     ]
    }
   ],
   "source": [
    "say_nick('바보')"
   ]
  },
  {
   "cell_type": "code",
   "execution_count": 101,
   "id": "2e62c47a-a8df-4fcc-8de5-8c60e83236c6",
   "metadata": {},
   "outputs": [
    {
     "name": "stdout",
     "output_type": "stream",
     "text": [
      "천사\n",
      "허용되지 않는 별명입니다.\n"
     ]
    }
   ],
   "source": [
    "try:\n",
    "    say_nick(\"천사\")\n",
    "    say_nick(\"바보\")\n",
    "except MyError:\n",
    "    print(\"허용되지 않는 별명입니다.\")"
   ]
  },
  {
   "cell_type": "code",
   "execution_count": null,
   "id": "ecbcf615-a839-4bd2-ad9c-f504e7549ac4",
   "metadata": {},
   "outputs": [],
   "source": [
    "# quiz : 전화번호부 프로그램의 예외처리를 해보자\n",
    " -> 그리고 주변 사람들한테 사용법을 알려주지 않고 자랑했을 때 정상 동작을 달성하게 하"
   ]
  }
 ],
 "metadata": {
  "kernelspec": {
   "display_name": "Python 3 (ipykernel)",
   "language": "python",
   "name": "python3"
  },
  "language_info": {
   "codemirror_mode": {
    "name": "ipython",
    "version": 3
   },
   "file_extension": ".py",
   "mimetype": "text/x-python",
   "name": "python",
   "nbconvert_exporter": "python",
   "pygments_lexer": "ipython3",
   "version": "3.11.7"
  }
 },
 "nbformat": 4,
 "nbformat_minor": 5
}
