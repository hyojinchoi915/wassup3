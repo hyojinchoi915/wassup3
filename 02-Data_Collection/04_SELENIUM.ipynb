{
 "cells": [
  {
   "cell_type": "markdown",
   "id": "21cfa417-98c6-40b8-b4c4-144d8536e8f1",
   "metadata": {},
   "source": [
    "# Selenium 사용하기\n",
    "- 크롬 115이상 버전부터 부터 드라이버 설치 불필요\n",
    "- 셀레니움4 부터 문법 변경\n",
    "- https://www.selenium.dev/documentation/\n",
    "셀레니움으로는 스크래핑하면 너무 느리므로, 동적 웹페이지 접속 및 이벤트 발생 역할 만 하고, 파싱은 BS4를 쓰는게 좋다."
   ]
  },
  {
   "cell_type": "code",
   "execution_count": 2,
   "id": "22aff054-4d30-4d63-aea4-7d63c583f7ba",
   "metadata": {
    "collapsed": true,
    "jupyter": {
     "outputs_hidden": true
    }
   },
   "outputs": [
    {
     "name": "stdout",
     "output_type": "stream",
     "text": [
      "Collecting selenium\n",
      "  Downloading selenium-4.22.0-py3-none-any.whl.metadata (7.0 kB)\n",
      "Requirement already satisfied: urllib3<3,>=1.26 in c:\\users\\user\\anaconda3\\lib\\site-packages (from urllib3[socks]<3,>=1.26->selenium) (2.0.7)\n",
      "Collecting trio~=0.17 (from selenium)\n",
      "  Downloading trio-0.25.1-py3-none-any.whl.metadata (8.7 kB)\n",
      "Collecting trio-websocket~=0.9 (from selenium)\n",
      "  Downloading trio_websocket-0.11.1-py3-none-any.whl.metadata (4.7 kB)\n",
      "Requirement already satisfied: certifi>=2021.10.8 in c:\\users\\user\\anaconda3\\lib\\site-packages (from selenium) (2024.2.2)\n",
      "Requirement already satisfied: typing_extensions>=4.9.0 in c:\\users\\user\\anaconda3\\lib\\site-packages (from selenium) (4.9.0)\n",
      "Collecting websocket-client>=1.8.0 (from selenium)\n",
      "  Downloading websocket_client-1.8.0-py3-none-any.whl.metadata (8.0 kB)\n",
      "Collecting attrs>=23.2.0 (from trio~=0.17->selenium)\n",
      "  Downloading attrs-23.2.0-py3-none-any.whl.metadata (9.5 kB)\n",
      "Requirement already satisfied: sortedcontainers in c:\\users\\user\\anaconda3\\lib\\site-packages (from trio~=0.17->selenium) (2.4.0)\n",
      "Requirement already satisfied: idna in c:\\users\\user\\anaconda3\\lib\\site-packages (from trio~=0.17->selenium) (3.4)\n",
      "Collecting outcome (from trio~=0.17->selenium)\n",
      "  Downloading outcome-1.3.0.post0-py2.py3-none-any.whl.metadata (2.6 kB)\n",
      "Requirement already satisfied: sniffio>=1.3.0 in c:\\users\\user\\anaconda3\\lib\\site-packages (from trio~=0.17->selenium) (1.3.0)\n",
      "Requirement already satisfied: cffi>=1.14 in c:\\users\\user\\anaconda3\\lib\\site-packages (from trio~=0.17->selenium) (1.16.0)\n",
      "Collecting wsproto>=0.14 (from trio-websocket~=0.9->selenium)\n",
      "  Downloading wsproto-1.2.0-py3-none-any.whl.metadata (5.6 kB)\n",
      "Requirement already satisfied: pysocks!=1.5.7,<2.0,>=1.5.6 in c:\\users\\user\\anaconda3\\lib\\site-packages (from urllib3[socks]<3,>=1.26->selenium) (1.7.1)\n",
      "Requirement already satisfied: pycparser in c:\\users\\user\\anaconda3\\lib\\site-packages (from cffi>=1.14->trio~=0.17->selenium) (2.21)\n",
      "Collecting h11<1,>=0.9.0 (from wsproto>=0.14->trio-websocket~=0.9->selenium)\n",
      "  Downloading h11-0.14.0-py3-none-any.whl.metadata (8.2 kB)\n",
      "Downloading selenium-4.22.0-py3-none-any.whl (9.4 MB)\n",
      "   ---------------------------------------- 0.0/9.4 MB ? eta -:--:--\n",
      "   ---------------------------------------- 0.1/9.4 MB 4.1 MB/s eta 0:00:03\n",
      "   - -------------------------------------- 0.4/9.4 MB 6.1 MB/s eta 0:00:02\n",
      "   --- ------------------------------------ 0.9/9.4 MB 7.3 MB/s eta 0:00:02\n",
      "   --- ------------------------------------ 0.9/9.4 MB 7.3 MB/s eta 0:00:02\n",
      "   --- ------------------------------------ 0.9/9.4 MB 7.3 MB/s eta 0:00:02\n",
      "   ----- ---------------------------------- 1.4/9.4 MB 5.3 MB/s eta 0:00:02\n",
      "   -------- ------------------------------- 2.0/9.4 MB 6.3 MB/s eta 0:00:02\n",
      "   -------- ------------------------------- 2.0/9.4 MB 6.2 MB/s eta 0:00:02\n",
      "   --------- ------------------------------ 2.2/9.4 MB 5.6 MB/s eta 0:00:02\n",
      "   ----------- ---------------------------- 2.8/9.4 MB 6.4 MB/s eta 0:00:02\n",
      "   --------------- ------------------------ 3.6/9.4 MB 7.7 MB/s eta 0:00:01\n",
      "   ----------------- ---------------------- 4.2/9.4 MB 8.5 MB/s eta 0:00:01\n",
      "   ------------------ --------------------- 4.3/9.4 MB 7.9 MB/s eta 0:00:01\n",
      "   ------------------- -------------------- 4.6/9.4 MB 7.7 MB/s eta 0:00:01\n",
      "   --------------------- ------------------ 5.1/9.4 MB 7.9 MB/s eta 0:00:01\n",
      "   --------------------- ------------------ 5.1/9.4 MB 7.8 MB/s eta 0:00:01\n",
      "   --------------------- ------------------ 5.1/9.4 MB 7.8 MB/s eta 0:00:01\n",
      "   ----------------------- ---------------- 5.5/9.4 MB 7.1 MB/s eta 0:00:01\n",
      "   ------------------------ --------------- 5.7/9.4 MB 6.8 MB/s eta 0:00:01\n",
      "   ------------------------ --------------- 5.7/9.4 MB 6.6 MB/s eta 0:00:01\n",
      "   ------------------------ --------------- 5.7/9.4 MB 6.2 MB/s eta 0:00:01\n",
      "   ------------------------ --------------- 5.8/9.4 MB 6.1 MB/s eta 0:00:01\n",
      "   ------------------------ --------------- 5.8/9.4 MB 5.7 MB/s eta 0:00:01\n",
      "   ------------------------ --------------- 5.8/9.4 MB 5.6 MB/s eta 0:00:01\n",
      "   ------------------------ --------------- 5.8/9.4 MB 5.3 MB/s eta 0:00:01\n",
      "   ------------------------ --------------- 5.9/9.4 MB 5.2 MB/s eta 0:00:01\n",
      "   ------------------------- -------------- 5.9/9.4 MB 5.0 MB/s eta 0:00:01\n",
      "   ------------------------- -------------- 5.9/9.4 MB 4.7 MB/s eta 0:00:01\n",
      "   ------------------------- -------------- 6.0/9.4 MB 4.6 MB/s eta 0:00:01\n",
      "   ------------------------------ --------- 7.1/9.4 MB 5.2 MB/s eta 0:00:01\n",
      "   ------------------------------ --------- 7.3/9.4 MB 5.2 MB/s eta 0:00:01\n",
      "   ------------------------------ --------- 7.3/9.4 MB 5.1 MB/s eta 0:00:01\n",
      "   -------------------------------- ------- 7.8/9.4 MB 5.2 MB/s eta 0:00:01\n",
      "   -------------------------------- ------- 7.8/9.4 MB 5.2 MB/s eta 0:00:01\n",
      "   -------------------------------- ------- 7.8/9.4 MB 5.2 MB/s eta 0:00:01\n",
      "   ----------------------------------- ---- 8.3/9.4 MB 5.1 MB/s eta 0:00:01\n",
      "   ------------------------------------ --- 8.6/9.4 MB 5.1 MB/s eta 0:00:01\n",
      "   ------------------------------------ --- 8.6/9.4 MB 5.1 MB/s eta 0:00:01\n",
      "   ------------------------------------- -- 8.9/9.4 MB 5.1 MB/s eta 0:00:01\n",
      "   ------------------------------------- -- 8.9/9.4 MB 5.1 MB/s eta 0:00:01\n",
      "   ------------------------------------- -- 8.9/9.4 MB 5.1 MB/s eta 0:00:01\n",
      "   ------------------------------------- -- 8.9/9.4 MB 5.1 MB/s eta 0:00:01\n",
      "   ------------------------------------- -- 8.9/9.4 MB 5.1 MB/s eta 0:00:01\n",
      "   ------------------------------------- -- 8.9/9.4 MB 4.5 MB/s eta 0:00:01\n",
      "   ------------------------------------- -- 8.9/9.4 MB 4.5 MB/s eta 0:00:01\n",
      "   ------------------------------------- -- 8.9/9.4 MB 4.3 MB/s eta 0:00:01\n",
      "   ------------------------------------- -- 8.9/9.4 MB 4.3 MB/s eta 0:00:01\n",
      "   ------------------------------------- -- 8.9/9.4 MB 4.3 MB/s eta 0:00:01\n",
      "   ------------------------------------- -- 9.0/9.4 MB 4.0 MB/s eta 0:00:01\n",
      "   ------------------------------------- -- 9.0/9.4 MB 4.0 MB/s eta 0:00:01\n",
      "   ------------------------------------- -- 9.0/9.4 MB 4.0 MB/s eta 0:00:01\n",
      "   -------------------------------------- - 9.0/9.4 MB 3.8 MB/s eta 0:00:01\n",
      "   -------------------------------------- - 9.0/9.4 MB 3.8 MB/s eta 0:00:01\n",
      "   -------------------------------------- - 9.0/9.4 MB 3.8 MB/s eta 0:00:01\n",
      "   -------------------------------------- - 9.0/9.4 MB 3.8 MB/s eta 0:00:01\n",
      "   -------------------------------------- - 9.0/9.4 MB 3.5 MB/s eta 0:00:01\n",
      "   -------------------------------------- - 9.0/9.4 MB 3.5 MB/s eta 0:00:01\n",
      "   -------------------------------------- - 9.0/9.4 MB 3.5 MB/s eta 0:00:01\n",
      "   -------------------------------------- - 9.0/9.4 MB 3.3 MB/s eta 0:00:01\n",
      "   -------------------------------------- - 9.0/9.4 MB 3.3 MB/s eta 0:00:01\n",
      "   -------------------------------------- - 9.0/9.4 MB 3.3 MB/s eta 0:00:01\n",
      "   -------------------------------------- - 9.0/9.4 MB 3.3 MB/s eta 0:00:01\n",
      "   -------------------------------------- - 9.0/9.4 MB 3.1 MB/s eta 0:00:01\n",
      "   -------------------------------------- - 9.0/9.4 MB 3.1 MB/s eta 0:00:01\n",
      "   -------------------------------------- - 9.0/9.4 MB 3.0 MB/s eta 0:00:01\n",
      "   -------------------------------------- - 9.0/9.4 MB 3.0 MB/s eta 0:00:01\n",
      "   -------------------------------------- - 9.0/9.4 MB 3.0 MB/s eta 0:00:01\n",
      "   -------------------------------------- - 9.0/9.4 MB 3.0 MB/s eta 0:00:01\n",
      "   -------------------------------------- - 9.0/9.4 MB 3.0 MB/s eta 0:00:01\n",
      "   -------------------------------------- - 9.0/9.4 MB 3.0 MB/s eta 0:00:01\n",
      "   -------------------------------------- - 9.0/9.4 MB 3.0 MB/s eta 0:00:01\n",
      "   -------------------------------------- - 9.1/9.4 MB 2.7 MB/s eta 0:00:01\n",
      "   -------------------------------------- - 9.1/9.4 MB 2.7 MB/s eta 0:00:01\n",
      "   -------------------------------------- - 9.1/9.4 MB 2.7 MB/s eta 0:00:01\n",
      "   -------------------------------------- - 9.1/9.4 MB 2.7 MB/s eta 0:00:01\n",
      "   -------------------------------------- - 9.1/9.4 MB 2.7 MB/s eta 0:00:01\n",
      "   -------------------------------------- - 9.1/9.4 MB 2.6 MB/s eta 0:00:01\n",
      "   -------------------------------------- - 9.1/9.4 MB 2.6 MB/s eta 0:00:01\n",
      "   -------------------------------------- - 9.1/9.4 MB 2.6 MB/s eta 0:00:01\n",
      "   -------------------------------------- - 9.1/9.4 MB 2.6 MB/s eta 0:00:01\n",
      "   -------------------------------------- - 9.1/9.4 MB 2.5 MB/s eta 0:00:01\n",
      "   -------------------------------------- - 9.1/9.4 MB 2.5 MB/s eta 0:00:01\n",
      "   -------------------------------------- - 9.1/9.4 MB 2.5 MB/s eta 0:00:01\n",
      "   -------------------------------------- - 9.1/9.4 MB 2.5 MB/s eta 0:00:01\n",
      "   -------------------------------------- - 9.1/9.4 MB 2.5 MB/s eta 0:00:01\n",
      "   -------------------------------------- - 9.1/9.4 MB 2.3 MB/s eta 0:00:01\n",
      "   -------------------------------------- - 9.1/9.4 MB 2.3 MB/s eta 0:00:01\n",
      "   -------------------------------------- - 9.1/9.4 MB 2.3 MB/s eta 0:00:01\n",
      "   -------------------------------------- - 9.1/9.4 MB 2.3 MB/s eta 0:00:01\n",
      "   -------------------------------------- - 9.1/9.4 MB 2.3 MB/s eta 0:00:01\n",
      "   -------------------------------------- - 9.1/9.4 MB 2.3 MB/s eta 0:00:01\n",
      "   -------------------------------------- - 9.1/9.4 MB 2.3 MB/s eta 0:00:01\n",
      "   -------------------------------------- - 9.1/9.4 MB 2.2 MB/s eta 0:00:01\n",
      "   -------------------------------------- - 9.1/9.4 MB 2.2 MB/s eta 0:00:01\n",
      "   -------------------------------------- - 9.1/9.4 MB 2.2 MB/s eta 0:00:01\n",
      "   -------------------------------------- - 9.1/9.4 MB 2.2 MB/s eta 0:00:01\n",
      "   -------------------------------------- - 9.1/9.4 MB 2.1 MB/s eta 0:00:01\n",
      "   -------------------------------------- - 9.1/9.4 MB 2.1 MB/s eta 0:00:01\n",
      "   -------------------------------------- - 9.1/9.4 MB 2.1 MB/s eta 0:00:01\n",
      "   -------------------------------------- - 9.1/9.4 MB 2.1 MB/s eta 0:00:01\n",
      "   -------------------------------------- - 9.1/9.4 MB 2.1 MB/s eta 0:00:01\n",
      "   -------------------------------------- - 9.2/9.4 MB 2.0 MB/s eta 0:00:01\n",
      "   -------------------------------------- - 9.2/9.4 MB 2.0 MB/s eta 0:00:01\n",
      "   -------------------------------------- - 9.2/9.4 MB 2.0 MB/s eta 0:00:01\n",
      "   -------------------------------------- - 9.2/9.4 MB 1.9 MB/s eta 0:00:01\n",
      "   -------------------------------------- - 9.2/9.4 MB 1.9 MB/s eta 0:00:01\n",
      "   -------------------------------------- - 9.2/9.4 MB 1.9 MB/s eta 0:00:01\n",
      "   -------------------------------------- - 9.2/9.4 MB 1.9 MB/s eta 0:00:01\n",
      "   -------------------------------------- - 9.2/9.4 MB 1.9 MB/s eta 0:00:01\n",
      "   -------------------------------------- - 9.2/9.4 MB 1.9 MB/s eta 0:00:01\n",
      "   -------------------------------------- - 9.2/9.4 MB 1.9 MB/s eta 0:00:01\n",
      "   -------------------------------------- - 9.2/9.4 MB 1.8 MB/s eta 0:00:01\n",
      "   -------------------------------------- - 9.2/9.4 MB 1.8 MB/s eta 0:00:01\n",
      "   -------------------------------------- - 9.2/9.4 MB 1.8 MB/s eta 0:00:01\n",
      "   -------------------------------------- - 9.2/9.4 MB 1.8 MB/s eta 0:00:01\n",
      "   -------------------------------------- - 9.2/9.4 MB 1.8 MB/s eta 0:00:01\n",
      "   -------------------------------------- - 9.2/9.4 MB 1.8 MB/s eta 0:00:01\n",
      "   -------------------------------------- - 9.2/9.4 MB 1.8 MB/s eta 0:00:01\n",
      "   -------------------------------------- - 9.2/9.4 MB 1.8 MB/s eta 0:00:01\n",
      "   -------------------------------------- - 9.2/9.4 MB 1.8 MB/s eta 0:00:01\n",
      "   -------------------------------------- - 9.2/9.4 MB 1.8 MB/s eta 0:00:01\n",
      "   -------------------------------------- - 9.2/9.4 MB 1.8 MB/s eta 0:00:01\n",
      "   -------------------------------------- - 9.2/9.4 MB 1.8 MB/s eta 0:00:01\n",
      "   ---------------------------------------  9.2/9.4 MB 1.7 MB/s eta 0:00:01\n",
      "   ---------------------------------------  9.2/9.4 MB 1.6 MB/s eta 0:00:01\n",
      "   ---------------------------------------  9.3/9.4 MB 1.6 MB/s eta 0:00:01\n",
      "   ---------------------------------------  9.4/9.4 MB 1.7 MB/s eta 0:00:01\n",
      "   ---------------------------------------- 9.4/9.4 MB 1.7 MB/s eta 0:00:00\n",
      "Downloading trio-0.25.1-py3-none-any.whl (467 kB)\n",
      "   ---------------------------------------- 0.0/467.7 kB ? eta -:--:--\n",
      "   -- ------------------------------------- 30.7/467.7 kB 1.3 MB/s eta 0:00:01\n",
      "   ------- -------------------------------- 92.2/467.7 kB 1.3 MB/s eta 0:00:01\n",
      "   ---------------------------------------- 467.7/467.7 kB 4.9 MB/s eta 0:00:00\n",
      "Downloading trio_websocket-0.11.1-py3-none-any.whl (17 kB)\n",
      "Downloading websocket_client-1.8.0-py3-none-any.whl (58 kB)\n",
      "   ---------------------------------------- 0.0/58.8 kB ? eta -:--:--\n",
      "   ---------------------------------------- 58.8/58.8 kB ? eta 0:00:00\n",
      "Downloading attrs-23.2.0-py3-none-any.whl (60 kB)\n",
      "   ---------------------------------------- 0.0/60.8 kB ? eta -:--:--\n",
      "   ---------------------------------------- 60.8/60.8 kB ? eta 0:00:00\n",
      "Downloading wsproto-1.2.0-py3-none-any.whl (24 kB)\n",
      "Downloading outcome-1.3.0.post0-py2.py3-none-any.whl (10 kB)\n",
      "Downloading h11-0.14.0-py3-none-any.whl (58 kB)\n",
      "   ---------------------------------------- 0.0/58.3 kB ? eta -:--:--\n",
      "   ---------------------------------------- 58.3/58.3 kB ? eta 0:00:00\n",
      "Installing collected packages: websocket-client, h11, attrs, wsproto, outcome, trio, trio-websocket, selenium\n",
      "  Attempting uninstall: websocket-client\n",
      "    Found existing installation: websocket-client 0.58.0\n",
      "    Uninstalling websocket-client-0.58.0:\n",
      "      Successfully uninstalled websocket-client-0.58.0\n",
      "  Attempting uninstall: attrs\n",
      "    Found existing installation: attrs 23.1.0\n",
      "    Uninstalling attrs-23.1.0:\n",
      "      Successfully uninstalled attrs-23.1.0\n",
      "Successfully installed attrs-23.2.0 h11-0.14.0 outcome-1.3.0.post0 selenium-4.22.0 trio-0.25.1 trio-websocket-0.11.1 websocket-client-1.8.0 wsproto-1.2.0\n"
     ]
    }
   ],
   "source": [
    "# 셀레니움 라이브러리 설치\n",
    "!pip install selenium"
   ]
  },
  {
   "cell_type": "code",
   "execution_count": 6,
   "id": "7ff7f01b-ebf5-4f8d-9a15-9fdeb1772969",
   "metadata": {},
   "outputs": [
    {
     "data": {
      "text/plain": [
       "<selenium.webdriver.chrome.options.Options at 0x24f04ad7750>"
      ]
     },
     "execution_count": 6,
     "metadata": {},
     "output_type": "execute_result"
    }
   ],
   "source": [
    "from selenium import webdriver\n",
    "from selenium.webdriver.common.by import By\n",
    "from selenium.webdriver.chrome.options import Options\n",
    "import time\n",
    "\n",
    "# Options라는 객체를 option에 넣어둘것\n",
    "options = Options()\n",
    "options"
   ]
  },
  {
   "cell_type": "code",
   "execution_count": 7,
   "id": "5af4560d-76b9-4284-9653-db6493ccb58e",
   "metadata": {},
   "outputs": [],
   "source": [
    "options.add_experimental_option(\"detach\", True) #특정함수안에서  드라이버 생성시 함수종료될 때 브라우저 같이 종료되는 문제 대응"
   ]
  },
  {
   "cell_type": "markdown",
   "id": "3dc64283-ccbb-45d6-94e7-68f172ac8129",
   "metadata": {},
   "source": [
    "## 브라우저 실행 및 페이지 접속"
   ]
  },
  {
   "cell_type": "code",
   "execution_count": 9,
   "id": "7c954cce-c531-4333-b9ff-b52b96055c77",
   "metadata": {},
   "outputs": [],
   "source": [
    "url = 'http://naver.com'\n",
    "driver = webdriver.Chrome(options=options)"
   ]
  },
  {
   "cell_type": "code",
   "execution_count": 11,
   "id": "31046e89-02b7-47e8-bd99-904509d5d5c7",
   "metadata": {},
   "outputs": [],
   "source": [
    "#실행된 드라이버에 url을 넣어보자\n",
    "driver.get(url)\n",
    "time.sleep(2)"
   ]
  },
  {
   "cell_type": "markdown",
   "id": "234ed99a-9209-42ed-b811-3523af7759ee",
   "metadata": {},
   "source": [
    "## 상호작용"
   ]
  },
  {
   "cell_type": "code",
   "execution_count": 13,
   "id": "cc3dc264-29d0-451c-8266-4093b75b845a",
   "metadata": {},
   "outputs": [],
   "source": [
    "driver.back()"
   ]
  },
  {
   "cell_type": "code",
   "execution_count": 14,
   "id": "6b2b0aa9-4bec-47fd-ab11-265d87763810",
   "metadata": {},
   "outputs": [],
   "source": [
    "driver.forward()"
   ]
  },
  {
   "cell_type": "code",
   "execution_count": 15,
   "id": "ec63d25e-11e4-4fae-b2b7-0dba29ba78bc",
   "metadata": {},
   "outputs": [],
   "source": [
    "driver.refresh()"
   ]
  },
  {
   "cell_type": "markdown",
   "id": "b8212e41-306b-4b4a-941b-ea6e0a9ce7db",
   "metadata": {},
   "source": [
    "## 페이지 정보 가져오기"
   ]
  },
  {
   "cell_type": "code",
   "execution_count": 17,
   "id": "32cbf713-574b-4f24-b747-e2a5b9575d7a",
   "metadata": {},
   "outputs": [
    {
     "name": "stdout",
     "output_type": "stream",
     "text": [
      "NAVER https://www.naver.com/ 00BC6F60ACF23CF4EB1F37782AAD9A4F\n"
     ]
    }
   ],
   "source": [
    "title = driver.title # 탭에 대한 타이틀\n",
    "url = driver.current_url #현재 도메인 주소\n",
    "handle = driver.current_window_handle #윈도우 창에 대한 ID ->ID가 있다는 건 동시에 여러 개를 핸들링 할 수도 있음 \n",
    "print(title, url, handle)"
   ]
  },
  {
   "cell_type": "markdown",
   "id": "b1c02950-e9fd-4323-8c47-2f05b45cd00d",
   "metadata": {},
   "source": [
    "## HTML 요소 찾기\n",
    "네이버 검색창을 핸들링 해보자."
   ]
  },
  {
   "cell_type": "code",
   "execution_count": 18,
   "id": "43a16736-f788-42b0-9427-fa2488a6a9b9",
   "metadata": {},
   "outputs": [
    {
     "data": {
      "text/plain": [
       "\u001b[1;31mSignature:\u001b[0m \u001b[0mdriver\u001b[0m\u001b[1;33m.\u001b[0m\u001b[0mfind_element\u001b[0m\u001b[1;33m(\u001b[0m\u001b[0mby\u001b[0m\u001b[1;33m=\u001b[0m\u001b[1;34m'id'\u001b[0m\u001b[1;33m,\u001b[0m \u001b[0mvalue\u001b[0m\u001b[1;33m:\u001b[0m \u001b[0mOptional\u001b[0m\u001b[1;33m[\u001b[0m\u001b[0mstr\u001b[0m\u001b[1;33m]\u001b[0m \u001b[1;33m=\u001b[0m \u001b[1;32mNone\u001b[0m\u001b[1;33m)\u001b[0m \u001b[1;33m->\u001b[0m \u001b[0mselenium\u001b[0m\u001b[1;33m.\u001b[0m\u001b[0mwebdriver\u001b[0m\u001b[1;33m.\u001b[0m\u001b[0mremote\u001b[0m\u001b[1;33m.\u001b[0m\u001b[0mwebelement\u001b[0m\u001b[1;33m.\u001b[0m\u001b[0mWebElement\u001b[0m\u001b[1;33m\u001b[0m\u001b[1;33m\u001b[0m\u001b[0m\n",
       "\u001b[1;31mDocstring:\u001b[0m\n",
       "Find an element given a By strategy and locator.\n",
       "\n",
       ":Usage:\n",
       "    ::\n",
       "\n",
       "        element = driver.find_element(By.ID, 'foo')\n",
       "\n",
       ":rtype: WebElement\n",
       "\u001b[1;31mFile:\u001b[0m      c:\\users\\user\\anaconda3\\lib\\site-packages\\selenium\\webdriver\\remote\\webdriver.py\n",
       "\u001b[1;31mType:\u001b[0m      method"
      ]
     },
     "metadata": {},
     "output_type": "display_data"
    }
   ],
   "source": [
    "driver.find_element?"
   ]
  },
  {
   "cell_type": "code",
   "execution_count": null,
   "id": "c6ecdb8c-4ef2-401e-ae43-a78523cb07c1",
   "metadata": {},
   "outputs": [],
   "source": [
    "# f12를 눌러서 검색창의 태그 요소를 찾아보자.\n",
    "<input id=\"query\" name=\"query\" type=\"search\" title=\"검색어를 입력해 주세요.\" placeholder=\"검색어를 입력해 주세요.\" maxlength=\"255\" autocomplete=\"off\" class=\"search_input\" data-atcmp-element=\"\">"
   ]
  },
  {
   "cell_type": "code",
   "execution_count": 20,
   "id": "a8487575-650c-4aae-b21a-c9efc0b8aa3c",
   "metadata": {},
   "outputs": [
    {
     "data": {
      "text/plain": [
       "<selenium.webdriver.remote.webelement.WebElement (session=\"a2b10db7a099178a9295e4da2bccd173\", element=\"f.00BC6F60ACF23CF4EB1F37782AAD9A4F.d.AAD3CFE29BA276666EBCA5BD826D75D4.e.57\")>"
      ]
     },
     "execution_count": 20,
     "metadata": {},
     "output_type": "execute_result"
    }
   ],
   "source": [
    "driver.find_element(By.ID, 'query')"
   ]
  },
  {
   "cell_type": "code",
   "execution_count": 22,
   "id": "97aaa29f-061f-4e18-ab3c-28deaac744e4",
   "metadata": {},
   "outputs": [],
   "source": [
    "# 위에서 찾아준 객체에 키를 입력해주자.\n",
    "# 객체는 항상 메서드를 가지고 있음\n",
    "driver.find_element(By.ID, 'query').send_keys('뉴진스')\n",
    "#검색창에 뉴진스가 들어간다!"
   ]
  },
  {
   "cell_type": "code",
   "execution_count": 23,
   "id": "b1368f3a-5f8f-4152-95ac-00580d1b33bf",
   "metadata": {},
   "outputs": [],
   "source": [
    "driver.find_element(By.CLASS_NAME, 'search_input').send_keys('블랙핑크')"
   ]
  },
  {
   "cell_type": "code",
   "execution_count": 24,
   "id": "9bc24f51-5f61-43e3-9a6f-4eecb3e953b3",
   "metadata": {},
   "outputs": [],
   "source": [
    "driver.find_element(By.NAME, 'query').send_keys('르세라핌')"
   ]
  },
  {
   "cell_type": "code",
   "execution_count": 25,
   "id": "d5b09306-2fe9-4898-955a-7f64998f3a4f",
   "metadata": {},
   "outputs": [],
   "source": [
    "#CSS 셀렉터로도 가능하다.\n",
    "driver.find_element(By.CSS_SELECTOR, '#query').send_keys('에스파')"
   ]
  },
  {
   "cell_type": "code",
   "execution_count": 26,
   "id": "bbbd3c90-5503-460a-9d25-387d7d577634",
   "metadata": {},
   "outputs": [],
   "source": [
    "driver.find_element(By.CSS_SELECTOR, '.search_input').send_keys('세븐틴')"
   ]
  },
  {
   "cell_type": "code",
   "execution_count": 27,
   "id": "84eb0dee-64c9-40f5-8d4a-6414a50bac3f",
   "metadata": {},
   "outputs": [],
   "source": [
    "driver.find_element(By.CSS_SELECTOR, \"[title='검색어를 입력해 주세요.']\").send_keys('트와이스')"
   ]
  },
  {
   "cell_type": "code",
   "execution_count": 29,
   "id": "59b8162f-e03e-4656-aa25-22afbbca82ae",
   "metadata": {},
   "outputs": [],
   "source": [
    "#이도저도 아닐땐 xpath -> f12로 찾아놓은 태그에 우클릭 >copy >copy xpath\n",
    "driver.find_element(By.XPATH, '//*[@id=\"query\"]').send_keys('BTS')"
   ]
  },
  {
   "cell_type": "markdown",
   "id": "0a1f6aa5-31d9-4894-bb9b-e40017bc7db8",
   "metadata": {},
   "source": [
    "## 클릭\n",
    "네이버 쇼핑 메뉴를 클릭해보자."
   ]
  },
  {
   "cell_type": "code",
   "execution_count": 32,
   "id": "50264f28-e52d-4ca7-b27d-5a2f08f1d06d",
   "metadata": {},
   "outputs": [
    {
     "data": {
      "text/plain": [
       "<selenium.webdriver.remote.webelement.WebElement (session=\"a2b10db7a099178a9295e4da2bccd173\", element=\"f.00BC6F60ACF23CF4EB1F37782AAD9A4F.d.AAD3CFE29BA276666EBCA5BD826D75D4.e.490\")>"
      ]
     },
     "execution_count": 32,
     "metadata": {},
     "output_type": "execute_result"
    }
   ],
   "source": [
    "driver.find_element(By.LINK_TEXT, '쇼핑')\n",
    "# 해당 텍스트가 있는 객체를 찾아줘"
   ]
  },
  {
   "cell_type": "code",
   "execution_count": 35,
   "id": "c14db0df-0fc6-4268-a0c4-e1d27ef4fc27",
   "metadata": {
    "scrolled": true
   },
   "outputs": [],
   "source": [
    "driver.find_element(By.LINK_TEXT, '쇼핑').click()"
   ]
  },
  {
   "cell_type": "code",
   "execution_count": 36,
   "id": "09b7b182-b6db-4d77-b97e-30f6d7136de4",
   "metadata": {},
   "outputs": [],
   "source": [
    "# 일부 매칭\n",
    "driver.find_element(By.PARTIAL_LINK_TEXT, '증').click()"
   ]
  },
  {
   "cell_type": "code",
   "execution_count": 38,
   "id": "fce11484-9235-41c8-ab47-52082b431f3b",
   "metadata": {},
   "outputs": [
    {
     "data": {
      "text/plain": [
       "<selenium.webdriver.remote.webelement.WebElement (session=\"a2b10db7a099178a9295e4da2bccd173\", element=\"f.00BC6F60ACF23CF4EB1F37782AAD9A4F.d.AAD3CFE29BA276666EBCA5BD826D75D4.e.175\")>"
      ]
     },
     "execution_count": 38,
     "metadata": {},
     "output_type": "execute_result"
    }
   ],
   "source": [
    "# 태그로 찾기\n",
    "# 태그는 요소가 너무 많으므로 정확하게 대상을 찾을 때에는 권장 안함\n",
    "driver.find_element(By.TAG_NAME, 'div')"
   ]
  },
  {
   "cell_type": "code",
   "execution_count": 39,
   "id": "70b33532-a688-4a6e-b37c-2eff500e9e18",
   "metadata": {
    "collapsed": true,
    "jupyter": {
     "outputs_hidden": true
    }
   },
   "outputs": [
    {
     "data": {
      "text/plain": [
       "[<selenium.webdriver.remote.webelement.WebElement (session=\"a2b10db7a099178a9295e4da2bccd173\", element=\"f.00BC6F60ACF23CF4EB1F37782AAD9A4F.d.AAD3CFE29BA276666EBCA5BD826D75D4.e.475\")>,\n",
       " <selenium.webdriver.remote.webelement.WebElement (session=\"a2b10db7a099178a9295e4da2bccd173\", element=\"f.00BC6F60ACF23CF4EB1F37782AAD9A4F.d.AAD3CFE29BA276666EBCA5BD826D75D4.e.480\")>,\n",
       " <selenium.webdriver.remote.webelement.WebElement (session=\"a2b10db7a099178a9295e4da2bccd173\", element=\"f.00BC6F60ACF23CF4EB1F37782AAD9A4F.d.AAD3CFE29BA276666EBCA5BD826D75D4.e.485\")>,\n",
       " <selenium.webdriver.remote.webelement.WebElement (session=\"a2b10db7a099178a9295e4da2bccd173\", element=\"f.00BC6F60ACF23CF4EB1F37782AAD9A4F.d.AAD3CFE29BA276666EBCA5BD826D75D4.e.490\")>,\n",
       " <selenium.webdriver.remote.webelement.WebElement (session=\"a2b10db7a099178a9295e4da2bccd173\", element=\"f.00BC6F60ACF23CF4EB1F37782AAD9A4F.d.AAD3CFE29BA276666EBCA5BD826D75D4.e.495\")>,\n",
       " <selenium.webdriver.remote.webelement.WebElement (session=\"a2b10db7a099178a9295e4da2bccd173\", element=\"f.00BC6F60ACF23CF4EB1F37782AAD9A4F.d.AAD3CFE29BA276666EBCA5BD826D75D4.e.500\")>,\n",
       " <selenium.webdriver.remote.webelement.WebElement (session=\"a2b10db7a099178a9295e4da2bccd173\", element=\"f.00BC6F60ACF23CF4EB1F37782AAD9A4F.d.AAD3CFE29BA276666EBCA5BD826D75D4.e.505\")>,\n",
       " <selenium.webdriver.remote.webelement.WebElement (session=\"a2b10db7a099178a9295e4da2bccd173\", element=\"f.00BC6F60ACF23CF4EB1F37782AAD9A4F.d.AAD3CFE29BA276666EBCA5BD826D75D4.e.510\")>,\n",
       " <selenium.webdriver.remote.webelement.WebElement (session=\"a2b10db7a099178a9295e4da2bccd173\", element=\"f.00BC6F60ACF23CF4EB1F37782AAD9A4F.d.AAD3CFE29BA276666EBCA5BD826D75D4.e.515\")>,\n",
       " <selenium.webdriver.remote.webelement.WebElement (session=\"a2b10db7a099178a9295e4da2bccd173\", element=\"f.00BC6F60ACF23CF4EB1F37782AAD9A4F.d.AAD3CFE29BA276666EBCA5BD826D75D4.e.520\")>,\n",
       " <selenium.webdriver.remote.webelement.WebElement (session=\"a2b10db7a099178a9295e4da2bccd173\", element=\"f.00BC6F60ACF23CF4EB1F37782AAD9A4F.d.AAD3CFE29BA276666EBCA5BD826D75D4.e.526\")>,\n",
       " <selenium.webdriver.remote.webelement.WebElement (session=\"a2b10db7a099178a9295e4da2bccd173\", element=\"f.00BC6F60ACF23CF4EB1F37782AAD9A4F.d.AAD3CFE29BA276666EBCA5BD826D75D4.e.531\")>]"
      ]
     },
     "execution_count": 39,
     "metadata": {},
     "output_type": "execute_result"
    }
   ],
   "source": [
    "# 여러 개의 요소를 찾을 때\n",
    "driver.find_elements(By.CSS_SELECTOR, '.link_service')"
   ]
  },
  {
   "cell_type": "code",
   "execution_count": 40,
   "id": "4f90230f-ef74-45be-8429-dbab28f147ed",
   "metadata": {},
   "outputs": [
    {
     "data": {
      "text/plain": [
       "'https://mail.naver.com/'"
      ]
     },
     "execution_count": 40,
     "metadata": {},
     "output_type": "execute_result"
    }
   ],
   "source": [
    "# 첫 번째 요소 뽑아오기\n",
    "driver.find_elements(By.CSS_SELECTOR, '.link_service')[0].get_attribute('href')"
   ]
  },
  {
   "cell_type": "code",
   "execution_count": 44,
   "id": "ea72b29f-8dbd-4c39-ae40-ff3ea4bb92d3",
   "metadata": {
    "collapsed": true,
    "jupyter": {
     "outputs_hidden": true
    }
   },
   "outputs": [
    {
     "name": "stdout",
     "output_type": "stream",
     "text": [
      "https://mail.naver.com/\n",
      "https://cafe.naver.com/\n",
      "https://blog.naver.com/\n",
      "https://shopping.naver.com/home\n",
      "https://news.naver.com/\n",
      "https://finance.naver.com/\n",
      "https://land.naver.com/\n",
      "https://map.naver.com/\n",
      "https://comic.naver.com/\n",
      "https://chzzk.naver.com/\n",
      "https://www.naver.com/#\n",
      "https://siape.veta.naver.com/rd?rk=l8JnXb-AA8MpVNDWnM91aw&eltts=DCLofzx%2Ffvc9VJBuHZSoBg%3D%3D&elu=5BA297C9C3C09BC2A363AD20A2AF2280AA600BB0F1224856B1E3B0CD8C7D5F6341BB3F4A77A5F39CD5816E901BFB74C92B046500D36C473274A2DF28B9D9C604F0D8675FDAF22A996AAEFDEE92BA1FCD697E5F7ECC82BD74C279AA95D9F31FA9106C54B228F25590EF823CA4768D6219CE38D6604E0A5B1E37F2638BC6781F9C11558072D11F35C32974B5BB046BA45A07622F9BABB7473FC14AA7FD36BB50D4C307E017657B6DA136AEBAC7EC891C9F5A5055A972A333181061B1E2DFE2FFA222D84ADDACB9E6F9A16E1D652D3EB8C135B6437DC7CF883F1EC60C9651D1C4C8275A98C850A13EBB65F5FD32FB60BCB30C5AAF736F12400C4367DD0044542B197217E62475235BEA68AE097A170AD5A51C9BA44515B9413323BB5209DB9989423CBE869AF6166CD217D8BCE67BD4C347A770EFF33A787CD5B717D9E0272BB73CAC78F645B2BFA01A917F4F9D04227106B8DDBDF0198AA39CF0630EE44B85EA2214A5DCF9756E8174E98321FF3E1C85C21BE32BC7EF47224CE9A8B79B0B4B1628&tr=ndp\n"
     ]
    }
   ],
   "source": [
    "list = driver.find_elements(By.CSS_SELECTOR, '.link_service')\n",
    "for a in list :\n",
    "    print(a.get_attribute('href'))"
   ]
  },
  {
   "cell_type": "markdown",
   "id": "2df2b07b-03d7-4abd-97f0-84811059e601",
   "metadata": {},
   "source": [
    "## 자동 로그인 연습"
   ]
  },
  {
   "cell_type": "code",
   "execution_count": 47,
   "id": "bc9b6643-268a-4205-8b99-e395d71e3a92",
   "metadata": {},
   "outputs": [],
   "source": [
    "# 테스트용 html\n",
    "url = 'file:///C:/workspace/wassup3/02-Data_Collection/sample/signin.html'\n",
    "driver = webdriver.Chrome(options=options)\n",
    "driver.get(url)\n",
    "time.sleep(2)"
   ]
  },
  {
   "cell_type": "code",
   "execution_count": 62,
   "id": "27afd672-ca37-4fda-adf7-e468e556cf56",
   "metadata": {},
   "outputs": [],
   "source": [
    "# ID에 코리아라고 입력해보기\n",
    "username = driver.find_element(By.NAME, 'username')\n",
    "username.send_keys('korea')"
   ]
  },
  {
   "cell_type": "code",
   "execution_count": 58,
   "id": "d07eeb32-1f6a-419e-91e1-c6993463b151",
   "metadata": {},
   "outputs": [],
   "source": [
    "password = driver.find_element(By.NAME, 'password')\n",
    "password.send_keys('1234')"
   ]
  },
  {
   "cell_type": "code",
   "execution_count": 52,
   "id": "9d453aea-5184-401a-8a79-bb0e97992ea4",
   "metadata": {},
   "outputs": [],
   "source": [
    "# 클릭\n",
    "login = driver.find_element(By.XPATH, '//*[@id=\"loginForm\"]/input[3]')\n",
    "login.click()"
   ]
  },
  {
   "cell_type": "code",
   "execution_count": 53,
   "id": "333f231f-a63a-4032-a9d3-a67c3c1ec06f",
   "metadata": {},
   "outputs": [],
   "source": [
    "driver.back()"
   ]
  },
  {
   "cell_type": "code",
   "execution_count": 56,
   "id": "9e1c5c49-5a4c-4786-a043-e4e77a175091",
   "metadata": {},
   "outputs": [],
   "source": [
    "#클릭을 css 셀렉터로 해보기\n",
    "login = driver.find_element(By.CSS_SELECTOR, '[value=Login]')\n",
    "login.click()"
   ]
  },
  {
   "cell_type": "code",
   "execution_count": 57,
   "id": "40885381-3992-41e5-a14a-59bde57a1797",
   "metadata": {},
   "outputs": [],
   "source": [
    "driver.back()"
   ]
  },
  {
   "cell_type": "code",
   "execution_count": 63,
   "id": "7c3c5db3-8024-426f-a397-c324acdc801c",
   "metadata": {},
   "outputs": [],
   "source": [
    "username.clear()"
   ]
  },
  {
   "cell_type": "code",
   "execution_count": 61,
   "id": "8218e3fb-43e4-4ca3-8fa5-02a78148215a",
   "metadata": {},
   "outputs": [],
   "source": [
    "password.clear()"
   ]
  },
  {
   "cell_type": "code",
   "execution_count": 64,
   "id": "ff17103c-5403-485e-b187-2d6f9826cc8b",
   "metadata": {},
   "outputs": [],
   "source": [
    "#submit이 있어서 간단하게 이렇게 해줄수도 있음\n",
    "username.submit()"
   ]
  },
  {
   "cell_type": "code",
   "execution_count": 65,
   "id": "5739ec81-cc7f-440a-b632-1b3f8791f368",
   "metadata": {},
   "outputs": [],
   "source": [
    "driver.back()"
   ]
  },
  {
   "cell_type": "code",
   "execution_count": 66,
   "id": "3b462c8d-fa12-4fb9-8036-9fd1508856fd",
   "metadata": {},
   "outputs": [
    {
     "data": {
      "text/plain": [
       "'Are you sure you want to do this?'"
      ]
     },
     "execution_count": 66,
     "metadata": {},
     "output_type": "execute_result"
    }
   ],
   "source": [
    "driver.find_element(By.TAG_NAME, 'p').text"
   ]
  },
  {
   "cell_type": "code",
   "execution_count": 67,
   "id": "0f7ae433-8212-4e51-b694-b6405477a005",
   "metadata": {},
   "outputs": [
    {
     "data": {
      "text/plain": [
       "'<html><head></head><body>\\n        <h1> Sign In </h1>\\n        <form action=\"moved.html\" id=\"loginForm\">\\n            ID : <input name=\"username\" type=\"text\"> <br>\\n            Password : <input name=\"password\" type=\"password\"> <br>\\n\\n            <input name=\"continue\" type=\"submit\" value=\"Login\">\\n            <input name=\"continue\" type=\"button\" value=\"Clear\">\\n        \\n        </form>\\n\\n        <p>Are you sure you want to do this?</p>\\n        <a href=\"continue.html\">Continue</a>\\n        <a href=\"cancel.html\">Cancel</a>\\n\\n        <h1>Welcome</h1>\\n        <p>Site content goes here.</p>\\n        <p class=\"content\">Site content goes here.</p>\\n    \\n</body></html>'"
      ]
     },
     "execution_count": 67,
     "metadata": {},
     "output_type": "execute_result"
    }
   ],
   "source": [
    "# html 소스 추출하기\n",
    "driver.page_source"
   ]
  },
  {
   "cell_type": "code",
   "execution_count": 68,
   "id": "d3ceb530-799a-4f8c-894e-eab63f411349",
   "metadata": {
    "collapsed": true,
    "jupyter": {
     "outputs_hidden": true
    }
   },
   "outputs": [
    {
     "ename": "WebDriverException",
     "evalue": "Message: disconnected: not connected to DevTools\n  (failed to check if window was closed: disconnected: not connected to DevTools)\n  (Session info: chrome=126.0.6478.63)\nStacktrace:\n\tGetHandleVerifier [0x00007FF7C2CF3E32+31618]\n\t(No symbol) [0x00007FF7C2C6B099]\n\t(No symbol) [0x00007FF7C2B2888A]\n\t(No symbol) [0x00007FF7C2B0EA5F]\n\t(No symbol) [0x00007FF7C2B0F5CF]\n\t(No symbol) [0x00007FF7C2B28EB3]\n\t(No symbol) [0x00007FF7C2AFD5CC]\n\t(No symbol) [0x00007FF7C2BAC5C7]\n\t(No symbol) [0x00007FF7C2BABFC9]\n\t(No symbol) [0x00007FF7C2B9D0D0]\n\t(No symbol) [0x00007FF7C2B6A46B]\n\t(No symbol) [0x00007FF7C2B6B001]\n\tGetHandleVerifier [0x00007FF7C2FF9FFD+3202381]\n\tGetHandleVerifier [0x00007FF7C3046A1D+3516269]\n\tGetHandleVerifier [0x00007FF7C303C490+3473888]\n\tGetHandleVerifier [0x00007FF7C2DA5D36+760454]\n\t(No symbol) [0x00007FF7C2C76B3F]\n\t(No symbol) [0x00007FF7C2C71CD4]\n\t(No symbol) [0x00007FF7C2C71E62]\n\t(No symbol) [0x00007FF7C2C6120F]\n\tBaseThreadInitThunk [0x00007FF8A575257D+29]\n\tRtlUserThreadStart [0x00007FF8A690AA48+40]\n",
     "output_type": "error",
     "traceback": [
      "\u001b[1;31m---------------------------------------------------------------------------\u001b[0m",
      "\u001b[1;31mWebDriverException\u001b[0m                        Traceback (most recent call last)",
      "Cell \u001b[1;32mIn[68], line 1\u001b[0m\n\u001b[1;32m----> 1\u001b[0m driver\u001b[38;5;241m.\u001b[39mclose()\n",
      "File \u001b[1;32m~\\anaconda3\\Lib\\site-packages\\selenium\\webdriver\\remote\\webdriver.py:465\u001b[0m, in \u001b[0;36mWebDriver.close\u001b[1;34m(self)\u001b[0m\n\u001b[0;32m    457\u001b[0m \u001b[38;5;28;01mdef\u001b[39;00m \u001b[38;5;21mclose\u001b[39m(\u001b[38;5;28mself\u001b[39m) \u001b[38;5;241m-\u001b[39m\u001b[38;5;241m>\u001b[39m \u001b[38;5;28;01mNone\u001b[39;00m:\n\u001b[0;32m    458\u001b[0m \u001b[38;5;250m    \u001b[39m\u001b[38;5;124;03m\"\"\"Closes the current window.\u001b[39;00m\n\u001b[0;32m    459\u001b[0m \n\u001b[0;32m    460\u001b[0m \u001b[38;5;124;03m    :Usage:\u001b[39;00m\n\u001b[1;32m   (...)\u001b[0m\n\u001b[0;32m    463\u001b[0m \u001b[38;5;124;03m            driver.close()\u001b[39;00m\n\u001b[0;32m    464\u001b[0m \u001b[38;5;124;03m    \"\"\"\u001b[39;00m\n\u001b[1;32m--> 465\u001b[0m     \u001b[38;5;28mself\u001b[39m\u001b[38;5;241m.\u001b[39mexecute(Command\u001b[38;5;241m.\u001b[39mCLOSE)\n",
      "File \u001b[1;32m~\\anaconda3\\Lib\\site-packages\\selenium\\webdriver\\remote\\webdriver.py:354\u001b[0m, in \u001b[0;36mWebDriver.execute\u001b[1;34m(self, driver_command, params)\u001b[0m\n\u001b[0;32m    352\u001b[0m response \u001b[38;5;241m=\u001b[39m \u001b[38;5;28mself\u001b[39m\u001b[38;5;241m.\u001b[39mcommand_executor\u001b[38;5;241m.\u001b[39mexecute(driver_command, params)\n\u001b[0;32m    353\u001b[0m \u001b[38;5;28;01mif\u001b[39;00m response:\n\u001b[1;32m--> 354\u001b[0m     \u001b[38;5;28mself\u001b[39m\u001b[38;5;241m.\u001b[39merror_handler\u001b[38;5;241m.\u001b[39mcheck_response(response)\n\u001b[0;32m    355\u001b[0m     response[\u001b[38;5;124m\"\u001b[39m\u001b[38;5;124mvalue\u001b[39m\u001b[38;5;124m\"\u001b[39m] \u001b[38;5;241m=\u001b[39m \u001b[38;5;28mself\u001b[39m\u001b[38;5;241m.\u001b[39m_unwrap_value(response\u001b[38;5;241m.\u001b[39mget(\u001b[38;5;124m\"\u001b[39m\u001b[38;5;124mvalue\u001b[39m\u001b[38;5;124m\"\u001b[39m, \u001b[38;5;28;01mNone\u001b[39;00m))\n\u001b[0;32m    356\u001b[0m     \u001b[38;5;28;01mreturn\u001b[39;00m response\n",
      "File \u001b[1;32m~\\anaconda3\\Lib\\site-packages\\selenium\\webdriver\\remote\\errorhandler.py:229\u001b[0m, in \u001b[0;36mErrorHandler.check_response\u001b[1;34m(self, response)\u001b[0m\n\u001b[0;32m    227\u001b[0m         alert_text \u001b[38;5;241m=\u001b[39m value[\u001b[38;5;124m\"\u001b[39m\u001b[38;5;124malert\u001b[39m\u001b[38;5;124m\"\u001b[39m]\u001b[38;5;241m.\u001b[39mget(\u001b[38;5;124m\"\u001b[39m\u001b[38;5;124mtext\u001b[39m\u001b[38;5;124m\"\u001b[39m)\n\u001b[0;32m    228\u001b[0m     \u001b[38;5;28;01mraise\u001b[39;00m exception_class(message, screen, stacktrace, alert_text)  \u001b[38;5;66;03m# type: ignore[call-arg]  # mypy is not smart enough here\u001b[39;00m\n\u001b[1;32m--> 229\u001b[0m \u001b[38;5;28;01mraise\u001b[39;00m exception_class(message, screen, stacktrace)\n",
      "\u001b[1;31mWebDriverException\u001b[0m: Message: disconnected: not connected to DevTools\n  (failed to check if window was closed: disconnected: not connected to DevTools)\n  (Session info: chrome=126.0.6478.63)\nStacktrace:\n\tGetHandleVerifier [0x00007FF7C2CF3E32+31618]\n\t(No symbol) [0x00007FF7C2C6B099]\n\t(No symbol) [0x00007FF7C2B2888A]\n\t(No symbol) [0x00007FF7C2B0EA5F]\n\t(No symbol) [0x00007FF7C2B0F5CF]\n\t(No symbol) [0x00007FF7C2B28EB3]\n\t(No symbol) [0x00007FF7C2AFD5CC]\n\t(No symbol) [0x00007FF7C2BAC5C7]\n\t(No symbol) [0x00007FF7C2BABFC9]\n\t(No symbol) [0x00007FF7C2B9D0D0]\n\t(No symbol) [0x00007FF7C2B6A46B]\n\t(No symbol) [0x00007FF7C2B6B001]\n\tGetHandleVerifier [0x00007FF7C2FF9FFD+3202381]\n\tGetHandleVerifier [0x00007FF7C3046A1D+3516269]\n\tGetHandleVerifier [0x00007FF7C303C490+3473888]\n\tGetHandleVerifier [0x00007FF7C2DA5D36+760454]\n\t(No symbol) [0x00007FF7C2C76B3F]\n\t(No symbol) [0x00007FF7C2C71CD4]\n\t(No symbol) [0x00007FF7C2C71E62]\n\t(No symbol) [0x00007FF7C2C6120F]\n\tBaseThreadInitThunk [0x00007FF8A575257D+29]\n\tRtlUserThreadStart [0x00007FF8A690AA48+40]\n"
     ]
    }
   ],
   "source": [
    "driver.close()"
   ]
  }
 ],
 "metadata": {
  "kernelspec": {
   "display_name": "Python 3 (ipykernel)",
   "language": "python",
   "name": "python3"
  },
  "language_info": {
   "codemirror_mode": {
    "name": "ipython",
    "version": 3
   },
   "file_extension": ".py",
   "mimetype": "text/x-python",
   "name": "python",
   "nbconvert_exporter": "python",
   "pygments_lexer": "ipython3",
   "version": "3.11.7"
  }
 },
 "nbformat": 4,
 "nbformat_minor": 5
}
